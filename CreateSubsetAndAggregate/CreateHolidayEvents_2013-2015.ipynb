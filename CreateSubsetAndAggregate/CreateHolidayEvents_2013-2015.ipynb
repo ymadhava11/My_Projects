{
 "cells": [
  {
   "cell_type": "markdown",
   "metadata": {},
   "source": [
    "<b>Create a subset of holidays_events table having data for the years 2013 to 2015 <br/>\n",
    "holidays_events_2013_2015.csv is the csv file for the created table</b>"
   ]
  },
  {
   "cell_type": "code",
   "execution_count": 1,
   "metadata": {
    "collapsed": true
   },
   "outputs": [],
   "source": [
    "from pyspark import SparkContext\n",
    "from pyspark import SQLContext\n",
    "sc = SparkContext()\n",
    "sqlContext = SQLContext(sc)\n",
    "from pyspark.sql import SparkSession\n",
    "sparkSession = SparkSession.builder.getOrCreate()\n",
    "\n",
    "from pyspark.sql.functions import col, countDistinct\n",
    "from pyspark.sql.functions import isnan, when, count, col"
   ]
  },
  {
   "cell_type": "code",
   "execution_count": 2,
   "metadata": {
    "collapsed": true
   },
   "outputs": [],
   "source": [
    "sdfHolidays_events = sqlContext.read.csv(\"/gl-capstone-data/Team6-C-Sep/Data/holidays_events.csv\",header = True,inferSchema = True)"
   ]
  },
  {
   "cell_type": "code",
   "execution_count": 3,
   "metadata": {},
   "outputs": [
    {
     "name": "stdout",
     "output_type": "stream",
     "text": [
      "root\n",
      " |-- date: timestamp (nullable = true)\n",
      " |-- type: string (nullable = true)\n",
      " |-- locale: string (nullable = true)\n",
      " |-- locale_name: string (nullable = true)\n",
      " |-- description: string (nullable = true)\n",
      " |-- transferred: boolean (nullable = true)\n",
      "\n"
     ]
    }
   ],
   "source": [
    "sdfHolidays_events.printSchema()"
   ]
  },
  {
   "cell_type": "code",
   "execution_count": 4,
   "metadata": {},
   "outputs": [
    {
     "data": {
      "text/plain": [
       "350"
      ]
     },
     "execution_count": 4,
     "metadata": {},
     "output_type": "execute_result"
    }
   ],
   "source": [
    "sdfHolidays_events.count()"
   ]
  },
  {
   "cell_type": "code",
   "execution_count": 5,
   "metadata": {
    "collapsed": true
   },
   "outputs": [],
   "source": [
    "sqlContext.registerDataFrameAsTable(sdfHolidays_events, \"sdfHolidays_eventsTbl\")"
   ]
  },
  {
   "cell_type": "code",
   "execution_count": 6,
   "metadata": {
    "collapsed": true
   },
   "outputs": [],
   "source": [
    "sdfHolidays_events_2013_2015 = sqlContext.sql(\"select *  from sdfHolidays_eventsTbl where date >= '2013-01-01 00:00:00' and date < '2016-01-01 00:00:00'\")"
   ]
  },
  {
   "cell_type": "code",
   "execution_count": 7,
   "metadata": {},
   "outputs": [
    {
     "data": {
      "text/plain": [
       "170"
      ]
     },
     "execution_count": 7,
     "metadata": {},
     "output_type": "execute_result"
    }
   ],
   "source": [
    "sdfHolidays_events_2013_2015.count()"
   ]
  },
  {
   "cell_type": "code",
   "execution_count": 8,
   "metadata": {},
   "outputs": [
    {
     "name": "stdout",
     "output_type": "stream",
     "text": [
      "+-------------------+--------+--------+-----------+--------------------+-----------+\n",
      "|               date|    type|  locale|locale_name|         description|transferred|\n",
      "+-------------------+--------+--------+-----------+--------------------+-----------+\n",
      "|2013-01-01 00:00:00| Holiday|National|    Ecuador|  Primer dia del ano|      false|\n",
      "|2013-01-05 00:00:00|Work Day|National|    Ecuador|Recupero puente N...|      false|\n",
      "|2013-01-12 00:00:00|Work Day|National|    Ecuador|Recupero puente p...|      false|\n",
      "|2013-02-11 00:00:00| Holiday|National|    Ecuador|            Carnaval|      false|\n",
      "|2013-02-12 00:00:00| Holiday|National|    Ecuador|            Carnaval|      false|\n",
      "+-------------------+--------+--------+-----------+--------------------+-----------+\n",
      "only showing top 5 rows\n",
      "\n"
     ]
    }
   ],
   "source": [
    "sdfHolidays_events_2013_2015.show(5)"
   ]
  },
  {
   "cell_type": "code",
   "execution_count": 10,
   "metadata": {},
   "outputs": [],
   "source": [
    "sdfHolidays_events_2013_2015.write.csv(\"/gl-capstone-data/Team6-C-Sep/Data/holidays_events_2013_2015.csv\", header=True)"
   ]
  },
  {
   "cell_type": "code",
   "execution_count": 11,
   "metadata": {
    "collapsed": true
   },
   "outputs": [],
   "source": [
    "sdfHolidays_events_2013_2015Reload = sqlContext.read.csv(\"/gl-capstone-data/Team6-C-Sep/Data/holidays_events_2013_2015.csv\",header = True,inferSchema = True)"
   ]
  },
  {
   "cell_type": "code",
   "execution_count": 12,
   "metadata": {},
   "outputs": [
    {
     "data": {
      "text/plain": [
       "170"
      ]
     },
     "execution_count": 12,
     "metadata": {},
     "output_type": "execute_result"
    }
   ],
   "source": [
    "sdfHolidays_events_2013_2015Reload.count()"
   ]
  },
  {
   "cell_type": "code",
   "execution_count": 13,
   "metadata": {},
   "outputs": [
    {
     "name": "stdout",
     "output_type": "stream",
     "text": [
      "root\n",
      " |-- date: timestamp (nullable = true)\n",
      " |-- type: string (nullable = true)\n",
      " |-- locale: string (nullable = true)\n",
      " |-- locale_name: string (nullable = true)\n",
      " |-- description: string (nullable = true)\n",
      " |-- transferred: boolean (nullable = true)\n",
      "\n"
     ]
    }
   ],
   "source": [
    "sdfHolidays_events_2013_2015Reload.printSchema()"
   ]
  },
  {
   "cell_type": "code",
   "execution_count": 14,
   "metadata": {},
   "outputs": [
    {
     "name": "stdout",
     "output_type": "stream",
     "text": [
      "+-------------------+--------+--------+-----------+--------------------+-----------+\n",
      "|               date|    type|  locale|locale_name|         description|transferred|\n",
      "+-------------------+--------+--------+-----------+--------------------+-----------+\n",
      "|2013-01-01 00:00:00| Holiday|National|    Ecuador|  Primer dia del ano|      false|\n",
      "|2013-01-05 00:00:00|Work Day|National|    Ecuador|Recupero puente N...|      false|\n",
      "|2013-01-12 00:00:00|Work Day|National|    Ecuador|Recupero puente p...|      false|\n",
      "|2013-02-11 00:00:00| Holiday|National|    Ecuador|            Carnaval|      false|\n",
      "|2013-02-12 00:00:00| Holiday|National|    Ecuador|            Carnaval|      false|\n",
      "+-------------------+--------+--------+-----------+--------------------+-----------+\n",
      "only showing top 5 rows\n",
      "\n",
      "None\n"
     ]
    }
   ],
   "source": [
    "print(sdfHolidays_events_2013_2015Reload.show(5))"
   ]
  },
  {
   "cell_type": "code",
   "execution_count": null,
   "metadata": {
    "collapsed": true
   },
   "outputs": [],
   "source": []
  }
 ],
 "metadata": {
  "kernelspec": {
   "display_name": "PySpark",
   "language": "python",
   "name": "pyspark"
  },
  "language_info": {
   "codemirror_mode": {
    "name": "ipython",
    "version": 2
   },
   "file_extension": ".py",
   "mimetype": "text/x-python",
   "name": "python",
   "nbconvert_exporter": "python",
   "pygments_lexer": "ipython2",
   "version": "2.7.14"
  }
 },
 "nbformat": 4,
 "nbformat_minor": 2
}
