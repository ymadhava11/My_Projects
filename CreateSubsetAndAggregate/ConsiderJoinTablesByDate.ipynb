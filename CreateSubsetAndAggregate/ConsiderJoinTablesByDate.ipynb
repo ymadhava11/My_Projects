{
 "cells": [
  {
   "cell_type": "code",
   "execution_count": 1,
   "metadata": {
    "collapsed": true
   },
   "outputs": [],
   "source": [
    "from pyspark import SparkContext\n",
    "from pyspark import SQLContext\n",
    "sc = SparkContext()\n",
    "sqlContext = SQLContext(sc)\n",
    "from pyspark.sql import SparkSession\n",
    "sparkSession = SparkSession.builder.getOrCreate()\n",
    "\n",
    "from pyspark.sql.functions import col, countDistinct\n",
    "from pyspark.sql.functions import isnan, when, count, col"
   ]
  },
  {
   "cell_type": "code",
   "execution_count": 2,
   "metadata": {
    "collapsed": true
   },
   "outputs": [],
   "source": [
    "sdfTrain = sqlContext.read.csv(\"/gl-capstone-data/Team6-C-Sep/Data/train_store44_with_items.csv\",header = True,inferSchema = True)"
   ]
  },
  {
   "cell_type": "code",
   "execution_count": 4,
   "metadata": {},
   "outputs": [
    {
     "data": {
      "text/plain": [
       "1913387"
      ]
     },
     "execution_count": 4,
     "metadata": {},
     "output_type": "execute_result"
    }
   ],
   "source": [
    "sdfTrain.count()"
   ]
  },
  {
   "cell_type": "code",
   "execution_count": 5,
   "metadata": {},
   "outputs": [
    {
     "name": "stdout",
     "output_type": "stream",
     "text": [
      "+--------+-----+-------------------+---------+----------+-----------+------------+-----+----------+\n",
      "|item_nbr|   id|               date|store_nbr|unit_sales|onpromotion|      family|class|perishable|\n",
      "+--------+-----+-------------------+---------+----------+-----------+------------+-----+----------+\n",
      "|  103520|32292|2013-01-02 00:00:00|       44|      12.0|       null|   GROCERY I| 1028|         0|\n",
      "|  103665|32293|2013-01-02 00:00:00|       44|      20.0|       null|BREAD/BAKERY| 2712|         1|\n",
      "|  105574|32294|2013-01-02 00:00:00|       44|      51.0|       null|   GROCERY I| 1045|         0|\n",
      "|  105575|32295|2013-01-02 00:00:00|       44|      74.0|       null|   GROCERY I| 1045|         0|\n",
      "|  105577|32296|2013-01-02 00:00:00|       44|      23.0|       null|   GROCERY I| 1045|         0|\n",
      "+--------+-----+-------------------+---------+----------+-----------+------------+-----+----------+\n",
      "only showing top 5 rows\n",
      "\n",
      "None\n"
     ]
    }
   ],
   "source": [
    "print(sdfTrain.show(5))"
   ]
  },
  {
   "cell_type": "code",
   "execution_count": 8,
   "metadata": {
    "collapsed": true
   },
   "outputs": [],
   "source": [
    "sqlContext.registerDataFrameAsTable(sdfTrain, \"sdfTrainTbl\")"
   ]
  },
  {
   "cell_type": "markdown",
   "metadata": {},
   "source": [
    "<b><u>Consider the relationship between Train and Transactions:</u></b>"
   ]
  },
  {
   "cell_type": "code",
   "execution_count": 9,
   "metadata": {
    "collapsed": true
   },
   "outputs": [],
   "source": [
    "sdfTransactions = sqlContext.read.csv(\"/gl-capstone-data/Team6-C-Sep/Data/transactions_store44.csv\",header = True,inferSchema = True)"
   ]
  },
  {
   "cell_type": "code",
   "execution_count": 10,
   "metadata": {},
   "outputs": [
    {
     "data": {
      "text/plain": [
       "1089"
      ]
     },
     "execution_count": 10,
     "metadata": {},
     "output_type": "execute_result"
    }
   ],
   "source": [
    "sdfTransactions.count()"
   ]
  },
  {
   "cell_type": "code",
   "execution_count": 7,
   "metadata": {
    "collapsed": true
   },
   "outputs": [],
   "source": [
    "sqlContext.registerDataFrameAsTable(sdfTransactions, \"sdfTransactionsTbl\")"
   ]
  },
  {
   "cell_type": "code",
   "execution_count": 18,
   "metadata": {},
   "outputs": [
    {
     "name": "stdout",
     "output_type": "stream",
     "text": [
      "+-------------------+---------+------------+\n",
      "|               date|store_nbr|transactions|\n",
      "+-------------------+---------+------------+\n",
      "|2013-01-03 00:00:00|       44|        3618|\n",
      "+-------------------+---------+------------+\n",
      "\n"
     ]
    }
   ],
   "source": [
    "sdfTransactions1 = sqlContext.sql(\"select *  from sdfTransactionsTbl where date = '2013-01-03'\")\n",
    "sdfTransactions1.show()"
   ]
  },
  {
   "cell_type": "code",
   "execution_count": 19,
   "metadata": {},
   "outputs": [
    {
     "name": "stdout",
     "output_type": "stream",
     "text": [
      "+--------+-----+-------------------+---------+----------+-----------+------------+-----+----------+\n",
      "|item_nbr|   id|               date|store_nbr|unit_sales|onpromotion|      family|class|perishable|\n",
      "+--------+-----+-------------------+---------+----------+-----------+------------+-----+----------+\n",
      "|  103520|72723|2013-01-03 00:00:00|       44|       9.0|       null|   GROCERY I| 1028|         0|\n",
      "|  103665|72724|2013-01-03 00:00:00|       44|       3.0|       null|BREAD/BAKERY| 2712|         1|\n",
      "|  105574|72725|2013-01-03 00:00:00|       44|      43.0|       null|   GROCERY I| 1045|         0|\n",
      "|  105575|72726|2013-01-03 00:00:00|       44|      32.0|       null|   GROCERY I| 1045|         0|\n",
      "|  105577|72727|2013-01-03 00:00:00|       44|       4.0|       null|   GROCERY I| 1045|         0|\n",
      "|  105693|72728|2013-01-03 00:00:00|       44|       4.0|       null|   GROCERY I| 1034|         0|\n",
      "|  105737|72729|2013-01-03 00:00:00|       44|       5.0|       null|   GROCERY I| 1044|         0|\n",
      "|  105857|72730|2013-01-03 00:00:00|       44|      33.0|       null|   GROCERY I| 1092|         0|\n",
      "|  106716|72731|2013-01-03 00:00:00|       44|       8.0|       null|   GROCERY I| 1032|         0|\n",
      "|  108696|72732|2013-01-03 00:00:00|       44|       6.0|       null|        DELI| 2636|         1|\n",
      "|  108698|72733|2013-01-03 00:00:00|       44|       3.0|       null|        DELI| 2644|         1|\n",
      "|  108786|72734|2013-01-03 00:00:00|       44|       4.0|       null|    CLEANING| 3044|         0|\n",
      "|  108797|72735|2013-01-03 00:00:00|       44|      22.0|       null|   GROCERY I| 1004|         0|\n",
      "|  108831|72736|2013-01-03 00:00:00|       44|    99.162|       null|     POULTRY| 2416|         1|\n",
      "|  108862|72737|2013-01-03 00:00:00|       44|      10.0|       null|   GROCERY I| 1062|         0|\n",
      "|  108952|72738|2013-01-03 00:00:00|       44|      11.0|       null|    CLEANING| 3024|         0|\n",
      "|  111223|72739|2013-01-03 00:00:00|       44|       1.0|       null|   GROCERY I| 1034|         0|\n",
      "|  112830|72740|2013-01-03 00:00:00|       44|      21.0|       null|   GROCERY I| 1044|         0|\n",
      "|  114778|72741|2013-01-03 00:00:00|       44|      25.0|       null|   GROCERY I| 1016|         0|\n",
      "|  114790|72742|2013-01-03 00:00:00|       44|      28.0|       null|   GROCERY I| 1004|         0|\n",
      "+--------+-----+-------------------+---------+----------+-----------+------------+-----+----------+\n",
      "only showing top 20 rows\n",
      "\n"
     ]
    }
   ],
   "source": [
    "sdfTrain1 = sqlContext.sql(\"select *  from sdfTrainTbl where date = '2013-01-03'\")\n",
    "sdfTrain1.show()"
   ]
  },
  {
   "cell_type": "code",
   "execution_count": 20,
   "metadata": {},
   "outputs": [
    {
     "data": {
      "text/plain": [
       "1221"
      ]
     },
     "execution_count": 20,
     "metadata": {},
     "output_type": "execute_result"
    }
   ],
   "source": [
    "sdfTrain1.count()"
   ]
  },
  {
   "cell_type": "code",
   "execution_count": 21,
   "metadata": {},
   "outputs": [
    {
     "name": "stdout",
     "output_type": "stream",
     "text": [
      "+-------------------+---------+------------+\n",
      "|               date|store_nbr|transactions|\n",
      "+-------------------+---------+------------+\n",
      "|2013-01-04 00:00:00|       44|        4169|\n",
      "+-------------------+---------+------------+\n",
      "\n"
     ]
    }
   ],
   "source": [
    "sdfTransactions2 = sqlContext.sql(\"select *  from sdfTransactionsTbl where date = '2013-01-04'\")\n",
    "sdfTransactions2.show()"
   ]
  },
  {
   "cell_type": "code",
   "execution_count": 22,
   "metadata": {},
   "outputs": [
    {
     "name": "stdout",
     "output_type": "stream",
     "text": [
      "+--------+------+-------------------+---------+----------+-----------+------------+-----+----------+\n",
      "|item_nbr|    id|               date|store_nbr|unit_sales|onpromotion|      family|class|perishable|\n",
      "+--------+------+-------------------+---------+----------+-----------+------------+-----+----------+\n",
      "|  103520|112569|2013-01-04 00:00:00|       44|      11.0|       null|   GROCERY I| 1028|         0|\n",
      "|  103665|112570|2013-01-04 00:00:00|       44|       2.0|       null|BREAD/BAKERY| 2712|         1|\n",
      "|  105574|112571|2013-01-04 00:00:00|       44|      28.0|       null|   GROCERY I| 1045|         0|\n",
      "|  105575|112572|2013-01-04 00:00:00|       44|      32.0|       null|   GROCERY I| 1045|         0|\n",
      "|  105577|112573|2013-01-04 00:00:00|       44|      12.0|       null|   GROCERY I| 1045|         0|\n",
      "|  105693|112574|2013-01-04 00:00:00|       44|       2.0|       null|   GROCERY I| 1034|         0|\n",
      "|  105737|112575|2013-01-04 00:00:00|       44|       8.0|       null|   GROCERY I| 1044|         0|\n",
      "|  105857|112576|2013-01-04 00:00:00|       44|      34.0|       null|   GROCERY I| 1092|         0|\n",
      "|  106716|112577|2013-01-04 00:00:00|       44|       5.0|       null|   GROCERY I| 1032|         0|\n",
      "|  108696|112578|2013-01-04 00:00:00|       44|       3.0|       null|        DELI| 2636|         1|\n",
      "|  108698|112579|2013-01-04 00:00:00|       44|       5.0|       null|        DELI| 2644|         1|\n",
      "|  108786|112580|2013-01-04 00:00:00|       44|      13.0|       null|    CLEANING| 3044|         0|\n",
      "|  108797|112581|2013-01-04 00:00:00|       44|      15.0|       null|   GROCERY I| 1004|         0|\n",
      "|  108831|112582|2013-01-04 00:00:00|       44|   124.576|       null|     POULTRY| 2416|         1|\n",
      "|  108862|112583|2013-01-04 00:00:00|       44|       8.0|       null|   GROCERY I| 1062|         0|\n",
      "|  108952|112584|2013-01-04 00:00:00|       44|       7.0|       null|    CLEANING| 3024|         0|\n",
      "|  111223|112585|2013-01-04 00:00:00|       44|      28.0|       null|   GROCERY I| 1034|         0|\n",
      "|  112830|112586|2013-01-04 00:00:00|       44|      12.0|       null|   GROCERY I| 1044|         0|\n",
      "|  114778|112587|2013-01-04 00:00:00|       44|       3.0|       null|   GROCERY I| 1016|         0|\n",
      "|  114790|112588|2013-01-04 00:00:00|       44|      31.0|       null|   GROCERY I| 1004|         0|\n",
      "+--------+------+-------------------+---------+----------+-----------+------------+-----+----------+\n",
      "only showing top 20 rows\n",
      "\n"
     ]
    }
   ],
   "source": [
    "sdfTrain2 = sqlContext.sql(\"select *  from sdfTrainTbl where date = '2013-01-04'\")\n",
    "sdfTrain2.show()"
   ]
  },
  {
   "cell_type": "code",
   "execution_count": 23,
   "metadata": {},
   "outputs": [
    {
     "data": {
      "text/plain": [
       "1239"
      ]
     },
     "execution_count": 23,
     "metadata": {},
     "output_type": "execute_result"
    }
   ],
   "source": [
    "sdfTrain2.count()"
   ]
  },
  {
   "cell_type": "markdown",
   "metadata": {},
   "source": [
    "<font color='red'>Joining tables <b>Train</b> and <b>Transactions</b> does not give any meaning since:<br/>\n",
    "Train contain <b>item level</b> sales data on a daily basis.<br/>\n",
    "Transactions contains total number of transactions per day on a daily basis and applies to all items sold.<br/>\n",
    "Joining may be useful only if total number of transactions is available at the item level.\n",
    "</font>"
   ]
  },
  {
   "cell_type": "markdown",
   "metadata": {},
   "source": [
    "<b><u>Consider the relationship between Train and Oil:</u></b>"
   ]
  },
  {
   "cell_type": "code",
   "execution_count": 31,
   "metadata": {
    "collapsed": true
   },
   "outputs": [],
   "source": [
    "sdfOil = sqlContext.read.csv(\"/gl-capstone-data/Team6-C-Sep/Data/oil_2013_2015.csv\",header = True,inferSchema = True)"
   ]
  },
  {
   "cell_type": "code",
   "execution_count": 32,
   "metadata": {
    "collapsed": true
   },
   "outputs": [],
   "source": [
    "sqlContext.registerDataFrameAsTable(sdfOil, \"sdfOilTbl\")"
   ]
  },
  {
   "cell_type": "code",
   "execution_count": 33,
   "metadata": {},
   "outputs": [
    {
     "name": "stdout",
     "output_type": "stream",
     "text": [
      "+-------------------+----------+\n",
      "|               date|dcoilwtico|\n",
      "+-------------------+----------+\n",
      "|2013-01-04 00:00:00|     93.12|\n",
      "+-------------------+----------+\n",
      "\n"
     ]
    }
   ],
   "source": [
    "sdfOil1 = sqlContext.sql(\"select *  from sdfOilTbl where date = '2013-01-04'\")\n",
    "sdfOil1.show()"
   ]
  },
  {
   "cell_type": "code",
   "execution_count": 34,
   "metadata": {
    "collapsed": true
   },
   "outputs": [],
   "source": [
    "sdfTrainWithOil = sdfTrain.join(sdfOil, [\"date\"])"
   ]
  },
  {
   "cell_type": "code",
   "execution_count": 35,
   "metadata": {},
   "outputs": [
    {
     "name": "stdout",
     "output_type": "stream",
     "text": [
      "+-------------------+--------+-----+---------+----------+-----------+------------+-----+----------+----------+\n",
      "|               date|item_nbr|   id|store_nbr|unit_sales|onpromotion|      family|class|perishable|dcoilwtico|\n",
      "+-------------------+--------+-----+---------+----------+-----------+------------+-----+----------+----------+\n",
      "|2013-01-02 00:00:00|  103520|32292|       44|      12.0|       null|   GROCERY I| 1028|         0|     93.14|\n",
      "|2013-01-02 00:00:00|  103665|32293|       44|      20.0|       null|BREAD/BAKERY| 2712|         1|     93.14|\n",
      "|2013-01-02 00:00:00|  105574|32294|       44|      51.0|       null|   GROCERY I| 1045|         0|     93.14|\n",
      "|2013-01-02 00:00:00|  105575|32295|       44|      74.0|       null|   GROCERY I| 1045|         0|     93.14|\n",
      "|2013-01-02 00:00:00|  105577|32296|       44|      23.0|       null|   GROCERY I| 1045|         0|     93.14|\n",
      "|2013-01-02 00:00:00|  105693|32297|       44|       4.0|       null|   GROCERY I| 1034|         0|     93.14|\n",
      "|2013-01-02 00:00:00|  105737|32298|       44|      45.0|       null|   GROCERY I| 1044|         0|     93.14|\n",
      "|2013-01-02 00:00:00|  105857|32299|       44|      57.0|       null|   GROCERY I| 1092|         0|     93.14|\n",
      "|2013-01-02 00:00:00|  106716|32300|       44|       7.0|       null|   GROCERY I| 1032|         0|     93.14|\n",
      "|2013-01-02 00:00:00|  108079|32301|       44|       5.0|       null|   GROCERY I| 1030|         0|     93.14|\n",
      "|2013-01-02 00:00:00|  108696|32302|       44|       6.0|       null|        DELI| 2636|         1|     93.14|\n",
      "|2013-01-02 00:00:00|  108698|32303|       44|       5.0|       null|        DELI| 2644|         1|     93.14|\n",
      "|2013-01-02 00:00:00|  108786|32304|       44|      10.0|       null|    CLEANING| 3044|         0|     93.14|\n",
      "|2013-01-02 00:00:00|  108797|32305|       44|      35.0|       null|   GROCERY I| 1004|         0|     93.14|\n",
      "|2013-01-02 00:00:00|  108831|32306|       44|   151.835|       null|     POULTRY| 2416|         1|     93.14|\n",
      "|2013-01-02 00:00:00|  108862|32307|       44|       6.0|       null|   GROCERY I| 1062|         0|     93.14|\n",
      "|2013-01-02 00:00:00|  108952|32308|       44|       9.0|       null|    CLEANING| 3024|         0|     93.14|\n",
      "|2013-01-02 00:00:00|  111223|32309|       44|      27.0|       null|   GROCERY I| 1034|         0|     93.14|\n",
      "|2013-01-02 00:00:00|  112830|32310|       44|      36.0|       null|   GROCERY I| 1044|         0|     93.14|\n",
      "|2013-01-02 00:00:00|  114778|32311|       44|      20.0|       null|   GROCERY I| 1016|         0|     93.14|\n",
      "+-------------------+--------+-----+---------+----------+-----------+------------+-----+----------+----------+\n",
      "only showing top 20 rows\n",
      "\n",
      "None\n"
     ]
    }
   ],
   "source": [
    "print(sdfTrainWithOil.show(20))"
   ]
  },
  {
   "cell_type": "code",
   "execution_count": 36,
   "metadata": {},
   "outputs": [
    {
     "data": {
      "text/plain": [
       "1349777"
      ]
     },
     "execution_count": 36,
     "metadata": {},
     "output_type": "execute_result"
    }
   ],
   "source": [
    "sdfTrainWithOil.count()"
   ]
  },
  {
   "cell_type": "raw",
   "metadata": {},
   "source": [
    "Train has a count of 19,13,387. After joining with Oil, it lost 5,63,610 records."
   ]
  },
  {
   "cell_type": "code",
   "execution_count": 42,
   "metadata": {},
   "outputs": [
    {
     "name": "stdout",
     "output_type": "stream",
     "text": [
      "2013-01-01 00:00:00\n"
     ]
    }
   ],
   "source": [
    "minRow = sdfOil.agg({\"date\": \"min\"}).collect()[0]\n",
    "print minRow[\"min(date)\"]"
   ]
  },
  {
   "cell_type": "code",
   "execution_count": 38,
   "metadata": {},
   "outputs": [
    {
     "name": "stdout",
     "output_type": "stream",
     "text": [
      "2015-12-31 00:00:00\n"
     ]
    }
   ],
   "source": [
    "maxRow = sdfOil.agg({\"date\": \"max\"}).collect()[0]\n",
    "print maxRow[\"max(date)\"]"
   ]
  },
  {
   "cell_type": "code",
   "execution_count": 49,
   "metadata": {},
   "outputs": [
    {
     "name": "stdout",
     "output_type": "stream",
     "text": [
      "1094 days, 0:00:00\n"
     ]
    }
   ],
   "source": [
    "print( maxRow[\"max(date)\"] - minRow[\"min(date)\"])"
   ]
  },
  {
   "cell_type": "code",
   "execution_count": 51,
   "metadata": {},
   "outputs": [
    {
     "data": {
      "text/plain": [
       "783"
      ]
     },
     "execution_count": 51,
     "metadata": {},
     "output_type": "execute_result"
    }
   ],
   "source": [
    "sdfOil.count()"
   ]
  },
  {
   "cell_type": "code",
   "execution_count": 52,
   "metadata": {},
   "outputs": [
    {
     "name": "stdout",
     "output_type": "stream",
     "text": [
      "('Data is missing for days: ', 311)\n"
     ]
    }
   ],
   "source": [
    "print(\"Data is missing for days: \", 1094-783)"
   ]
  },
  {
   "cell_type": "markdown",
   "metadata": {},
   "source": [
    "<font color='red'>It will make sense to join Train and Oil only after Oil is filled with data for missing days.</font>"
   ]
  },
  {
   "cell_type": "markdown",
   "metadata": {},
   "source": [
    "<b><u>Consider the relationship between Train and Holiday_events:</u></b>"
   ]
  },
  {
   "cell_type": "code",
   "execution_count": 3,
   "metadata": {},
   "outputs": [],
   "source": [
    "sdfHolidayEvents = sqlContext.read.csv(\"/gl-capstone-data/Team6-C-Sep/Data/holidays_events_2013_2015.csv\",header = True,inferSchema = True)"
   ]
  },
  {
   "cell_type": "code",
   "execution_count": 5,
   "metadata": {},
   "outputs": [
    {
     "name": "stdout",
     "output_type": "stream",
     "text": [
      "+-------------------+--------+--------+-----------+--------------------+-----------+\n",
      "|               date|    type|  locale|locale_name|         description|transferred|\n",
      "+-------------------+--------+--------+-----------+--------------------+-----------+\n",
      "|2013-01-01 00:00:00| Holiday|National|    Ecuador|  Primer dia del ano|      false|\n",
      "|2013-01-05 00:00:00|Work Day|National|    Ecuador|Recupero puente N...|      false|\n",
      "|2013-01-12 00:00:00|Work Day|National|    Ecuador|Recupero puente p...|      false|\n",
      "|2013-02-11 00:00:00| Holiday|National|    Ecuador|            Carnaval|      false|\n",
      "|2013-02-12 00:00:00| Holiday|National|    Ecuador|            Carnaval|      false|\n",
      "+-------------------+--------+--------+-----------+--------------------+-----------+\n",
      "only showing top 5 rows\n",
      "\n"
     ]
    }
   ],
   "source": [
    "sdfHolidayEvents.show(5)"
   ]
  },
  {
   "cell_type": "code",
   "execution_count": 4,
   "metadata": {
    "collapsed": true
   },
   "outputs": [],
   "source": [
    "sqlContext.registerDataFrameAsTable(sdfHolidayEvents, \"sdfHolidayEventsTbl\")"
   ]
  },
  {
   "cell_type": "code",
   "execution_count": 6,
   "metadata": {},
   "outputs": [
    {
     "name": "stdout",
     "output_type": "stream",
     "text": [
      "+-------------------+--------+\n",
      "|               date|count(1)|\n",
      "+-------------------+--------+\n",
      "|2014-06-25 00:00:00|       4|\n",
      "|2013-06-25 00:00:00|       3|\n",
      "|2015-06-25 00:00:00|       3|\n",
      "|2013-07-03 00:00:00|       2|\n",
      "|2014-12-22 00:00:00|       2|\n",
      "|2015-07-03 00:00:00|       2|\n",
      "|2013-12-22 00:00:00|       2|\n",
      "|2014-12-26 00:00:00|       2|\n",
      "|2015-12-22 00:00:00|       2|\n",
      "|2014-07-03 00:00:00|       2|\n",
      "|2013-05-12 00:00:00|       2|\n",
      "|2014-08-15 00:00:00|       1|\n",
      "|2013-04-01 00:00:00|       1|\n",
      "|2013-10-11 00:00:00|       1|\n",
      "|2013-09-28 00:00:00|       1|\n",
      "|2013-08-05 00:00:00|       1|\n",
      "|2015-03-02 00:00:00|       1|\n",
      "|2013-08-24 00:00:00|       1|\n",
      "|2015-11-06 00:00:00|       1|\n",
      "|2014-07-09 00:00:00|       1|\n",
      "+-------------------+--------+\n",
      "only showing top 20 rows\n",
      "\n"
     ]
    }
   ],
   "source": [
    "sdfHolidayEvents1 = sqlContext.sql(\"select date, count(*) from sdfHolidayEventsTbl group by date order by 2 desc\")\n",
    "sdfHolidayEvents1.show()"
   ]
  },
  {
   "cell_type": "code",
   "execution_count": 13,
   "metadata": {},
   "outputs": [
    {
     "name": "stdout",
     "output_type": "stream",
     "text": [
      "+-------------------+-------+--------+-------------+--------------------+-----------+\n",
      "|               date|   type|  locale|  locale_name|         description|transferred|\n",
      "+-------------------+-------+--------+-------------+--------------------+-----------+\n",
      "|2013-06-25 00:00:00|Holiday|   Local|      Machala|Fundacion de Machala|      false|\n",
      "|2013-06-25 00:00:00|Holiday|Regional|     Imbabura|Provincializacion...|      false|\n",
      "|2013-06-25 00:00:00|Holiday|   Local|    Latacunga|Cantonizacion de ...|      false|\n",
      "|2013-07-03 00:00:00|Holiday|   Local|    El Carmen|Cantonizacion de ...|      false|\n",
      "|2013-07-03 00:00:00|Holiday|   Local|Santo Domingo|Fundacion de Sant...|      false|\n",
      "|2014-06-25 00:00:00|  Event|National|      Ecuador|Mundial de futbol...|      false|\n",
      "|2014-06-25 00:00:00|Holiday|   Local|    Latacunga|Cantonizacion de ...|      false|\n",
      "|2014-06-25 00:00:00|Holiday|   Local|      Machala|Fundacion de Machala|      false|\n",
      "|2014-06-25 00:00:00|Holiday|Regional|     Imbabura|Provincializacion...|      false|\n",
      "|2015-06-25 00:00:00|Holiday|   Local|      Machala|Fundacion de Machala|      false|\n",
      "|2015-06-25 00:00:00|Holiday|Regional|     Imbabura|Provincializacion...|      false|\n",
      "|2015-06-25 00:00:00|Holiday|   Local|    Latacunga|Cantonizacion de ...|      false|\n",
      "+-------------------+-------+--------+-------------+--------------------+-----------+\n",
      "\n"
     ]
    }
   ],
   "source": [
    "sdfHolidayEvents2 = sqlContext.sql(\"select * from sdfHolidayEventsTbl where date in ('2014-06-25 00:00:00', '2013-06-25 00:00:00', '2015-06-25 00:00:00', '2013-07-03 00:00:00') order by date\")\n",
    "sdfHolidayEvents2.show()"
   ]
  },
  {
   "cell_type": "markdown",
   "metadata": {},
   "source": [
    "<font color='red'>\n",
    "If we simply join Holiday_events to Train, it will increase the number of records in Train because there are multiple holiday records for the same date.<br/>\n",
    "On the other hand, if we want to delete all but one holiday records (in cased of multiples), we do not know on what basis the records will be deleted.<br/>\n",
    "Further, we do not know which locale store 44 is present in.\n",
    "This presents a complicated case.\n",
    "</font>"
   ]
  },
  {
   "cell_type": "code",
   "execution_count": null,
   "metadata": {
    "collapsed": true
   },
   "outputs": [],
   "source": []
  }
 ],
 "metadata": {
  "kernelspec": {
   "display_name": "PySpark",
   "language": "python",
   "name": "pyspark"
  },
  "language_info": {
   "codemirror_mode": {
    "name": "ipython",
    "version": 2
   },
   "file_extension": ".py",
   "mimetype": "text/x-python",
   "name": "python",
   "nbconvert_exporter": "python",
   "pygments_lexer": "ipython2",
   "version": "2.7.14"
  }
 },
 "nbformat": 4,
 "nbformat_minor": 2
}
