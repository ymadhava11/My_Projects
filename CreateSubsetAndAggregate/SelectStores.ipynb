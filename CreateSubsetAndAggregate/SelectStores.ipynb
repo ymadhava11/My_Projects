{
 "cells": [
  {
   "cell_type": "code",
   "execution_count": 1,
   "metadata": {
    "collapsed": true
   },
   "outputs": [],
   "source": [
    "from pyspark import SparkContext\n",
    "from pyspark import SQLContext\n",
    "sc = SparkContext()\n",
    "sqlContext = SQLContext(sc)\n",
    "from pyspark.sql import SparkSession\n",
    "sparkSession = SparkSession.builder.getOrCreate()\n",
    "\n",
    "from pyspark.sql.functions import col, countDistinct\n",
    "from pyspark.sql.functions import isnan, when, count, col\n",
    "\n",
    "\n",
    "import matplotlib as plot\n",
    "import matplotlib.pyplot as plt\n",
    "import seaborn as sns\n",
    "%matplotlib inline\n",
    "\n",
    "from __future__ import division"
   ]
  },
  {
   "cell_type": "code",
   "execution_count": 2,
   "metadata": {
    "collapsed": true
   },
   "outputs": [],
   "source": [
    "sdfTransactions = sqlContext.read.csv(\"/gl-capstone-data/Team6-C-Sep/Data/transactions.csv\",header = True,inferSchema = True)"
   ]
  },
  {
   "cell_type": "code",
   "execution_count": 3,
   "metadata": {
    "collapsed": true
   },
   "outputs": [],
   "source": [
    "sqlContext.registerDataFrameAsTable(sdfTransactions, \"sdfTransactionsTbl\")"
   ]
  },
  {
   "cell_type": "code",
   "execution_count": 4,
   "metadata": {},
   "outputs": [
    {
     "name": "stdout",
     "output_type": "stream",
     "text": [
      "+---------+---------------+\n",
      "|store_nbr|transactionssum|\n",
      "+---------+---------------+\n",
      "|       44|        1493932|\n",
      "|       47|        1376187|\n",
      "|       46|        1304989|\n",
      "|       45|        1292359|\n",
      "|        3|        1141431|\n",
      "|       48|        1089317|\n",
      "|        8|        1013479|\n",
      "|       50|         972039|\n",
      "|       11|         893998|\n",
      "|       34|         891297|\n",
      "+---------+---------------+\n",
      "only showing top 10 rows\n",
      "\n"
     ]
    }
   ],
   "source": [
    "sqlContext.sql(\"select store_nbr, sum(transactions) as transactionssum  from sdfTransactionsTbl where date < '2014-01-01 00:00:00' group by store_nbr order by 2 desc\").show(10)\n",
    "#Stores with top transactions in the year 2013"
   ]
  },
  {
   "cell_type": "code",
   "execution_count": 5,
   "metadata": {},
   "outputs": [
    {
     "name": "stdout",
     "output_type": "stream",
     "text": [
      "+---------+---------------------+\n",
      "|store_nbr|transactionsdayscount|\n",
      "+---------+---------------------+\n",
      "|       44|                  363|\n",
      "|       47|                  363|\n",
      "|       45|                  363|\n",
      "|       46|                  363|\n",
      "+---------+---------------------+\n",
      "\n"
     ]
    }
   ],
   "source": [
    "sqlContext.sql(\"select store_nbr, count(transactions) as transactionsdayscount from sdfTransactionsTbl where date < '2014-01-01 00:00:00' and store_nbr in (44,45,46,47) group by store_nbr order by 2 desc\").show(10)"
   ]
  },
  {
   "cell_type": "code",
   "execution_count": 13,
   "metadata": {},
   "outputs": [
    {
     "name": "stdout",
     "output_type": "stream",
     "text": [
      "+---------+---------------------+\n",
      "|store_nbr|transactionsdayscount|\n",
      "+---------+---------------------+\n",
      "|       25|                  364|\n",
      "|       44|                  363|\n",
      "|       34|                  363|\n",
      "|       28|                  363|\n",
      "|       26|                  363|\n",
      "+---------+---------------------+\n",
      "only showing top 5 rows\n",
      "\n"
     ]
    }
   ],
   "source": [
    "sqlContext.sql(\"select store_nbr, count(transactions) as transactionsdayscount from sdfTransactionsTbl where date < '2014-01-01 00:00:00' group by store_nbr order by 2 desc\").show(5)\n",
    "#Stores 44,45,46,47 had transactions on 363 days while there are other stores that had one day mode in the year 2013\n",
    "#This exploratin is done only for our awareness and may not have much impact on any other processing or prediction."
   ]
  },
  {
   "cell_type": "code",
   "execution_count": 7,
   "metadata": {},
   "outputs": [
    {
     "name": "stdout",
     "output_type": "stream",
     "text": [
      "+---------+---------------+\n",
      "|store_nbr|transactionssum|\n",
      "+---------+---------------+\n",
      "|       44|        1622607|\n",
      "|       47|        1447939|\n",
      "|       45|        1370575|\n",
      "|       46|        1344446|\n",
      "|       48|        1168208|\n",
      "|        3|        1166136|\n",
      "|        8|        1029991|\n",
      "|       50|         973035|\n",
      "|       49|         949515|\n",
      "|       34|         898376|\n",
      "+---------+---------------+\n",
      "only showing top 10 rows\n",
      "\n"
     ]
    }
   ],
   "source": [
    "sqlContext.sql(\"select store_nbr, sum(transactions) as transactionssum  from sdfTransactionsTbl where date >= '2014-01-01 00:00:00' and date < '2015-01-01 00:00:00' group by store_nbr order by 2 desc\").show(10)\n",
    "#Stores with top transactions in the year 2014"
   ]
  },
  {
   "cell_type": "code",
   "execution_count": 6,
   "metadata": {},
   "outputs": [
    {
     "name": "stdout",
     "output_type": "stream",
     "text": [
      "+---------+---------------------+\n",
      "|store_nbr|transactionsdayscount|\n",
      "+---------+---------------------+\n",
      "|       44|                  363|\n",
      "|       47|                  363|\n",
      "|       45|                  363|\n",
      "|       46|                  363|\n",
      "+---------+---------------------+\n",
      "\n"
     ]
    }
   ],
   "source": [
    "sqlContext.sql(\"select store_nbr, count(transactions) as transactionsdayscount from sdfTransactionsTbl where date >= '2014-01-01 00:00:00' and date < '2015-01-01 00:00:00' and store_nbr in (44,45,46,47) group by store_nbr order by 2 desc\").show(10)"
   ]
  },
  {
   "cell_type": "code",
   "execution_count": 12,
   "metadata": {},
   "outputs": [
    {
     "name": "stdout",
     "output_type": "stream",
     "text": [
      "+---------+---------------------+\n",
      "|store_nbr|transactionsdayscount|\n",
      "+---------+---------------------+\n",
      "|       36|                  364|\n",
      "|       44|                  363|\n",
      "|       31|                  363|\n",
      "|       34|                  363|\n",
      "|       28|                  363|\n",
      "+---------+---------------------+\n",
      "only showing top 5 rows\n",
      "\n"
     ]
    }
   ],
   "source": [
    "sqlContext.sql(\"select store_nbr, count(transactions) as transactionsdayscount from sdfTransactionsTbl where date >= '2014-01-01 00:00:00' and date < '2015-01-01 00:00:00' group by store_nbr order by 2 desc\").show(5)\n",
    "#Stores 44,45,46,47 had transactions on 363 days while there are other stores that had one day mode in the year 2014\n",
    "#This exploratin is done only for our awareness and may not have much impact on any other processing or prediction."
   ]
  },
  {
   "cell_type": "code",
   "execution_count": 9,
   "metadata": {},
   "outputs": [
    {
     "name": "stdout",
     "output_type": "stream",
     "text": [
      "+---------+---------------+\n",
      "|store_nbr|transactionssum|\n",
      "+---------+---------------+\n",
      "|       44|        1593523|\n",
      "|       47|        1430126|\n",
      "|       45|        1337679|\n",
      "|       46|        1311670|\n",
      "|        3|        1175267|\n",
      "|       48|        1128070|\n",
      "|       49|        1054872|\n",
      "|        8|        1002385|\n",
      "|       50|         953655|\n",
      "|       24|         843558|\n",
      "+---------+---------------+\n",
      "only showing top 10 rows\n",
      "\n"
     ]
    }
   ],
   "source": [
    "sqlContext.sql(\"select store_nbr, sum(transactions) as transactionssum  from sdfTransactionsTbl where date >= '2015-01-01 00:00:00' and date < '2016-01-01 00:00:00' group by store_nbr order by 2 desc\").show(10)\n",
    "#Stores with top transactions in the year 2015"
   ]
  },
  {
   "cell_type": "code",
   "execution_count": 7,
   "metadata": {},
   "outputs": [
    {
     "name": "stdout",
     "output_type": "stream",
     "text": [
      "+---------+---------------------+\n",
      "|store_nbr|transactionsdayscount|\n",
      "+---------+---------------------+\n",
      "|       44|                  363|\n",
      "|       47|                  363|\n",
      "|       45|                  363|\n",
      "|       46|                  363|\n",
      "+---------+---------------------+\n",
      "\n"
     ]
    }
   ],
   "source": [
    "sqlContext.sql(\"select store_nbr, count(transactions) as transactionsdayscount from sdfTransactionsTbl where date >= '2015-01-01 00:00:00' and date < '2016-01-01 00:00:00' and store_nbr in (44,45,46,47) group by store_nbr order by 2 desc\").show(10)"
   ]
  },
  {
   "cell_type": "code",
   "execution_count": 11,
   "metadata": {},
   "outputs": [
    {
     "name": "stdout",
     "output_type": "stream",
     "text": [
      "+---------+---------------------+\n",
      "|store_nbr|transactionsdayscount|\n",
      "+---------+---------------------+\n",
      "|       25|                  364|\n",
      "|       27|                  363|\n",
      "|       53|                  363|\n",
      "|       34|                  363|\n",
      "|       28|                  363|\n",
      "+---------+---------------------+\n",
      "only showing top 5 rows\n",
      "\n"
     ]
    }
   ],
   "source": [
    "sqlContext.sql(\"select store_nbr, count(transactions) as transactionsdayscount from sdfTransactionsTbl where date >= '2015-01-01 00:00:00' and date < '2016-01-01 00:00:00' group by store_nbr order by 2 desc\").show(5)\n",
    "#Stores 44,45,46,47 had transactions on 363 days while there are other stores that had one day more in the year 2015\n",
    "#This exploratin is done only for our awareness and may not have much impact on any other processing or prediction."
   ]
  },
  {
   "cell_type": "code",
   "execution_count": 11,
   "metadata": {},
   "outputs": [
    {
     "name": "stdout",
     "output_type": "stream",
     "text": [
      "+---------+---------------+\n",
      "|store_nbr|transactionssum|\n",
      "+---------+---------------+\n",
      "|       44|        1574685|\n",
      "|       47|        1402767|\n",
      "|       45|        1333314|\n",
      "|       46|        1233791|\n",
      "|        3|        1164208|\n",
      "|       49|        1090042|\n",
      "|       48|        1056809|\n",
      "|        8|         980025|\n",
      "|       50|         893879|\n",
      "|       11|         829133|\n",
      "+---------+---------------+\n",
      "only showing top 10 rows\n",
      "\n"
     ]
    }
   ],
   "source": [
    "sqlContext.sql(\"select store_nbr, sum(transactions) as transactionssum  from sdfTransactionsTbl where date >= '2016-01-01 00:00:00' and date < '2017-01-01 00:00:00' group by store_nbr order by 2 desc\").show(10)\n",
    "#Stores with top transactions in the year 2016"
   ]
  },
  {
   "cell_type": "code",
   "execution_count": 8,
   "metadata": {},
   "outputs": [
    {
     "name": "stdout",
     "output_type": "stream",
     "text": [
      "+---------+---------------------+\n",
      "|store_nbr|transactionsdayscount|\n",
      "+---------+---------------------+\n",
      "|       44|                  362|\n",
      "|       47|                  362|\n",
      "|       45|                  362|\n",
      "|       46|                  362|\n",
      "+---------+---------------------+\n",
      "\n"
     ]
    }
   ],
   "source": [
    "sqlContext.sql(\"select store_nbr, count(transactions) as transactionsdayscount from sdfTransactionsTbl where date >= '2016-01-01 00:00:00' and date < '2017-01-01 00:00:00' and store_nbr in (44,45,46,47)  group by store_nbr order by 2 desc\").show(10)"
   ]
  },
  {
   "cell_type": "code",
   "execution_count": 10,
   "metadata": {},
   "outputs": [
    {
     "name": "stdout",
     "output_type": "stream",
     "text": [
      "+---------+---------------------+\n",
      "|store_nbr|transactionsdayscount|\n",
      "+---------+---------------------+\n",
      "|       39|                  363|\n",
      "|       37|                  363|\n",
      "|       34|                  363|\n",
      "|       31|                  363|\n",
      "|       26|                  363|\n",
      "+---------+---------------------+\n",
      "only showing top 5 rows\n",
      "\n"
     ]
    }
   ],
   "source": [
    "sqlContext.sql(\"select store_nbr, count(transactions) as transactionsdayscount from sdfTransactionsTbl where date >= '2016-01-01 00:00:00' and date < '2017-01-01 00:00:00' group by store_nbr order by 2 desc\").show(5)\n",
    "#Stores 44,45,46,47 had transactions on 362 days while there are other stores that had one day more in the year 2016\n",
    "#This exploratin is done only for our awareness and may not have much impact on any other processing or prediction."
   ]
  },
  {
   "cell_type": "raw",
   "metadata": {},
   "source": [
    "From all the above, it can be seen that stores 44 and 47 have high sum of transactions and also the total number of days of transaction."
   ]
  },
  {
   "cell_type": "code",
   "execution_count": 21,
   "metadata": {
    "collapsed": true
   },
   "outputs": [],
   "source": [
    "txnRecCountForStore = sdfTransactions.filter(sdfTransactions.store_nbr == 44).count()"
   ]
  },
  {
   "cell_type": "code",
   "execution_count": 22,
   "metadata": {},
   "outputs": [
    {
     "data": {
      "text/plain": [
       "1677"
      ]
     },
     "execution_count": 22,
     "metadata": {},
     "output_type": "execute_result"
    }
   ],
   "source": [
    "txnRecCountForStore"
   ]
  },
  {
   "cell_type": "code",
   "execution_count": 24,
   "metadata": {},
   "outputs": [
    {
     "name": "stdout",
     "output_type": "stream",
     "text": [
      "Percent of records in transactions table for store 44 : 2.00867190494\n"
     ]
    }
   ],
   "source": [
    "percentageRecs = (txnRecCountForStore / sdfTransactions.count()) * 100\n",
    "print(\"Percent of records in transactions table for store 44 : \" + str(percentageRecs))"
   ]
  },
  {
   "cell_type": "code",
   "execution_count": 15,
   "metadata": {},
   "outputs": [],
   "source": [
    "sdfTrain = sqlContext.read.csv(\"/gl-capstone-data/Team6-C-Sep/Data/train/train.csv\",header = True,inferSchema = True)"
   ]
  },
  {
   "cell_type": "code",
   "execution_count": 16,
   "metadata": {
    "collapsed": true
   },
   "outputs": [],
   "source": [
    "sqlContext.registerDataFrameAsTable(sdfTrain, \"sdfTrainTbl\")"
   ]
  },
  {
   "cell_type": "code",
   "execution_count": 13,
   "metadata": {},
   "outputs": [
    {
     "name": "stdout",
     "output_type": "stream",
     "text": [
      "+------------------------+\n",
      "|count(DISTINCT item_nbr)|\n",
      "+------------------------+\n",
      "|                    1758|\n",
      "+------------------------+\n",
      "\n"
     ]
    }
   ],
   "source": [
    "sqlContext.sql(\"select count(distinct(item_nbr)) from sdfTrainTbl where date < '2014-01-01 00:00:00' and store_nbr = 44\").show()\n",
    "#There is a good number of items that are sold in store 44 in the year 2013."
   ]
  },
  {
   "cell_type": "code",
   "execution_count": 5,
   "metadata": {},
   "outputs": [
    {
     "name": "stdout",
     "output_type": "stream",
     "text": [
      "+--------+\n",
      "|count(1)|\n",
      "+--------+\n",
      "|  490565|\n",
      "+--------+\n",
      "\n"
     ]
    }
   ],
   "source": [
    "sqlContext.sql(\"select count(*) from sdfTrainTbl where date < '2014-01-01 00:00:00' and store_nbr = 44\").show()\n",
    "#There is good amount of sales data for store 44 in the year 2013."
   ]
  },
  {
   "cell_type": "code",
   "execution_count": 17,
   "metadata": {},
   "outputs": [
    {
     "name": "stdout",
     "output_type": "stream",
     "text": [
      "+------------------------+\n",
      "|count(DISTINCT item_nbr)|\n",
      "+------------------------+\n",
      "|                    2548|\n",
      "+------------------------+\n",
      "\n"
     ]
    }
   ],
   "source": [
    "sqlContext.sql(\"select count(distinct(item_nbr)) from sdfTrainTbl where date >= '2014-01-01 00:00:00' and date < '2015-01-01 00:00:00' and store_nbr = 44\").show()\n",
    "#There is a good number of items that are sold in store 44 in the year 2014."
   ]
  },
  {
   "cell_type": "code",
   "execution_count": 7,
   "metadata": {},
   "outputs": [
    {
     "name": "stdout",
     "output_type": "stream",
     "text": [
      "+--------+\n",
      "|count(1)|\n",
      "+--------+\n",
      "|  657633|\n",
      "+--------+\n",
      "\n"
     ]
    }
   ],
   "source": [
    "sqlContext.sql(\"select count(*) from sdfTrainTbl where date >= '2014-01-01 00:00:00' and date < '2015-01-01 00:00:00' and store_nbr = 44\").show()\n",
    "#There is good amount of sales data for store 44 in the year 2014."
   ]
  },
  {
   "cell_type": "code",
   "execution_count": 18,
   "metadata": {},
   "outputs": [
    {
     "name": "stdout",
     "output_type": "stream",
     "text": [
      "+------------------------+\n",
      "|count(DISTINCT item_nbr)|\n",
      "+------------------------+\n",
      "|                    3078|\n",
      "+------------------------+\n",
      "\n"
     ]
    }
   ],
   "source": [
    "sqlContext.sql(\"select count(distinct(item_nbr)) from sdfTrainTbl where date >= '2015-01-01 00:00:00' and date < '2016-01-01 00:00:00' and store_nbr = 44\").show()\n",
    "#There is a good number of items that are sold in store 44 in the year 2015."
   ]
  },
  {
   "cell_type": "code",
   "execution_count": 9,
   "metadata": {},
   "outputs": [
    {
     "name": "stdout",
     "output_type": "stream",
     "text": [
      "+--------+\n",
      "|count(1)|\n",
      "+--------+\n",
      "|  765189|\n",
      "+--------+\n",
      "\n"
     ]
    }
   ],
   "source": [
    "sqlContext.sql(\"select count(*) from sdfTrainTbl where date >= '2015-01-01 00:00:00' and date < '2016-01-01 00:00:00' and store_nbr = 44\").show()\n",
    "#There is good amount of sales data for store 44 in the year 2015."
   ]
  },
  {
   "cell_type": "code",
   "execution_count": 14,
   "metadata": {},
   "outputs": [
    {
     "name": "stdout",
     "output_type": "stream",
     "text": [
      "Percent of records in train table for store 44 in year 2013: 0.390897665794\n"
     ]
    }
   ],
   "source": [
    "print(\"Percent of records in train table for store 44 in year 2013: \" + str((490565/125497040)*100))"
   ]
  },
  {
   "cell_type": "code",
   "execution_count": 15,
   "metadata": {},
   "outputs": [
    {
     "name": "stdout",
     "output_type": "stream",
     "text": [
      "Percent of records in train table for store 44 in year 2014: 0.524022717986\n"
     ]
    }
   ],
   "source": [
    "print(\"Percent of records in train table for store 44 in year 2014: \" + str((657633/125497040)*100))"
   ]
  },
  {
   "cell_type": "code",
   "execution_count": 16,
   "metadata": {},
   "outputs": [
    {
     "name": "stdout",
     "output_type": "stream",
     "text": [
      "Percent of records in train table for store 44 in year 2015: 0.609726731403\n"
     ]
    }
   ],
   "source": [
    "print(\"Percent of records in train table for store 44 in year 2015: \" + str((765189/125497040)*100))"
   ]
  },
  {
   "cell_type": "code",
   "execution_count": 18,
   "metadata": {},
   "outputs": [
    {
     "name": "stdout",
     "output_type": "stream",
     "text": [
      "Percent of records in train table for store 44 in the years 2013 to 2015: 1.52464711518\n"
     ]
    }
   ],
   "source": [
    "print(\"Percent of records in train table for store 44 in the years 2013 to 2015: \" + str(0.390897665794 + 0.524022717986 + 0.609726731403))"
   ]
  },
  {
   "cell_type": "raw",
   "metadata": {},
   "source": [
    "Here is what can be done for further analysis:\n",
    "Create separate file (say train44.csv) with data for store 44 for the years 2013 to 2015 from train.csv. File size will be roughly 72 MB.\n",
    "Create separate file with data for store 44 from transactions.csv (say transactions44.csv). File size will be roughly 31 KB.\n",
    "\n",
    "From train44.csv the data for 2013 and 2014 can be treated as train data, covering 2 full years.\n",
    "From train44.csv the data for 2015 can be treated as test data, to be used for prediction.\n",
    "\n",
    "The file test.csv given in Kaggle may not be used at all.\n"
   ]
  }
 ],
 "metadata": {
  "kernelspec": {
   "display_name": "PySpark",
   "language": "python",
   "name": "pyspark"
  },
  "language_info": {
   "codemirror_mode": {
    "name": "ipython",
    "version": 2
   },
   "file_extension": ".py",
   "mimetype": "text/x-python",
   "name": "python",
   "nbconvert_exporter": "python",
   "pygments_lexer": "ipython2",
   "version": "2.7.14"
  }
 },
 "nbformat": 4,
 "nbformat_minor": 2
}
