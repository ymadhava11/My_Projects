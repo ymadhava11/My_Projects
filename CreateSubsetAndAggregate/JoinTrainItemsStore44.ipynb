{
 "cells": [
  {
   "cell_type": "markdown",
   "metadata": {},
   "source": [
    "<b>Create a subset of train table having data for store 44 for the years 2013 to 2015 <br/>\n",
    "train_store44.csv is the csv file for the created table</b>"
   ]
  },
  {
   "cell_type": "code",
   "execution_count": 1,
   "metadata": {
    "collapsed": true
   },
   "outputs": [],
   "source": [
    "from pyspark import SparkContext\n",
    "from pyspark import SQLContext\n",
    "sc = SparkContext()\n",
    "sqlContext = SQLContext(sc)\n",
    "from pyspark.sql import SparkSession\n",
    "sparkSession = SparkSession.builder.getOrCreate()\n",
    "\n",
    "from pyspark.sql.functions import col, countDistinct\n",
    "from pyspark.sql.functions import isnan, when, count, col"
   ]
  },
  {
   "cell_type": "code",
   "execution_count": 2,
   "metadata": {
    "collapsed": true
   },
   "outputs": [],
   "source": [
    "sdfTrain44 = sqlContext.read.csv(\"/gl-capstone-data/Team6-C-Sep/Data/train_store44.csv\",header = True,inferSchema = True)"
   ]
  },
  {
   "cell_type": "code",
   "execution_count": 9,
   "metadata": {},
   "outputs": [
    {
     "name": "stdout",
     "output_type": "stream",
     "text": [
      "+-----+-------------------+---------+--------+----------+-----------+\n",
      "|   id|               date|store_nbr|item_nbr|unit_sales|onpromotion|\n",
      "+-----+-------------------+---------+--------+----------+-----------+\n",
      "|32292|2013-01-02 00:00:00|       44|  103520|      12.0|       null|\n",
      "|32293|2013-01-02 00:00:00|       44|  103665|      20.0|       null|\n",
      "|32294|2013-01-02 00:00:00|       44|  105574|      51.0|       null|\n",
      "|32295|2013-01-02 00:00:00|       44|  105575|      74.0|       null|\n",
      "|32296|2013-01-02 00:00:00|       44|  105577|      23.0|       null|\n",
      "+-----+-------------------+---------+--------+----------+-----------+\n",
      "only showing top 5 rows\n",
      "\n",
      "None\n"
     ]
    }
   ],
   "source": [
    "print(sdfTrain44.show(5))"
   ]
  },
  {
   "cell_type": "code",
   "execution_count": 7,
   "metadata": {},
   "outputs": [
    {
     "data": {
      "text/plain": [
       "1913387"
      ]
     },
     "execution_count": 7,
     "metadata": {},
     "output_type": "execute_result"
    }
   ],
   "source": [
    "sdfTrain44.count()"
   ]
  },
  {
   "cell_type": "code",
   "execution_count": 5,
   "metadata": {
    "collapsed": true
   },
   "outputs": [],
   "source": [
    "sdfItems = sqlContext.read.csv(\"/gl-capstone-data/Team6-C-Sep/Data/items_store44_2013_2015.csv\",header = True,inferSchema = True)"
   ]
  },
  {
   "cell_type": "code",
   "execution_count": 10,
   "metadata": {},
   "outputs": [
    {
     "name": "stdout",
     "output_type": "stream",
     "text": [
      "+--------+------------+-----+----------+\n",
      "|item_nbr|      family|class|perishable|\n",
      "+--------+------------+-----+----------+\n",
      "|  169028|   GROCERY I| 1040|         0|\n",
      "|  269084|BREAD/BAKERY| 2720|         1|\n",
      "|  368628|   BEVERAGES| 1122|         0|\n",
      "|  517909|        DELI| 2690|         1|\n",
      "|  587069|   GROCERY I| 1004|         0|\n",
      "+--------+------------+-----+----------+\n",
      "only showing top 5 rows\n",
      "\n",
      "None\n"
     ]
    }
   ],
   "source": [
    "print(sdfItems.show(5))"
   ]
  },
  {
   "cell_type": "code",
   "execution_count": 8,
   "metadata": {},
   "outputs": [
    {
     "data": {
      "text/plain": [
       "3104"
      ]
     },
     "execution_count": 8,
     "metadata": {},
     "output_type": "execute_result"
    }
   ],
   "source": [
    "sdfItems.count()"
   ]
  },
  {
   "cell_type": "code",
   "execution_count": 11,
   "metadata": {
    "collapsed": true
   },
   "outputs": [],
   "source": [
    "sdfTrain44WithItems = sdfTrain44.join(sdfItems, [\"item_nbr\"])"
   ]
  },
  {
   "cell_type": "code",
   "execution_count": 12,
   "metadata": {},
   "outputs": [
    {
     "name": "stdout",
     "output_type": "stream",
     "text": [
      "+--------+-----+-------------------+---------+----------+-----------+------------+-----+----------+\n",
      "|item_nbr|   id|               date|store_nbr|unit_sales|onpromotion|      family|class|perishable|\n",
      "+--------+-----+-------------------+---------+----------+-----------+------------+-----+----------+\n",
      "|  103520|32292|2013-01-02 00:00:00|       44|      12.0|       null|   GROCERY I| 1028|         0|\n",
      "|  103665|32293|2013-01-02 00:00:00|       44|      20.0|       null|BREAD/BAKERY| 2712|         1|\n",
      "|  105574|32294|2013-01-02 00:00:00|       44|      51.0|       null|   GROCERY I| 1045|         0|\n",
      "|  105575|32295|2013-01-02 00:00:00|       44|      74.0|       null|   GROCERY I| 1045|         0|\n",
      "|  105577|32296|2013-01-02 00:00:00|       44|      23.0|       null|   GROCERY I| 1045|         0|\n",
      "+--------+-----+-------------------+---------+----------+-----------+------------+-----+----------+\n",
      "only showing top 5 rows\n",
      "\n",
      "None\n"
     ]
    }
   ],
   "source": [
    "print(sdfTrain44WithItems.show(5))"
   ]
  },
  {
   "cell_type": "code",
   "execution_count": 13,
   "metadata": {},
   "outputs": [
    {
     "data": {
      "text/plain": [
       "1913387"
      ]
     },
     "execution_count": 13,
     "metadata": {},
     "output_type": "execute_result"
    }
   ],
   "source": [
    "sdfTrain44WithItems.count()"
   ]
  },
  {
   "cell_type": "code",
   "execution_count": 14,
   "metadata": {
    "collapsed": true
   },
   "outputs": [],
   "source": [
    "sdfTrain44WithItems.write.csv(\"/gl-capstone-data/Team6-C-Sep/Data/train_store44_with_items.csv\", header=True)"
   ]
  },
  {
   "cell_type": "code",
   "execution_count": 15,
   "metadata": {
    "collapsed": true
   },
   "outputs": [],
   "source": [
    "sdfTrain44WithItemsReload = sqlContext.read.csv(\"/gl-capstone-data/Team6-C-Sep/Data/train_store44_with_items.csv\",header = True,inferSchema = True)"
   ]
  },
  {
   "cell_type": "code",
   "execution_count": 16,
   "metadata": {},
   "outputs": [
    {
     "data": {
      "text/plain": [
       "1913387"
      ]
     },
     "execution_count": 16,
     "metadata": {},
     "output_type": "execute_result"
    }
   ],
   "source": [
    "sdfTrain44WithItemsReload.count()"
   ]
  },
  {
   "cell_type": "code",
   "execution_count": 17,
   "metadata": {},
   "outputs": [
    {
     "name": "stdout",
     "output_type": "stream",
     "text": [
      "root\n",
      " |-- item_nbr: integer (nullable = true)\n",
      " |-- id: integer (nullable = true)\n",
      " |-- date: timestamp (nullable = true)\n",
      " |-- store_nbr: integer (nullable = true)\n",
      " |-- unit_sales: double (nullable = true)\n",
      " |-- onpromotion: boolean (nullable = true)\n",
      " |-- family: string (nullable = true)\n",
      " |-- class: integer (nullable = true)\n",
      " |-- perishable: integer (nullable = true)\n",
      "\n"
     ]
    }
   ],
   "source": [
    "sdfTrain44WithItemsReload.printSchema()"
   ]
  },
  {
   "cell_type": "code",
   "execution_count": 18,
   "metadata": {},
   "outputs": [
    {
     "name": "stdout",
     "output_type": "stream",
     "text": [
      "+--------+-----+-------------------+---------+----------+-----------+------------+-----+----------+\n",
      "|item_nbr|   id|               date|store_nbr|unit_sales|onpromotion|      family|class|perishable|\n",
      "+--------+-----+-------------------+---------+----------+-----------+------------+-----+----------+\n",
      "|  103520|32292|2013-01-02 00:00:00|       44|      12.0|       null|   GROCERY I| 1028|         0|\n",
      "|  103665|32293|2013-01-02 00:00:00|       44|      20.0|       null|BREAD/BAKERY| 2712|         1|\n",
      "|  105574|32294|2013-01-02 00:00:00|       44|      51.0|       null|   GROCERY I| 1045|         0|\n",
      "|  105575|32295|2013-01-02 00:00:00|       44|      74.0|       null|   GROCERY I| 1045|         0|\n",
      "|  105577|32296|2013-01-02 00:00:00|       44|      23.0|       null|   GROCERY I| 1045|         0|\n",
      "+--------+-----+-------------------+---------+----------+-----------+------------+-----+----------+\n",
      "only showing top 5 rows\n",
      "\n",
      "None\n"
     ]
    }
   ],
   "source": [
    "print(sdfTrain44WithItemsReload.show(5))"
   ]
  },
  {
   "cell_type": "code",
   "execution_count": null,
   "metadata": {
    "collapsed": true
   },
   "outputs": [],
   "source": []
  }
 ],
 "metadata": {
  "kernelspec": {
   "display_name": "PySpark",
   "language": "python",
   "name": "pyspark"
  },
  "language_info": {
   "codemirror_mode": {
    "name": "ipython",
    "version": 2
   },
   "file_extension": ".py",
   "mimetype": "text/x-python",
   "name": "python",
   "nbconvert_exporter": "python",
   "pygments_lexer": "ipython2",
   "version": "2.7.14"
  }
 },
 "nbformat": 4,
 "nbformat_minor": 2
}
