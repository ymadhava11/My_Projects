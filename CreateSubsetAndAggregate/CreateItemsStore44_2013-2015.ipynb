{
 "cells": [
  {
   "cell_type": "markdown",
   "metadata": {},
   "source": [
    "<b>Create a subset of items table having data for the years 2013 to 2015 for store 44 <br/>\n",
    "items_store44_2013_2015.csv is the csv file for the created table</b>"
   ]
  },
  {
   "cell_type": "code",
   "execution_count": 1,
   "metadata": {},
   "outputs": [],
   "source": [
    "from pyspark import SparkContext\n",
    "from pyspark import SQLContext\n",
    "sc = SparkContext()\n",
    "sqlContext = SQLContext(sc)\n",
    "from pyspark.sql import SparkSession\n",
    "sparkSession = SparkSession.builder.getOrCreate()\n",
    "\n",
    "from pyspark.sql.functions import col, countDistinct\n",
    "from pyspark.sql.functions import isnan, when, count, col"
   ]
  },
  {
   "cell_type": "code",
   "execution_count": 2,
   "metadata": {
    "collapsed": true
   },
   "outputs": [],
   "source": [
    "sdfItems = sqlContext.read.csv(\"/gl-capstone-data/Team6-C-Sep/Data/items.csv\",header = True,inferSchema = True)"
   ]
  },
  {
   "cell_type": "code",
   "execution_count": 3,
   "metadata": {},
   "outputs": [
    {
     "name": "stdout",
     "output_type": "stream",
     "text": [
      "root\n",
      " |-- item_nbr: integer (nullable = true)\n",
      " |-- family: string (nullable = true)\n",
      " |-- class: integer (nullable = true)\n",
      " |-- perishable: integer (nullable = true)\n",
      "\n"
     ]
    }
   ],
   "source": [
    "sdfItems.printSchema()"
   ]
  },
  {
   "cell_type": "code",
   "execution_count": 4,
   "metadata": {},
   "outputs": [
    {
     "data": {
      "text/plain": [
       "4100"
      ]
     },
     "execution_count": 4,
     "metadata": {},
     "output_type": "execute_result"
    }
   ],
   "source": [
    "sdfItems.count()"
   ]
  },
  {
   "cell_type": "code",
   "execution_count": 5,
   "metadata": {
    "collapsed": true
   },
   "outputs": [],
   "source": [
    "sqlContext.registerDataFrameAsTable(sdfItems, \"sdfItemsTbl\")"
   ]
  },
  {
   "cell_type": "code",
   "execution_count": 6,
   "metadata": {
    "collapsed": true
   },
   "outputs": [],
   "source": [
    "sdfTrain = sqlContext.read.csv(\"/gl-capstone-data/Team6-C-Sep/Data/train_store44.csv\",header = True,inferSchema = True)"
   ]
  },
  {
   "cell_type": "code",
   "execution_count": 8,
   "metadata": {
    "collapsed": true
   },
   "outputs": [],
   "source": [
    "sqlContext.registerDataFrameAsTable(sdfTrain, \"sdfTrainTbl\")"
   ]
  },
  {
   "cell_type": "code",
   "execution_count": 9,
   "metadata": {},
   "outputs": [],
   "source": [
    "sdfItems_store44_2013_2015 = sqlContext.sql(\"select * from sdfItemsTbl where item_nbr in (select item_nbr from sdfTrainTbl)\")"
   ]
  },
  {
   "cell_type": "code",
   "execution_count": 10,
   "metadata": {},
   "outputs": [
    {
     "data": {
      "text/plain": [
       "3104"
      ]
     },
     "execution_count": 10,
     "metadata": {},
     "output_type": "execute_result"
    }
   ],
   "source": [
    "sdfItems_store44_2013_2015.count()"
   ]
  },
  {
   "cell_type": "code",
   "execution_count": 11,
   "metadata": {},
   "outputs": [
    {
     "name": "stdout",
     "output_type": "stream",
     "text": [
      "+--------+-------------+-----+----------+\n",
      "|item_nbr|       family|class|perishable|\n",
      "+--------+-------------+-----+----------+\n",
      "|  454593|    GROCERY I| 1092|         0|\n",
      "|  459762| BREAD/BAKERY| 2708|         1|\n",
      "|  692531|    GROCERY I| 1040|         0|\n",
      "|  699703|        MEATS| 2302|         1|\n",
      "|  759651|PERSONAL CARE| 4126|         0|\n",
      "+--------+-------------+-----+----------+\n",
      "only showing top 5 rows\n",
      "\n"
     ]
    }
   ],
   "source": [
    "sdfItems_store44_2013_2015.show(5)"
   ]
  },
  {
   "cell_type": "code",
   "execution_count": 13,
   "metadata": {},
   "outputs": [],
   "source": [
    "sdfItems_store44_2013_2015.write.csv(\"/gl-capstone-data/Team6-C-Sep/Data/items_store44_2013_2015.csv\", header=True)"
   ]
  },
  {
   "cell_type": "code",
   "execution_count": 14,
   "metadata": {
    "collapsed": true
   },
   "outputs": [],
   "source": [
    "sdfItems_store44_2013_2015Reload = sqlContext.read.csv(\"/gl-capstone-data/Team6-C-Sep/Data/items_store44_2013_2015.csv\",header = True,inferSchema = True)"
   ]
  },
  {
   "cell_type": "code",
   "execution_count": 16,
   "metadata": {},
   "outputs": [
    {
     "data": {
      "text/plain": [
       "3104"
      ]
     },
     "execution_count": 16,
     "metadata": {},
     "output_type": "execute_result"
    }
   ],
   "source": [
    "sdfItems_store44_2013_2015Reload.count()"
   ]
  },
  {
   "cell_type": "code",
   "execution_count": 17,
   "metadata": {},
   "outputs": [
    {
     "name": "stdout",
     "output_type": "stream",
     "text": [
      "root\n",
      " |-- item_nbr: integer (nullable = true)\n",
      " |-- family: string (nullable = true)\n",
      " |-- class: integer (nullable = true)\n",
      " |-- perishable: integer (nullable = true)\n",
      "\n"
     ]
    }
   ],
   "source": [
    "sdfItems_store44_2013_2015Reload.printSchema()"
   ]
  },
  {
   "cell_type": "code",
   "execution_count": 18,
   "metadata": {},
   "outputs": [
    {
     "name": "stdout",
     "output_type": "stream",
     "text": [
      "+--------+------------+-----+----------+\n",
      "|item_nbr|      family|class|perishable|\n",
      "+--------+------------+-----+----------+\n",
      "|  169028|   GROCERY I| 1040|         0|\n",
      "|  269084|BREAD/BAKERY| 2720|         1|\n",
      "|  368628|   BEVERAGES| 1122|         0|\n",
      "|  517909|        DELI| 2690|         1|\n",
      "|  587069|   GROCERY I| 1004|         0|\n",
      "+--------+------------+-----+----------+\n",
      "only showing top 5 rows\n",
      "\n",
      "None\n"
     ]
    }
   ],
   "source": [
    "print(sdfItems_store44_2013_2015Reload.show(5))"
   ]
  },
  {
   "cell_type": "code",
   "execution_count": null,
   "metadata": {
    "collapsed": true
   },
   "outputs": [],
   "source": []
  }
 ],
 "metadata": {
  "kernelspec": {
   "display_name": "PySpark",
   "language": "python",
   "name": "pyspark"
  },
  "language_info": {
   "codemirror_mode": {
    "name": "ipython",
    "version": 2
   },
   "file_extension": ".py",
   "mimetype": "text/x-python",
   "name": "python",
   "nbconvert_exporter": "python",
   "pygments_lexer": "ipython2",
   "version": "2.7.14"
  }
 },
 "nbformat": 4,
 "nbformat_minor": 2
}
