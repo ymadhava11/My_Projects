{
 "cells": [
  {
   "cell_type": "markdown",
   "metadata": {},
   "source": [
    "### Capstone Project - PGP BDML\n",
    "#### Exploratory Data Analysis of Super Market Data\n",
    "#### Teams: Yagnaraman M, Sathiyakailash S, Rajesh Shankar, Vidya K, Laxman."
   ]
  },
  {
   "cell_type": "code",
   "execution_count": 1,
   "metadata": {
    "collapsed": true
   },
   "outputs": [],
   "source": [
    "import pandas as pd\n",
    "import numpy as np\n",
    "import datetime\n",
    "\n",
    "from pyspark.sql import  SparkSession\n",
    "from pyspark import SparkContext\n",
    "from pyspark.sql.types import *\n",
    "from pyspark import SQLContext\n",
    "import matplotlib.pyplot as plt\n",
    "\n",
    "from pyspark.sql.functions import col, countDistinct\n",
    "from pyspark.sql.functions import isnan, when, count, col\n",
    "from pyspark.sql.functions import year, month, dayofmonth\n",
    "\n",
    "import matplotlib as plot\n",
    "import matplotlib.pyplot as plt\n",
    "import seaborn as sns\n",
    "%matplotlib inline"
   ]
  },
  {
   "cell_type": "code",
   "execution_count": 2,
   "metadata": {},
   "outputs": [],
   "source": [
    "sc = SparkContext()"
   ]
  },
  {
   "cell_type": "code",
   "execution_count": 3,
   "metadata": {
    "collapsed": true
   },
   "outputs": [],
   "source": [
    "sqlContext = SQLContext(sc)"
   ]
  },
  {
   "cell_type": "markdown",
   "metadata": {},
   "source": [
    "### Exploratory Data Analysis for Store 44 - Item Data "
   ]
  },
  {
   "cell_type": "code",
   "execution_count": 4,
   "metadata": {},
   "outputs": [],
   "source": [
    "item_data = sqlContext.read.csv(\"/gl-capstone-data/Team6-C-Sep/Data/items_store44_2013_2015.csv\",header = True,inferSchema = True)"
   ]
  },
  {
   "cell_type": "code",
   "execution_count": 5,
   "metadata": {},
   "outputs": [
    {
     "data": {
      "text/plain": [
       "3104"
      ]
     },
     "execution_count": 5,
     "metadata": {},
     "output_type": "execute_result"
    }
   ],
   "source": [
    "item_data.count()"
   ]
  },
  {
   "cell_type": "code",
   "execution_count": 6,
   "metadata": {},
   "outputs": [
    {
     "name": "stdout",
     "output_type": "stream",
     "text": [
      "+--------+------------+-----+----------+\n",
      "|item_nbr|      family|class|perishable|\n",
      "+--------+------------+-----+----------+\n",
      "|  169028|   GROCERY I| 1040|         0|\n",
      "|  269084|BREAD/BAKERY| 2720|         1|\n",
      "|  368628|   BEVERAGES| 1122|         0|\n",
      "|  517909|        DELI| 2690|         1|\n",
      "|  587069|   GROCERY I| 1004|         0|\n",
      "+--------+------------+-----+----------+\n",
      "only showing top 5 rows\n",
      "\n"
     ]
    }
   ],
   "source": [
    "item_data.show(5)"
   ]
  },
  {
   "cell_type": "code",
   "execution_count": 7,
   "metadata": {},
   "outputs": [
    {
     "name": "stdout",
     "output_type": "stream",
     "text": [
      "+----------------------+\n",
      "|count(DISTINCT family)|\n",
      "+----------------------+\n",
      "|                    31|\n",
      "+----------------------+\n",
      "\n"
     ]
    }
   ],
   "source": [
    "item_data.agg(countDistinct(\"family\")).show()"
   ]
  },
  {
   "cell_type": "markdown",
   "metadata": {},
   "source": [
    "##### There are 31 family types"
   ]
  },
  {
   "cell_type": "code",
   "execution_count": 8,
   "metadata": {},
   "outputs": [
    {
     "name": "stdout",
     "output_type": "stream",
     "text": [
      "+--------+------+-----+----------+\n",
      "|item_nbr|family|class|perishable|\n",
      "+--------+------+-----+----------+\n",
      "|       0|     0|    0|         0|\n",
      "+--------+------+-----+----------+\n",
      "\n"
     ]
    }
   ],
   "source": [
    "item_data.select([count(when(col(c).isNull(), c)).alias(c) for c in item_data.columns]).show()"
   ]
  },
  {
   "cell_type": "code",
   "execution_count": 13,
   "metadata": {},
   "outputs": [
    {
     "name": "stdout",
     "output_type": "stream",
     "text": [
      "+-------+------------------+----------+------------------+------------------+\n",
      "|summary|          item_nbr|    family|             class|        perishable|\n",
      "+-------+------------------+----------+------------------+------------------+\n",
      "|  count|              3104|      3104|              3104|              3104|\n",
      "|   mean|1106774.6211340206|      null| 2209.420425257732|0.2503221649484536|\n",
      "| stddev| 526905.2388895251|      null|1497.7548181989923|0.4332683417434914|\n",
      "|    min|             96995|AUTOMOTIVE|              1002|                 0|\n",
      "|    max|           2037487|   SEAFOOD|              7780|                 1|\n",
      "+-------+------------------+----------+------------------+------------------+\n",
      "\n"
     ]
    }
   ],
   "source": [
    "item_data.describe().show()"
   ]
  },
  {
   "cell_type": "markdown",
   "metadata": {},
   "source": [
    "#### There are no null values to fix in this file. "
   ]
  },
  {
   "cell_type": "code",
   "execution_count": 9,
   "metadata": {
    "collapsed": true
   },
   "outputs": [],
   "source": [
    "family_count = item_data.groupBy(\"family\").count().sort(\"count\", ascending = False).take(5)\n",
    "family_count = pd.DataFrame(family_count, columns = ['family', 'count'])"
   ]
  },
  {
   "cell_type": "code",
   "execution_count": 10,
   "metadata": {},
   "outputs": [
    {
     "name": "stderr",
     "output_type": "stream",
     "text": [
      "/usr/local/anaconda/python2/lib/python2.7/site-packages/seaborn/categorical.py:1460: FutureWarning: remove_na is deprecated and is a private function. Do not use.\n",
      "  stat_data = remove_na(group_data)\n"
     ]
    },
    {
     "data": {
      "image/png": "[encoded data removed]",
      "text/plain": [
       "<matplotlib.figure.Figure at 0x7f1ddc6b1290>"
      ]
     },
     "metadata": {},
     "output_type": "display_data"
    }
   ],
   "source": [
    "plt.figure(figsize=(6,6))\n",
    "sns.countplot(y=\"family\",data=item_data.toPandas(),order = item_data.toPandas()['family'].value_counts().index)\n",
    "plt.show()"
   ]
  },
  {
   "cell_type": "markdown",
   "metadata": {},
   "source": [
    "#### Grocery I is having most items with almost 900+ items."
   ]
  },
  {
   "cell_type": "code",
   "execution_count": 11,
   "metadata": {},
   "outputs": [
    {
     "data": {
      "image/png": "[encoded data removed]",
      "text/plain": [
       "<matplotlib.figure.Figure at 0x7f60fc526ed0>"
      ]
     },
     "metadata": {},
     "output_type": "display_data"
    }
   ],
   "source": [
    "plt.figure(figsize=(3,3))\n",
    "sns.countplot(x=\"perishable\",data=item_data.toPandas(),order = item_data.toPandas()['perishable'].value_counts().index)\n",
    "plt.show()"
   ]
  },
  {
   "cell_type": "markdown",
   "metadata": {},
   "source": [
    "#### The non pershable items are more than the perishable items"
   ]
  },
  {
   "cell_type": "markdown",
   "metadata": {},
   "source": [
    "### Exploratory Data Analysis for Store 44 - Oil Data"
   ]
  },
  {
   "cell_type": "code",
   "execution_count": 12,
   "metadata": {
    "collapsed": true
   },
   "outputs": [],
   "source": [
    "oil_data = sqlContext.read.csv(\"/gl-capstone-data/Team6-C-Sep/Data/oil_2013_2015.csv\",header = True,inferSchema = True)"
   ]
  },
  {
   "cell_type": "code",
   "execution_count": 13,
   "metadata": {},
   "outputs": [
    {
     "data": {
      "text/plain": [
       "783"
      ]
     },
     "execution_count": 13,
     "metadata": {},
     "output_type": "execute_result"
    }
   ],
   "source": [
    "oil_data.count()"
   ]
  },
  {
   "cell_type": "code",
   "execution_count": 14,
   "metadata": {},
   "outputs": [
    {
     "data": {
      "text/plain": [
       "27"
      ]
     },
     "execution_count": 14,
     "metadata": {},
     "output_type": "execute_result"
    }
   ],
   "source": [
    "oil_data.filter(\"dcoilwtico is NULL\").count()"
   ]
  },
  {
   "cell_type": "code",
   "execution_count": 15,
   "metadata": {},
   "outputs": [
    {
     "name": "stdout",
     "output_type": "stream",
     "text": [
      "+-------------------+----------+\n",
      "|               date|dcoilwtico|\n",
      "+-------------------+----------+\n",
      "|2013-01-01 00:00:00|      null|\n",
      "|2013-01-21 00:00:00|      null|\n",
      "|2013-02-18 00:00:00|      null|\n",
      "|2013-03-29 00:00:00|      null|\n",
      "|2013-05-27 00:00:00|      null|\n",
      "+-------------------+----------+\n",
      "only showing top 5 rows\n",
      "\n"
     ]
    }
   ],
   "source": [
    "oil_data.filter(\"dcoilwtico is NULL\").show(5)"
   ]
  },
  {
   "cell_type": "markdown",
   "metadata": {},
   "source": [
    "##### There are 27 entries where the oil data is not available. Either this should be imputed or needs to be removed."
   ]
  },
  {
   "cell_type": "code",
   "execution_count": 16,
   "metadata": {},
   "outputs": [
    {
     "name": "stdout",
     "output_type": "stream",
     "text": [
      "+------------------------+---------------------------------------------------------+\n",
      "|year(CAST(date AS DATE))|percentile_approx(dcoilwtico, CAST(0.5 AS DOUBLE), 10000)|\n",
      "+------------------------+---------------------------------------------------------+\n",
      "|                    2015|                                                    47.86|\n",
      "|                    2013|                                                    96.29|\n",
      "|                    2014|                                                    97.84|\n",
      "+------------------------+---------------------------------------------------------+\n",
      "\n"
     ]
    }
   ],
   "source": [
    "oil_data.createOrReplaceTempView(\"oildata\")\n",
    "sqlContext.sql(\"select year(date), percentile_approx(dcoilwtico, 0.5) from oildata group by year(date)\").show()"
   ]
  },
  {
   "cell_type": "markdown",
   "metadata": {},
   "source": [
    "#### Surpirising that Year 2015 has a median of 47.86 though the other two years has relatively higher value. Cross verified the data for Year 2016 and 2017 and it seems to be correct one. "
   ]
  },
  {
   "cell_type": "code",
   "execution_count": 17,
   "metadata": {},
   "outputs": [
    {
     "data": {
      "text/plain": [
       "<matplotlib.axes._subplots.AxesSubplot at 0x7f60fc531650>"
      ]
     },
     "execution_count": 17,
     "metadata": {},
     "output_type": "execute_result"
    },
    {
     "data": {
      "image/png": "[encoded data removed]",
      "text/plain": [
       "<matplotlib.figure.Figure at 0x7f60d37357d0>"
      ]
     },
     "metadata": {},
     "output_type": "display_data"
    }
   ],
   "source": [
    "# what is the mean oil price per month starting 2013/01/1 to 2015/12/31\n",
    "oil_data_pd = oil_data.toPandas()\n",
    "oil_data_pd['date'] = pd.to_datetime(oil_data_pd['date'])\n",
    "oil_data_pd.index = oil_data_pd['date']\n",
    "oil_data_pd.resample('Y').mean().plot()"
   ]
  },
  {
   "cell_type": "code",
   "execution_count": 18,
   "metadata": {},
   "outputs": [
    {
     "data": {
      "text/plain": [
       "<matplotlib.axes._subplots.AxesSubplot at 0x7f60fc5f1210>"
      ]
     },
     "execution_count": 18,
     "metadata": {},
     "output_type": "execute_result"
    },
    {
     "data": {
      "image/png": "[encoded data removed]",
      "text/plain": [
       "<matplotlib.figure.Figure at 0x7f60d3735a10>"
      ]
     },
     "metadata": {},
     "output_type": "display_data"
    }
   ],
   "source": [
    "oil_data_pd.resample('M').mean().plot()\n"
   ]
  },
  {
   "cell_type": "markdown",
   "metadata": {},
   "source": [
    "### Exploratory Data Analysis for Store 44 - Holiday Events"
   ]
  },
  {
   "cell_type": "code",
   "execution_count": 19,
   "metadata": {
    "collapsed": true
   },
   "outputs": [],
   "source": [
    "holiday_data = sqlContext.read.csv(\"/gl-capstone-data/Team6-C-Sep/Data/holidays_events_2013_2015.csv\",header = True,inferSchema = True)"
   ]
  },
  {
   "cell_type": "code",
   "execution_count": 20,
   "metadata": {},
   "outputs": [
    {
     "data": {
      "text/plain": [
       "170"
      ]
     },
     "execution_count": 20,
     "metadata": {},
     "output_type": "execute_result"
    }
   ],
   "source": [
    "holiday_data.count()"
   ]
  },
  {
   "cell_type": "code",
   "execution_count": 21,
   "metadata": {},
   "outputs": [
    {
     "name": "stdout",
     "output_type": "stream",
     "text": [
      "+-------------------+----------+--------+-----------+--------------------+-----------+\n",
      "|               date|      type|  locale|locale_name|         description|transferred|\n",
      "+-------------------+----------+--------+-----------+--------------------+-----------+\n",
      "|2013-01-01 00:00:00|   Holiday|National|    Ecuador|  Primer dia del ano|      false|\n",
      "|2013-01-05 00:00:00|  Work Day|National|    Ecuador|Recupero puente N...|      false|\n",
      "|2013-01-12 00:00:00|  Work Day|National|    Ecuador|Recupero puente p...|      false|\n",
      "|2013-02-11 00:00:00|   Holiday|National|    Ecuador|            Carnaval|      false|\n",
      "|2013-02-12 00:00:00|   Holiday|National|    Ecuador|            Carnaval|      false|\n",
      "|2013-03-02 00:00:00|   Holiday|   Local|      Manta|  Fundacion de Manta|      false|\n",
      "|2013-04-01 00:00:00|   Holiday|Regional|   Cotopaxi|Provincializacion...|      false|\n",
      "|2013-04-12 00:00:00|   Holiday|   Local|     Cuenca| Fundacion de Cuenca|      false|\n",
      "|2013-04-14 00:00:00|   Holiday|   Local|   Libertad|Cantonizacion de ...|      false|\n",
      "|2013-04-21 00:00:00|   Holiday|   Local|   Riobamba|Cantonizacion de ...|      false|\n",
      "|2013-04-29 00:00:00|   Holiday|National|    Ecuador|       Viernes Santo|      false|\n",
      "|2013-05-01 00:00:00|   Holiday|National|    Ecuador|     Dia del Trabajo|      false|\n",
      "|2013-05-11 00:00:00|Additional|National|    Ecuador|   Dia de la Madre-1|      false|\n",
      "|2013-05-12 00:00:00|   Holiday|   Local|       Puyo|Cantonizacion del...|      false|\n",
      "|2013-05-12 00:00:00|     Event|National|    Ecuador|     Dia de la Madre|      false|\n",
      "|2013-05-24 00:00:00|   Holiday|National|    Ecuador|Batalla de Pichincha|      false|\n",
      "|2013-06-23 00:00:00|   Holiday|   Local|   Guaranda|Cantonizacion de ...|      false|\n",
      "|2013-06-25 00:00:00|   Holiday|Regional|   Imbabura|Provincializacion...|      false|\n",
      "|2013-06-25 00:00:00|   Holiday|   Local|    Machala|Fundacion de Machala|      false|\n",
      "|2013-06-25 00:00:00|   Holiday|   Local|  Latacunga|Cantonizacion de ...|      false|\n",
      "+-------------------+----------+--------+-----------+--------------------+-----------+\n",
      "only showing top 20 rows\n",
      "\n"
     ]
    }
   ],
   "source": [
    "holiday_data.show()"
   ]
  },
  {
   "cell_type": "code",
   "execution_count": 22,
   "metadata": {},
   "outputs": [
    {
     "name": "stdout",
     "output_type": "stream",
     "text": [
      "+-----------+-----+\n",
      "|transferred|count|\n",
      "+-----------+-----+\n",
      "|       true|    2|\n",
      "|      false|  168|\n",
      "+-----------+-----+\n",
      "\n"
     ]
    }
   ],
   "source": [
    "holiday_data.groupBy('transferred').count().show()"
   ]
  },
  {
   "cell_type": "markdown",
   "metadata": {},
   "source": [
    "#### Out of 211 days, there are 3 holidays got transferred to another date. Since the holidays are transferred to the next day it is believed it doesnt impact much of the monthly sales prediction."
   ]
  },
  {
   "cell_type": "code",
   "execution_count": 23,
   "metadata": {},
   "outputs": [
    {
     "name": "stdout",
     "output_type": "stream",
     "text": [
      "+-------------------+-------+--------+-----------+--------------------+-----------+\n",
      "|               date|   type|  locale|locale_name|         description|transferred|\n",
      "+-------------------+-------+--------+-----------+--------------------+-----------+\n",
      "|2013-10-09 00:00:00|Holiday|National|    Ecuador|Independencia de ...|       true|\n",
      "|2014-10-09 00:00:00|Holiday|National|    Ecuador|Independencia de ...|       true|\n",
      "+-------------------+-------+--------+-----------+--------------------+-----------+\n",
      "\n"
     ]
    }
   ],
   "source": [
    "holiday_data.filter(col('transferred') == True).show()"
   ]
  },
  {
   "cell_type": "code",
   "execution_count": 24,
   "metadata": {},
   "outputs": [
    {
     "name": "stdout",
     "output_type": "stream",
     "text": [
      "+----------+----------+-----+\n",
      "|year(date)|      type|count|\n",
      "+----------+----------+-----+\n",
      "|      2013|Additional|    9|\n",
      "|      2013|     Event|    1|\n",
      "|      2013|   Holiday|   38|\n",
      "|      2014|    Bridge|    1|\n",
      "|      2015|    Bridge|    1|\n",
      "|      2015|     Event|    3|\n",
      "|      2014|   Holiday|   38|\n",
      "|      2014|Additional|    9|\n",
      "|      2015|  Work Day|    1|\n",
      "|      2014|  Transfer|    1|\n",
      "|      2015|Additional|    8|\n",
      "|      2014|  Work Day|    1|\n",
      "|      2015|   Holiday|   39|\n",
      "|      2013|  Transfer|    1|\n",
      "|      2013|  Work Day|    2|\n",
      "|      2014|     Event|   17|\n",
      "+----------+----------+-----+\n",
      "\n"
     ]
    }
   ],
   "source": [
    "holiday_year_count = holiday_data.groupBy(year(col('date')), col('type')).count().show()"
   ]
  },
  {
   "cell_type": "code",
   "execution_count": 25,
   "metadata": {},
   "outputs": [
    {
     "name": "stderr",
     "output_type": "stream",
     "text": [
      "/usr/local/anaconda/python2/lib/python2.7/site-packages/seaborn/categorical.py:1508: FutureWarning: remove_na is deprecated and is a private function. Do not use.\n",
      "  stat_data = remove_na(group_data[hue_mask])\n"
     ]
    },
    {
     "data": {
      "image/png": "[encoded data removed]",
      "text/plain": [
       "<matplotlib.figure.Figure at 0x7f60fc646e90>"
      ]
     },
     "metadata": {},
     "output_type": "display_data"
    }
   ],
   "source": [
    "sns.countplot(x=\"locale\",hue=\"type\",data=holiday_data.toPandas())\n",
    "plt.show()"
   ]
  },
  {
   "cell_type": "code",
   "execution_count": 26,
   "metadata": {},
   "outputs": [
    {
     "data": {
      "image/png": "[encoded data removed]",
      "text/plain": [
       "<matplotlib.figure.Figure at 0x7f60fc465050>"
      ]
     },
     "metadata": {},
     "output_type": "display_data"
    }
   ],
   "source": [
    "sns.countplot(y=\"locale_name\",hue=\"locale\",data=holiday_data.toPandas())\n",
    "plt.show()"
   ]
  },
  {
   "cell_type": "code",
   "execution_count": 27,
   "metadata": {},
   "outputs": [
    {
     "name": "stderr",
     "output_type": "stream",
     "text": [
      "/usr/local/anaconda/python2/lib/python2.7/site-packages/ipykernel_launcher.py:3: FutureWarning: how in .resample() is deprecated\n",
      "the new syntax is .resample(...)..apply(<func>)\n",
      "  This is separate from the ipykernel package so we can avoid doing imports until\n"
     ]
    },
    {
     "data": {
      "image/png": "[encoded data removed]",
      "text/plain": [
       "<matplotlib.figure.Figure at 0x7f60fc247f50>"
      ]
     },
     "metadata": {},
     "output_type": "display_data"
    }
   ],
   "source": [
    "holiday_data_pd = holiday_data.toPandas()\n",
    "holiday_data_pd.index = holiday_data_pd['date']\n",
    "holiday_data_pd.resample('M',how={'type':'count'}).plot()\n",
    "plt.show()"
   ]
  },
  {
   "cell_type": "markdown",
   "metadata": {},
   "source": [
    "#### It is observed that the holiday count is higher around Nov and Dec region."
   ]
  },
  {
   "cell_type": "markdown",
   "metadata": {},
   "source": [
    "### Exploratory Data Analysis for Store 44 - Transaction Data "
   ]
  },
  {
   "cell_type": "code",
   "execution_count": 28,
   "metadata": {
    "collapsed": true
   },
   "outputs": [],
   "source": [
    "transaction_data = sqlContext.read.csv(\"/gl-capstone-data/Team6-C-Sep/Data/transactions_store44.csv\",header = True,inferSchema = True)"
   ]
  },
  {
   "cell_type": "code",
   "execution_count": 68,
   "metadata": {},
   "outputs": [
    {
     "data": {
      "text/plain": [
       "1089"
      ]
     },
     "execution_count": 68,
     "metadata": {},
     "output_type": "execute_result"
    }
   ],
   "source": [
    "transaction_data.count()"
   ]
  },
  {
   "cell_type": "code",
   "execution_count": 29,
   "metadata": {},
   "outputs": [
    {
     "name": "stdout",
     "output_type": "stream",
     "text": [
      "+-------------------+---------+------------+\n",
      "|               date|store_nbr|transactions|\n",
      "+-------------------+---------+------------+\n",
      "|2013-01-02 00:00:00|       44|        4821|\n",
      "|2013-01-03 00:00:00|       44|        3618|\n",
      "|2013-01-04 00:00:00|       44|        4169|\n",
      "|2013-01-05 00:00:00|       44|        4921|\n",
      "|2013-01-06 00:00:00|       44|        4925|\n",
      "|2013-01-07 00:00:00|       44|        3871|\n",
      "|2013-01-08 00:00:00|       44|        3593|\n",
      "|2013-01-09 00:00:00|       44|        4006|\n",
      "|2013-01-10 00:00:00|       44|        3323|\n",
      "|2013-01-11 00:00:00|       44|        3873|\n",
      "+-------------------+---------+------------+\n",
      "only showing top 10 rows\n",
      "\n"
     ]
    }
   ],
   "source": [
    "transaction_data.show(10)"
   ]
  },
  {
   "cell_type": "code",
   "execution_count": 30,
   "metadata": {},
   "outputs": [
    {
     "name": "stdout",
     "output_type": "stream",
     "text": [
      "+----+---------+------------+\n",
      "|date|store_nbr|transactions|\n",
      "+----+---------+------------+\n",
      "|   0|        0|           0|\n",
      "+----+---------+------------+\n",
      "\n"
     ]
    }
   ],
   "source": [
    "transaction_data.select([count(when(col(c).isNull(), c)).alias(c) for c in transaction_data.columns]).show()"
   ]
  },
  {
   "cell_type": "markdown",
   "metadata": {},
   "source": [
    "#### No Null values in the transaction data"
   ]
  },
  {
   "cell_type": "code",
   "execution_count": 31,
   "metadata": {},
   "outputs": [
    {
     "name": "stdout",
     "output_type": "stream",
     "text": [
      "+---------+\n",
      "|store_nbr|\n",
      "+---------+\n",
      "|       44|\n",
      "+---------+\n",
      "\n"
     ]
    }
   ],
   "source": [
    "transaction_data.select(\"store_nbr\").distinct().show()"
   ]
  },
  {
   "cell_type": "markdown",
   "metadata": {},
   "source": [
    "#### We have used only Store 44 for the Analysis"
   ]
  },
  {
   "cell_type": "code",
   "execution_count": 32,
   "metadata": {},
   "outputs": [
    {
     "data": {
      "text/plain": [
       "<matplotlib.axes._subplots.AxesSubplot at 0x7f60bc110bd0>"
      ]
     },
     "execution_count": 32,
     "metadata": {},
     "output_type": "execute_result"
    },
    {
     "data": {
      "image/png": "[encoded data removed]",
      "text/plain": [
       "<matplotlib.figure.Figure at 0x7f60fc473410>"
      ]
     },
     "metadata": {},
     "output_type": "display_data"
    }
   ],
   "source": [
    "trans = transaction_data.select(\"transactions\").collect()\n",
    "sns.distplot(trans)"
   ]
  },
  {
   "cell_type": "code",
   "execution_count": 33,
   "metadata": {},
   "outputs": [
    {
     "name": "stdout",
     "output_type": "stream",
     "text": [
      "2013-01-02 00:00:00\n"
     ]
    }
   ],
   "source": [
    "minRow = transaction_data.agg({\"date\": \"min\"}).collect()[0]\n",
    "print minRow[\"min(date)\"]"
   ]
  },
  {
   "cell_type": "code",
   "execution_count": 34,
   "metadata": {},
   "outputs": [
    {
     "name": "stdout",
     "output_type": "stream",
     "text": [
      "2015-12-31 00:00:00\n"
     ]
    }
   ],
   "source": [
    "maxRow = transaction_data.agg({\"date\": \"max\"}).collect()[0]\n",
    "print maxRow[\"max(date)\"]"
   ]
  },
  {
   "cell_type": "markdown",
   "metadata": {},
   "source": [
    "#### Transaction data of years 2013 to 2015 is taken for analysis"
   ]
  },
  {
   "cell_type": "code",
   "execution_count": 35,
   "metadata": {
    "collapsed": true
   },
   "outputs": [],
   "source": [
    "transaction_data_pd = transaction_data.toPandas()\n",
    "transaction_data_pd['date'] = pd.to_datetime(transaction_data_pd['date'])\n",
    "transaction_data_pd.index = transaction_data_pd['date']"
   ]
  },
  {
   "cell_type": "code",
   "execution_count": 36,
   "metadata": {},
   "outputs": [
    {
     "name": "stderr",
     "output_type": "stream",
     "text": [
      "/usr/local/anaconda/python2/lib/python2.7/site-packages/ipykernel_launcher.py:2: FutureWarning: how in .resample() is deprecated\n",
      "the new syntax is .resample(...)..apply(<func>)\n",
      "  \n"
     ]
    },
    {
     "data": {
      "text/plain": [
       "<matplotlib.figure.Figure at 0x7f60fc67b910>"
      ]
     },
     "metadata": {},
     "output_type": "display_data"
    },
    {
     "data": {
      "image/png": "[encoded data removed]",
      "text/plain": [
       "<matplotlib.figure.Figure at 0x7f60bc191f50>"
      ]
     },
     "metadata": {},
     "output_type": "display_data"
    }
   ],
   "source": [
    "plt.figure(figsize=(7,9))\n",
    "transaction_data_pd.resample('D',how={'transactions':'sum'}).plot()\n",
    "plt.show()"
   ]
  },
  {
   "cell_type": "code",
   "execution_count": 37,
   "metadata": {},
   "outputs": [
    {
     "name": "stderr",
     "output_type": "stream",
     "text": [
      "/usr/local/anaconda/python2/lib/python2.7/site-packages/ipykernel_launcher.py:1: FutureWarning: how in .resample() is deprecated\n",
      "the new syntax is .resample(...)..apply(<func>)\n",
      "  \"\"\"Entry point for launching an IPython kernel.\n"
     ]
    },
    {
     "data": {
      "image/png": "[encoded data removed]",
      "text/plain": [
       "<matplotlib.figure.Figure at 0x7f60b5f6f5d0>"
      ]
     },
     "metadata": {},
     "output_type": "display_data"
    }
   ],
   "source": [
    "transaction_data_pd.resample('W',how={'transactions':'sum'}).plot()\n",
    "plt.show()"
   ]
  },
  {
   "cell_type": "code",
   "execution_count": 38,
   "metadata": {},
   "outputs": [
    {
     "name": "stderr",
     "output_type": "stream",
     "text": [
      "/usr/local/anaconda/python2/lib/python2.7/site-packages/pandas/core/groupby.py:1324: FutureWarning: how in .resample() is deprecated\n",
      "the new syntax is .resample(...)..apply(<func>)\n",
      "  return get_resampler_for_grouping(self, rule, *args, **kwargs)\n"
     ]
    }
   ],
   "source": [
    "#### Let us take Transactions of each year\n",
    "Transactions2013 = transaction_data_pd['2013'].groupby('store_nbr').resample('Y',how={'transactions':'sum'})\n",
    "Transactions2014 = transaction_data_pd['2014'].groupby('store_nbr').resample('Y',how={'transactions':'sum'})\n",
    "Transactions2015 = transaction_data_pd['2015'].groupby('store_nbr').resample('Y',how={'transactions':'sum'})"
   ]
  },
  {
   "cell_type": "code",
   "execution_count": 39,
   "metadata": {},
   "outputs": [
    {
     "data": {
      "text/html": [
       "<div>\n",
       "<style scoped>\n",
       "    .dataframe tbody tr th:only-of-type {\n",
       "        vertical-align: middle;\n",
       "    }\n",
       "\n",
       "    .dataframe tbody tr th {\n",
       "        vertical-align: top;\n",
       "    }\n",
       "\n",
       "    .dataframe thead th {\n",
       "        text-align: right;\n",
       "    }\n",
       "</style>\n",
       "<table border=\"1\" class=\"dataframe\">\n",
       "  <thead>\n",
       "    <tr style=\"text-align: right;\">\n",
       "      <th></th>\n",
       "      <th></th>\n",
       "      <th>transactions</th>\n",
       "    </tr>\n",
       "    <tr>\n",
       "      <th>store_nbr</th>\n",
       "      <th>date</th>\n",
       "      <th></th>\n",
       "    </tr>\n",
       "  </thead>\n",
       "  <tbody>\n",
       "    <tr>\n",
       "      <th>44</th>\n",
       "      <th>2013-12-31</th>\n",
       "      <td>1493932</td>\n",
       "    </tr>\n",
       "  </tbody>\n",
       "</table>\n",
       "</div>"
      ],
      "text/plain": [
       "                      transactions\n",
       "store_nbr date                    \n",
       "44        2013-12-31       1493932"
      ]
     },
     "execution_count": 39,
     "metadata": {},
     "output_type": "execute_result"
    }
   ],
   "source": [
    "Transactions2013.sort_values('transactions',ascending=False)"
   ]
  },
  {
   "cell_type": "code",
   "execution_count": 40,
   "metadata": {},
   "outputs": [
    {
     "data": {
      "text/html": [
       "<div>\n",
       "<style scoped>\n",
       "    .dataframe tbody tr th:only-of-type {\n",
       "        vertical-align: middle;\n",
       "    }\n",
       "\n",
       "    .dataframe tbody tr th {\n",
       "        vertical-align: top;\n",
       "    }\n",
       "\n",
       "    .dataframe thead th {\n",
       "        text-align: right;\n",
       "    }\n",
       "</style>\n",
       "<table border=\"1\" class=\"dataframe\">\n",
       "  <thead>\n",
       "    <tr style=\"text-align: right;\">\n",
       "      <th></th>\n",
       "      <th></th>\n",
       "      <th>transactions</th>\n",
       "    </tr>\n",
       "    <tr>\n",
       "      <th>store_nbr</th>\n",
       "      <th>date</th>\n",
       "      <th></th>\n",
       "    </tr>\n",
       "  </thead>\n",
       "  <tbody>\n",
       "    <tr>\n",
       "      <th>44</th>\n",
       "      <th>2014-12-31</th>\n",
       "      <td>1622607</td>\n",
       "    </tr>\n",
       "  </tbody>\n",
       "</table>\n",
       "</div>"
      ],
      "text/plain": [
       "                      transactions\n",
       "store_nbr date                    \n",
       "44        2014-12-31       1622607"
      ]
     },
     "execution_count": 40,
     "metadata": {},
     "output_type": "execute_result"
    }
   ],
   "source": [
    "Transactions2014.sort_values('transactions',ascending=False)"
   ]
  },
  {
   "cell_type": "code",
   "execution_count": 41,
   "metadata": {},
   "outputs": [
    {
     "data": {
      "text/html": [
       "<div>\n",
       "<style scoped>\n",
       "    .dataframe tbody tr th:only-of-type {\n",
       "        vertical-align: middle;\n",
       "    }\n",
       "\n",
       "    .dataframe tbody tr th {\n",
       "        vertical-align: top;\n",
       "    }\n",
       "\n",
       "    .dataframe thead th {\n",
       "        text-align: right;\n",
       "    }\n",
       "</style>\n",
       "<table border=\"1\" class=\"dataframe\">\n",
       "  <thead>\n",
       "    <tr style=\"text-align: right;\">\n",
       "      <th></th>\n",
       "      <th></th>\n",
       "      <th>transactions</th>\n",
       "    </tr>\n",
       "    <tr>\n",
       "      <th>store_nbr</th>\n",
       "      <th>date</th>\n",
       "      <th></th>\n",
       "    </tr>\n",
       "  </thead>\n",
       "  <tbody>\n",
       "    <tr>\n",
       "      <th>44</th>\n",
       "      <th>2015-12-31</th>\n",
       "      <td>1593523</td>\n",
       "    </tr>\n",
       "  </tbody>\n",
       "</table>\n",
       "</div>"
      ],
      "text/plain": [
       "                      transactions\n",
       "store_nbr date                    \n",
       "44        2015-12-31       1593523"
      ]
     },
     "execution_count": 41,
     "metadata": {},
     "output_type": "execute_result"
    }
   ],
   "source": [
    "Transactions2015.sort_values('transactions',ascending=False)"
   ]
  },
  {
   "cell_type": "markdown",
   "metadata": {},
   "source": [
    "### Exploratory Data Analysis for Store 44 - Train Data "
   ]
  },
  {
   "cell_type": "code",
   "execution_count": 42,
   "metadata": {
    "collapsed": true
   },
   "outputs": [],
   "source": [
    "train_data = sqlContext.read.csv(\"/gl-capstone-data/Team6-C-Sep/Data/train_store44.csv\",header = True,inferSchema = True)"
   ]
  },
  {
   "cell_type": "code",
   "execution_count": 43,
   "metadata": {},
   "outputs": [
    {
     "name": "stdout",
     "output_type": "stream",
     "text": [
      "+-----+-------------------+---------+--------+----------+-----------+\n",
      "|   id|               date|store_nbr|item_nbr|unit_sales|onpromotion|\n",
      "+-----+-------------------+---------+--------+----------+-----------+\n",
      "|32292|2013-01-02 00:00:00|       44|  103520|      12.0|       null|\n",
      "|32293|2013-01-02 00:00:00|       44|  103665|      20.0|       null|\n",
      "|32294|2013-01-02 00:00:00|       44|  105574|      51.0|       null|\n",
      "|32295|2013-01-02 00:00:00|       44|  105575|      74.0|       null|\n",
      "|32296|2013-01-02 00:00:00|       44|  105577|      23.0|       null|\n",
      "+-----+-------------------+---------+--------+----------+-----------+\n",
      "only showing top 5 rows\n",
      "\n"
     ]
    }
   ],
   "source": [
    "train_data.show(5)"
   ]
  },
  {
   "cell_type": "code",
   "execution_count": 44,
   "metadata": {},
   "outputs": [
    {
     "data": {
      "text/plain": [
       "1913387"
      ]
     },
     "execution_count": 44,
     "metadata": {},
     "output_type": "execute_result"
    }
   ],
   "source": [
    "train_data.select(\"id\").distinct().count()"
   ]
  },
  {
   "cell_type": "code",
   "execution_count": 45,
   "metadata": {
    "collapsed": true
   },
   "outputs": [],
   "source": [
    "#### There are close to 2 M records for which the ID can act as primary key/one of the primary keys"
   ]
  },
  {
   "cell_type": "code",
   "execution_count": 46,
   "metadata": {},
   "outputs": [
    {
     "name": "stdout",
     "output_type": "stream",
     "text": [
      "+---+----+---------+--------+----------+-----------+\n",
      "| id|date|store_nbr|item_nbr|unit_sales|onpromotion|\n",
      "+---+----+---------+--------+----------+-----------+\n",
      "|  0|   0|        0|       0|         0|     649721|\n",
      "+---+----+---------+--------+----------+-----------+\n",
      "\n"
     ]
    }
   ],
   "source": [
    "train_data.select([count(when(col(c).isNull(), c)).alias(c) for c in train_data.columns]).show()"
   ]
  },
  {
   "cell_type": "code",
   "execution_count": 47,
   "metadata": {},
   "outputs": [
    {
     "name": "stdout",
     "output_type": "stream",
     "text": [
      "+-----------+\n",
      "|onpromotion|\n",
      "+-----------+\n",
      "|       null|\n",
      "|       true|\n",
      "|      false|\n",
      "+-----------+\n",
      "\n"
     ]
    }
   ],
   "source": [
    "train_data.select(\"onpromotion\").distinct().show()"
   ]
  },
  {
   "cell_type": "code",
   "execution_count": 48,
   "metadata": {
    "collapsed": true
   },
   "outputs": [],
   "source": [
    "# There are few null values in the on promotion flag."
   ]
  },
  {
   "cell_type": "code",
   "execution_count": 49,
   "metadata": {},
   "outputs": [
    {
     "name": "stdout",
     "output_type": "stream",
     "text": [
      "+-------+--------------------+--------------------+-----------------+-----------------+\n",
      "|summary|                  id|           store_nbr|         item_nbr|       unit_sales|\n",
      "+-------+--------------------+--------------------+-----------------+-----------------+\n",
      "|  count|             1913387|             1913387|          1913387|          1913387|\n",
      "|   mean|3.2444040060134202E7|                44.0|847920.4138692277|18.41339533173389|\n",
      "| stddev| 1.909390693754702E7|3.221893743654590...|439503.7729726517|41.98475192015884|\n",
      "|    min|               32292|                  44|            96995|          -1806.0|\n",
      "|    max|            66439180|                  44|          2037487|           8009.0|\n",
      "+-------+--------------------+--------------------+-----------------+-----------------+\n",
      "\n"
     ]
    }
   ],
   "source": [
    "train_data.describe().show()"
   ]
  },
  {
   "cell_type": "code",
   "execution_count": 50,
   "metadata": {
    "collapsed": true
   },
   "outputs": [],
   "source": [
    "### Unit Sales in negative? need to explore further"
   ]
  },
  {
   "cell_type": "code",
   "execution_count": 51,
   "metadata": {},
   "outputs": [
    {
     "data": {
      "text/plain": [
       "<matplotlib.axes._subplots.AxesSubplot at 0x7f60b5edb550>"
      ]
     },
     "execution_count": 51,
     "metadata": {},
     "output_type": "execute_result"
    },
    {
     "data": {
      "image/png": "[encoded data removed]",
      "text/plain": [
       "<matplotlib.figure.Figure at 0x7f60bc066090>"
      ]
     },
     "metadata": {},
     "output_type": "display_data"
    }
   ],
   "source": [
    "unit_sales = train_data.select(\"unit_sales\").collect()\n",
    "sns.distplot(unit_sales)"
   ]
  },
  {
   "cell_type": "code",
   "execution_count": 52,
   "metadata": {},
   "outputs": [
    {
     "data": {
      "text/plain": [
       "204"
      ]
     },
     "execution_count": 52,
     "metadata": {},
     "output_type": "execute_result"
    }
   ],
   "source": [
    "train_data.filter(col(\"unit_sales\") < 0 ).count()"
   ]
  },
  {
   "cell_type": "markdown",
   "metadata": {},
   "source": [
    "##### There are 204 such columns having negative unit count. There are return items which has caused the negative value. Let us find out most returned item"
   ]
  },
  {
   "cell_type": "code",
   "execution_count": 53,
   "metadata": {},
   "outputs": [
    {
     "name": "stdout",
     "output_type": "stream",
     "text": [
      "+--------+-------------------+---------+--------+----------+-----------+\n",
      "|      id|               date|store_nbr|item_nbr|unit_sales|onpromotion|\n",
      "+--------+-------------------+---------+--------+----------+-----------+\n",
      "|64987178|2015-12-15 00:00:00|       44|  257847|   -1806.0|      false|\n",
      "|64988339|2015-12-15 00:00:00|       44| 1157564|     -75.0|      false|\n",
      "|50915572|2015-07-08 00:00:00|       44|  819934|     -62.0|      false|\n",
      "|50915631|2015-07-08 00:00:00|       44|  847859|     -61.0|      false|\n",
      "| 6831152|2013-06-11 00:00:00|       44|  318847|     -41.0|       null|\n",
      "+--------+-------------------+---------+--------+----------+-----------+\n",
      "only showing top 5 rows\n",
      "\n"
     ]
    }
   ],
   "source": [
    "train_data.filter(col(\"unit_sales\") < 0 ).sort(col('unit_sales') , ascending = True).show(5)"
   ]
  },
  {
   "cell_type": "code",
   "execution_count": 54,
   "metadata": {},
   "outputs": [
    {
     "name": "stdout",
     "output_type": "stream",
     "text": [
      "+--------+---------+-----+----------+\n",
      "|item_nbr|   family|class|perishable|\n",
      "+--------+---------+-----+----------+\n",
      "|  257847|BEVERAGES| 1120|         0|\n",
      "+--------+---------+-----+----------+\n",
      "\n"
     ]
    }
   ],
   "source": [
    "item_data.filter(col('item_nbr') == 257847).show()"
   ]
  },
  {
   "cell_type": "markdown",
   "metadata": {},
   "source": [
    "#### Beverages has cost the maximum return among the unit sales."
   ]
  },
  {
   "cell_type": "code",
   "execution_count": 55,
   "metadata": {},
   "outputs": [
    {
     "name": "stdout",
     "output_type": "stream",
     "text": [
      "+-------+------------------+---------+-----------------+------------------+\n",
      "|summary|                id|store_nbr|         item_nbr|        unit_sales|\n",
      "+-------+------------------+---------+-----------------+------------------+\n",
      "|  count|            490565|   490565|           490565|            490565|\n",
      "|   mean| 8147906.823854127|     44.0|667409.3862750095|16.974961517841624|\n",
      "| stddev|4721717.3137169825|      0.0|324248.2978496713| 42.44433576403105|\n",
      "|    min|             32292|       44|            96995|             -41.0|\n",
      "|    max|          16312338|       44|          1247036|            6010.0|\n",
      "+-------+------------------+---------+-----------------+------------------+\n",
      "\n"
     ]
    }
   ],
   "source": [
    "sqlContext.registerDataFrameAsTable(train_data, \"traintbl\")\n",
    "train_2013 = sqlContext.sql(\"select *  from traintbl where date < '2014-01-01 00:00:00'\")\n",
    "train_2013.describe().show()"
   ]
  },
  {
   "cell_type": "code",
   "execution_count": 56,
   "metadata": {},
   "outputs": [
    {
     "data": {
      "image/png": "[encoded data removed]",
      "text/plain": [
       "<matplotlib.figure.Figure at 0x7f60b5f5b090>"
      ]
     },
     "metadata": {},
     "output_type": "display_data"
    }
   ],
   "source": [
    "unit_sales_2013 = train_2013.select(\"unit_sales\").collect()\n",
    "sns.distplot(unit_sales_2013)\n",
    "plt.show()"
   ]
  },
  {
   "cell_type": "code",
   "execution_count": 57,
   "metadata": {},
   "outputs": [
    {
     "name": "stdout",
     "output_type": "stream",
     "text": [
      "+-------+-------------------+---------+------------------+-----------------+\n",
      "|summary|                 id|store_nbr|          item_nbr|       unit_sales|\n",
      "+-------+-------------------+---------+------------------+-----------------+\n",
      "|  count|             657633|   657633|            657633|           657633|\n",
      "|   mean|2.739485696412893E7|     44.0| 863517.4424306566|20.34601231173009|\n",
      "| stddev|  6418209.431418302|      0.0|431977.87520716176|45.28781190365764|\n",
      "|    min|           16375625|       44|             96995|            -36.0|\n",
      "|    max|           38577787|       44|           1909770|         6025.771|\n",
      "+-------+-------------------+---------+------------------+-----------------+\n",
      "\n"
     ]
    }
   ],
   "source": [
    "train_2014 = sqlContext.sql(\"select *  from traintbl where date >= '2014-01-01 00:00:00' and date < '2015-01-01 00:00:00'\")\n",
    "train_2014.describe().show()"
   ]
  },
  {
   "cell_type": "code",
   "execution_count": 58,
   "metadata": {},
   "outputs": [
    {
     "data": {
      "image/png": "[encoded data removed]",
      "text/plain": [
       "<matplotlib.figure.Figure at 0x7f60bc0dc710>"
      ]
     },
     "metadata": {},
     "output_type": "display_data"
    }
   ],
   "source": [
    "unit_sales_2014 = train_2014.select(\"unit_sales\").collect()\n",
    "sns.distplot(unit_sales_2014)\n",
    "plt.show()"
   ]
  },
  {
   "cell_type": "code",
   "execution_count": 59,
   "metadata": {},
   "outputs": [
    {
     "name": "stdout",
     "output_type": "stream",
     "text": [
      "+-------+-------------------+---------+------------------+-----------------+\n",
      "|summary|                 id|store_nbr|          item_nbr|       unit_sales|\n",
      "+-------+-------------------+---------+------------------+-----------------+\n",
      "|  count|             765189|   765189|            765189|           765189|\n",
      "|   mean|5.235982822231501E7|     44.0| 950241.8946639327|17.67461390845924|\n",
      "| stddev|  8059168.696894901|      0.0|472933.70585664443| 38.5359330510908|\n",
      "|    min|           38641037|       44|             99197|          -1806.0|\n",
      "|    max|           66439180|       44|           2037487|           8009.0|\n",
      "+-------+-------------------+---------+------------------+-----------------+\n",
      "\n"
     ]
    }
   ],
   "source": [
    "train_2015 = sqlContext.sql(\"select *  from traintbl where date >= '2015-01-01 00:00:00' and date < '2016-01-01 00:00:00'\")\n",
    "train_2015.describe().show()"
   ]
  },
  {
   "cell_type": "code",
   "execution_count": 60,
   "metadata": {},
   "outputs": [
    {
     "data": {
      "image/png": "[encoded data removed]",
      "text/plain": [
       "<matplotlib.figure.Figure at 0x7f60bc0ab610>"
      ]
     },
     "metadata": {},
     "output_type": "display_data"
    }
   ],
   "source": [
    "unit_sales_2015 = train_2015.select(\"unit_sales\").collect()\n",
    "sns.distplot(unit_sales_2015)\n",
    "plt.show()"
   ]
  },
  {
   "cell_type": "code",
   "execution_count": 61,
   "metadata": {
    "collapsed": true
   },
   "outputs": [],
   "source": [
    "# There there is outlier for unit sales because of the returns"
   ]
  },
  {
   "cell_type": "code",
   "execution_count": 62,
   "metadata": {},
   "outputs": [
    {
     "name": "stdout",
     "output_type": "stream",
     "text": [
      "+---------+----+--------------+--------------------+\n",
      "|store_nbr|date|count_item_nbr|         total_sales|\n",
      "+---------+----+--------------+--------------------+\n",
      "|       44|2013|        490565|4.085092715458293...|\n",
      "+---------+----+--------------+--------------------+\n",
      "\n"
     ]
    }
   ],
   "source": [
    "trainTbl2013 = sqlContext.sql(\"SELECT store_nbr as store_nbr,year(date) as date,count(item_nbr) as count_item_nbr,(sum(unit_sales)*count(item_nbr)) as total_sales from traintbl where year(date) ='2013' group by store_nbr,year(date)\")\n",
    "trainTbl2013.show()"
   ]
  },
  {
   "cell_type": "code",
   "execution_count": 63,
   "metadata": {},
   "outputs": [
    {
     "name": "stdout",
     "output_type": "stream",
     "text": [
      "+---------+----+--------------+--------------------+\n",
      "|store_nbr|date|count_item_nbr|         total_sales|\n",
      "+---------+----+--------------+--------------------+\n",
      "|       44|2014|        657633|8.799267060661738E12|\n",
      "+---------+----+--------------+--------------------+\n",
      "\n"
     ]
    }
   ],
   "source": [
    "trainTbl2014 = sqlContext.sql(\"SELECT store_nbr as store_nbr,year(date) as date,count(item_nbr) as count_item_nbr,(sum(unit_sales)*count(item_nbr)) as total_sales from traintbl where year(date) ='2014' group by store_nbr,year(date)\")\n",
    "trainTbl2014.show()"
   ]
  },
  {
   "cell_type": "code",
   "execution_count": 64,
   "metadata": {},
   "outputs": [
    {
     "name": "stdout",
     "output_type": "stream",
     "text": [
      "+---------+----+--------------+--------------------+\n",
      "|store_nbr|date|count_item_nbr|         total_sales|\n",
      "+---------+----+--------------+--------------------+\n",
      "|       44|2015|        765189|1.034873752403685E13|\n",
      "+---------+----+--------------+--------------------+\n",
      "\n"
     ]
    }
   ],
   "source": [
    "trainTbl2015 = sqlContext.sql(\"SELECT store_nbr as store_nbr,year(date) as date,count(item_nbr) as count_item_nbr,(sum(unit_sales)*count(item_nbr)) as total_sales from traintbl where year(date) ='2015' group by store_nbr,year(date)\")\n",
    "trainTbl2015.show()"
   ]
  },
  {
   "cell_type": "markdown",
   "metadata": {},
   "source": [
    "#### The yearly sales has improved over the three years."
   ]
  },
  {
   "cell_type": "code",
   "execution_count": 65,
   "metadata": {
    "collapsed": true
   },
   "outputs": [],
   "source": [
    "item_data.createOrReplaceTempView(\"vwItems\")\n",
    "train_data.createOrReplaceTempView(\"vwTrain\")"
   ]
  },
  {
   "cell_type": "code",
   "execution_count": 66,
   "metadata": {},
   "outputs": [
    {
     "name": "stdout",
     "output_type": "stream",
     "text": [
      "+------------------------+\n",
      "|count(DISTINCT item_nbr)|\n",
      "+------------------------+\n",
      "|                    3104|\n",
      "+------------------------+\n",
      "\n"
     ]
    }
   ],
   "source": [
    "sqlContext.sql('select count(distinct vwTrain.item_nbr)  from vwItems, vwTrain where vwItems.item_nbr = vwTrain.item_nbr').show()"
   ]
  },
  {
   "cell_type": "markdown",
   "metadata": {},
   "source": [
    "#### train has 3104 items while 4100 items are present in total. Hence there are few items for which there is no data to predict."
   ]
  },
  {
   "cell_type": "code",
   "execution_count": null,
   "metadata": {
    "collapsed": true
   },
   "outputs": [],
   "source": []
  }
 ],
 "metadata": {
  "kernelspec": {
   "display_name": "PySpark",
   "language": "python",
   "name": "pyspark"
  },
  "language_info": {
   "codemirror_mode": {
    "name": "ipython",
    "version": 2
   },
   "file_extension": ".py",
   "mimetype": "text/x-python",
   "name": "python",
   "nbconvert_exporter": "python",
   "pygments_lexer": "ipython2",
   "version": "2.7.14"
  }
 },
 "nbformat": 4,
 "nbformat_minor": 2
}
