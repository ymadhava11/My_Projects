{
 "cells": [
  {
   "cell_type": "code",
   "execution_count": 1,
   "metadata": {
    "collapsed": true
   },
   "outputs": [],
   "source": [
    "from pyspark import SparkContext\n",
    "from pyspark import SQLContext\n",
    "sc = SparkContext()\n",
    "sqlContext = SQLContext(sc)\n",
    "from pyspark.sql import SparkSession\n",
    "sparkSession = SparkSession.builder.getOrCreate()\n",
    "\n",
    "from pyspark.sql.functions import col, countDistinct\n",
    "from pyspark.sql.functions import isnan, when, count, col\n",
    "\n",
    "\n",
    "import matplotlib as plot\n",
    "import pandas as pd\n",
    "import matplotlib.pyplot as plt\n",
    "import seaborn as sns\n",
    "%matplotlib inline"
   ]
  },
  {
   "cell_type": "code",
   "execution_count": 2,
   "metadata": {
    "collapsed": true
   },
   "outputs": [],
   "source": [
    "b, g, r, p = sns.color_palette(\"muted\", 4)"
   ]
  },
  {
   "cell_type": "markdown",
   "metadata": {},
   "source": [
    "<b>Explore file #1 stores.csv</b>"
   ]
  },
  {
   "cell_type": "code",
   "execution_count": 3,
   "metadata": {
    "collapsed": true
   },
   "outputs": [],
   "source": [
    "sdfStores = sqlContext.read.csv(\"/gl-capstone-data/Team6-C-Sep/Data/stores.csv\",header = True,inferSchema = True)"
   ]
  },
  {
   "cell_type": "code",
   "execution_count": 4,
   "metadata": {},
   "outputs": [
    {
     "data": {
      "text/plain": [
       "54"
      ]
     },
     "execution_count": 4,
     "metadata": {},
     "output_type": "execute_result"
    }
   ],
   "source": [
    "sdfStores.count()"
   ]
  },
  {
   "cell_type": "code",
   "execution_count": 5,
   "metadata": {},
   "outputs": [
    {
     "data": {
      "text/plain": [
       "DataFrame[summary: string, store_nbr: string, city: string, state: string, type: string, cluster: string]"
      ]
     },
     "execution_count": 5,
     "metadata": {},
     "output_type": "execute_result"
    }
   ],
   "source": [
    "# Added on 06/15/2018 - Yagna\n",
    "# Data Description\n",
    "sdfStores.describe()"
   ]
  },
  {
   "cell_type": "code",
   "execution_count": 6,
   "metadata": {},
   "outputs": [
    {
     "name": "stdout",
     "output_type": "stream",
     "text": [
      "+---------+-------------+--------------------+----+-------+\n",
      "|store_nbr|         city|               state|type|cluster|\n",
      "+---------+-------------+--------------------+----+-------+\n",
      "|        1|        Quito|           Pichincha|   D|     13|\n",
      "|        2|        Quito|           Pichincha|   D|     13|\n",
      "|        3|        Quito|           Pichincha|   D|      8|\n",
      "|        4|        Quito|           Pichincha|   D|      9|\n",
      "|        5|Santo Domingo|Santo Domingo de ...|   D|      4|\n",
      "|        6|        Quito|           Pichincha|   D|     13|\n",
      "|        7|        Quito|           Pichincha|   D|      8|\n",
      "|        8|        Quito|           Pichincha|   D|      8|\n",
      "|        9|        Quito|           Pichincha|   B|      6|\n",
      "|       10|        Quito|           Pichincha|   C|     15|\n",
      "+---------+-------------+--------------------+----+-------+\n",
      "only showing top 10 rows\n",
      "\n"
     ]
    }
   ],
   "source": [
    "# Added on 06/15/2018 - Yagna\n",
    "# Sample 10 records\n",
    "sdfStores.show(10)"
   ]
  },
  {
   "cell_type": "code",
   "execution_count": 7,
   "metadata": {},
   "outputs": [
    {
     "data": {
      "text/plain": [
       "54"
      ]
     },
     "execution_count": 7,
     "metadata": {},
     "output_type": "execute_result"
    }
   ],
   "source": [
    "sdfStores.count()"
   ]
  },
  {
   "cell_type": "code",
   "execution_count": 8,
   "metadata": {},
   "outputs": [
    {
     "name": "stdout",
     "output_type": "stream",
     "text": [
      "+-----+\n",
      "|count|\n",
      "+-----+\n",
      "|   54|\n",
      "+-----+\n",
      "\n"
     ]
    }
   ],
   "source": [
    "sdfStores.agg(countDistinct(col(\"store_nbr\")).alias(\"count\")).show()\n",
    "# store_nbr is the primary key as distinct count and total row count match"
   ]
  },
  {
   "cell_type": "code",
   "execution_count": 9,
   "metadata": {},
   "outputs": [
    {
     "name": "stdout",
     "output_type": "stream",
     "text": [
      "+---------+----+-----+----+-------+\n",
      "|store_nbr|city|state|type|cluster|\n",
      "+---------+----+-----+----+-------+\n",
      "|        0|   0|    0|   0|      0|\n",
      "+---------+----+-----+----+-------+\n",
      "\n"
     ]
    }
   ],
   "source": [
    "sdfStores.select([count(when(col(c).isNull(), c)).alias(c) for c in sdfStores.columns]).show()"
   ]
  },
  {
   "cell_type": "code",
   "execution_count": 10,
   "metadata": {},
   "outputs": [
    {
     "data": {
      "text/plain": [
       "22"
      ]
     },
     "execution_count": 10,
     "metadata": {},
     "output_type": "execute_result"
    }
   ],
   "source": [
    "sdfStores.select(\"city\").distinct().count()"
   ]
  },
  {
   "cell_type": "code",
   "execution_count": 11,
   "metadata": {},
   "outputs": [
    {
     "name": "stdout",
     "output_type": "stream",
     "text": [
      "+-------------+\n",
      "|         city|\n",
      "+-------------+\n",
      "|      Quevedo|\n",
      "|       Cuenca|\n",
      "|     Guaranda|\n",
      "|Santo Domingo|\n",
      "|       Playas|\n",
      "+-------------+\n",
      "only showing top 5 rows\n",
      "\n"
     ]
    }
   ],
   "source": [
    "sdfStores.select(\"city\").distinct().show(5)"
   ]
  },
  {
   "cell_type": "code",
   "execution_count": 12,
   "metadata": {},
   "outputs": [
    {
     "data": {
      "text/plain": [
       "16"
      ]
     },
     "execution_count": 12,
     "metadata": {},
     "output_type": "execute_result"
    }
   ],
   "source": [
    "sdfStores.select(\"state\").distinct().count()"
   ]
  },
  {
   "cell_type": "code",
   "execution_count": 13,
   "metadata": {},
   "outputs": [
    {
     "name": "stdout",
     "output_type": "stream",
     "text": [
      "+----------+\n",
      "|     state|\n",
      "+----------+\n",
      "|    Manabi|\n",
      "|  Cotopaxi|\n",
      "| Pichincha|\n",
      "|Chimborazo|\n",
      "|    Guayas|\n",
      "+----------+\n",
      "only showing top 5 rows\n",
      "\n"
     ]
    }
   ],
   "source": [
    "sdfStores.select(\"state\").distinct().show(5)"
   ]
  },
  {
   "cell_type": "code",
   "execution_count": 14,
   "metadata": {},
   "outputs": [
    {
     "data": {
      "text/plain": [
       "5"
      ]
     },
     "execution_count": 14,
     "metadata": {},
     "output_type": "execute_result"
    }
   ],
   "source": [
    "sdfStores.select(\"type\").distinct().count()"
   ]
  },
  {
   "cell_type": "code",
   "execution_count": 15,
   "metadata": {},
   "outputs": [
    {
     "name": "stdout",
     "output_type": "stream",
     "text": [
      "+----+\n",
      "|type|\n",
      "+----+\n",
      "|   E|\n",
      "|   B|\n",
      "|   D|\n",
      "|   C|\n",
      "|   A|\n",
      "+----+\n",
      "\n"
     ]
    }
   ],
   "source": [
    "sdfStores.select(\"type\").distinct().show(10)"
   ]
  },
  {
   "cell_type": "code",
   "execution_count": 16,
   "metadata": {},
   "outputs": [
    {
     "data": {
      "text/plain": [
       "17"
      ]
     },
     "execution_count": 16,
     "metadata": {},
     "output_type": "execute_result"
    }
   ],
   "source": [
    "sdfStores.select(\"cluster\").distinct().count()"
   ]
  },
  {
   "cell_type": "code",
   "execution_count": 17,
   "metadata": {},
   "outputs": [
    {
     "name": "stdout",
     "output_type": "stream",
     "text": [
      "+-------+\n",
      "|cluster|\n",
      "+-------+\n",
      "|     12|\n",
      "|      1|\n",
      "|     13|\n",
      "|      6|\n",
      "|     16|\n",
      "+-------+\n",
      "only showing top 5 rows\n",
      "\n"
     ]
    }
   ],
   "source": [
    "sdfStores.select(\"cluster\").distinct().show(5)"
   ]
  },
  {
   "cell_type": "code",
   "execution_count": 18,
   "metadata": {},
   "outputs": [
    {
     "name": "stderr",
     "output_type": "stream",
     "text": [
      "/usr/local/anaconda/python2/lib/python2.7/site-packages/seaborn/categorical.py:1508: FutureWarning: remove_na is deprecated and is a private function. Do not use.\n",
      "  stat_data = remove_na(group_data[hue_mask])\n"
     ]
    },
    {
     "data": {
      "text/plain": [
       "<matplotlib.axes._subplots.AxesSubplot at 0x7f4d0143b0d0>"
      ]
     },
     "execution_count": 18,
     "metadata": {},
     "output_type": "execute_result"
    },
    {
     "data": {
      "image/png": "[encoded data removed]",
      "text/plain": [
       "<matplotlib.figure.Figure at 0x7f4d0141bc90>"
      ]
     },
     "metadata": {},
     "output_type": "display_data"
    }
   ],
   "source": [
    "# Visual Data Analysis\n",
    "StoresDF = sdfStores.toPandas()\n",
    "sns.set(rc={'figure.figsize':(13.7,8.27)})\n",
    "sns.countplot(x=\"cluster\",hue=\"type\",data=StoresDF)"
   ]
  },
  {
   "cell_type": "code",
   "execution_count": 19,
   "metadata": {},
   "outputs": [
    {
     "name": "stderr",
     "output_type": "stream",
     "text": [
      "/usr/local/anaconda/python2/lib/python2.7/site-packages/seaborn/categorical.py:1460: FutureWarning: remove_na is deprecated and is a private function. Do not use.\n",
      "  stat_data = remove_na(group_data)\n"
     ]
    },
    {
     "data": {
      "text/plain": [
       "<matplotlib.axes._subplots.AxesSubplot at 0x7f4d0143b150>"
      ]
     },
     "execution_count": 19,
     "metadata": {},
     "output_type": "execute_result"
    },
    {
     "data": {
      "image/png": "[encoded data removed]",
      "text/plain": [
       "<matplotlib.figure.Figure at 0x7f4cec1f09d0>"
      ]
     },
     "metadata": {},
     "output_type": "display_data"
    }
   ],
   "source": [
    "sns.countplot(y=\"state\",data=StoresDF)"
   ]
  },
  {
   "cell_type": "code",
   "execution_count": 20,
   "metadata": {},
   "outputs": [
    {
     "data": {
      "text/plain": [
       "<matplotlib.axes._subplots.AxesSubplot at 0x7f4cebf03c50>"
      ]
     },
     "execution_count": 20,
     "metadata": {},
     "output_type": "execute_result"
    },
    {
     "data": {
      "image/png": "[encoded data removed]",
      "text/plain": [
       "<matplotlib.figure.Figure at 0x7f4cec1f0590>"
      ]
     },
     "metadata": {},
     "output_type": "display_data"
    }
   ],
   "source": [
    "sns.countplot(y=\"city\",data=StoresDF)"
   ]
  },
  {
   "cell_type": "code",
   "execution_count": 21,
   "metadata": {},
   "outputs": [
    {
     "data": {
      "text/plain": [
       "<matplotlib.axes._subplots.AxesSubplot at 0x7f4cebe49a10>"
      ]
     },
     "execution_count": 21,
     "metadata": {},
     "output_type": "execute_result"
    },
    {
     "data": {
      "image/png": "[encoded data removed]",
      "text/plain": [
       "<matplotlib.figure.Figure at 0x7f4cebe66890>"
      ]
     },
     "metadata": {},
     "output_type": "display_data"
    }
   ],
   "source": [
    "sns.countplot(x=\"type\",data=StoresDF,order = StoresDF['type'].value_counts().index,palette=\"Blues_d\")"
   ]
  },
  {
   "cell_type": "code",
   "execution_count": 22,
   "metadata": {},
   "outputs": [
    {
     "data": {
      "text/plain": [
       "<matplotlib.axes._subplots.AxesSubplot at 0x7f4cebdf3f50>"
      ]
     },
     "execution_count": 22,
     "metadata": {},
     "output_type": "execute_result"
    },
    {
     "data": {
      "image/png": "[encoded data removed]",
      "text/plain": [
       "<matplotlib.figure.Figure at 0x7f4cebdcc3d0>"
      ]
     },
     "metadata": {},
     "output_type": "display_data"
    }
   ],
   "source": [
    "sns.countplot(x=\"cluster\",data=StoresDF,order = StoresDF['cluster'].value_counts().index,palette=\"Blues_d\")"
   ]
  },
  {
   "cell_type": "markdown",
   "metadata": {},
   "source": [
    "<b>Explore file #2 oil.csv</b>"
   ]
  },
  {
   "cell_type": "code",
   "execution_count": 23,
   "metadata": {
    "collapsed": true
   },
   "outputs": [],
   "source": [
    "sdfOil = sqlContext.read.csv(\"/gl-capstone-data/Team6-C-Sep/Data/oil.csv\",header = True,inferSchema = True)"
   ]
  },
  {
   "cell_type": "code",
   "execution_count": 24,
   "metadata": {},
   "outputs": [
    {
     "data": {
      "text/plain": [
       "1218"
      ]
     },
     "execution_count": 24,
     "metadata": {},
     "output_type": "execute_result"
    }
   ],
   "source": [
    "sdfOil.count()"
   ]
  },
  {
   "cell_type": "code",
   "execution_count": 25,
   "metadata": {},
   "outputs": [
    {
     "name": "stdout",
     "output_type": "stream",
     "text": [
      "+-------------------+----------+\n",
      "|               date|dcoilwtico|\n",
      "+-------------------+----------+\n",
      "|2013-01-01 00:00:00|      null|\n",
      "|2013-01-02 00:00:00|     93.14|\n",
      "|2013-01-03 00:00:00|     92.97|\n",
      "|2013-01-04 00:00:00|     93.12|\n",
      "|2013-01-07 00:00:00|      93.2|\n",
      "|2013-01-08 00:00:00|     93.21|\n",
      "|2013-01-09 00:00:00|     93.08|\n",
      "|2013-01-10 00:00:00|     93.81|\n",
      "|2013-01-11 00:00:00|      93.6|\n",
      "|2013-01-14 00:00:00|     94.27|\n",
      "+-------------------+----------+\n",
      "only showing top 10 rows\n",
      "\n"
     ]
    }
   ],
   "source": [
    "sdfOil.show(10)"
   ]
  },
  {
   "cell_type": "code",
   "execution_count": 26,
   "metadata": {},
   "outputs": [
    {
     "name": "stdout",
     "output_type": "stream",
     "text": [
      "+-----+\n",
      "|count|\n",
      "+-----+\n",
      "| 1218|\n",
      "+-----+\n",
      "\n"
     ]
    }
   ],
   "source": [
    "sdfOil.agg(countDistinct(col(\"date\")).alias(\"count\")).show()\n",
    "# date is the primary key as distinct count and total row count match"
   ]
  },
  {
   "cell_type": "code",
   "execution_count": 27,
   "metadata": {},
   "outputs": [
    {
     "name": "stdout",
     "output_type": "stream",
     "text": [
      "+----+----------+\n",
      "|date|dcoilwtico|\n",
      "+----+----------+\n",
      "|   0|        43|\n",
      "+----+----------+\n",
      "\n"
     ]
    }
   ],
   "source": [
    "sdfOil.select([count(when(col(c).isNull(), c)).alias(c) for c in sdfOil.columns]).show()"
   ]
  },
  {
   "cell_type": "code",
   "execution_count": 28,
   "metadata": {},
   "outputs": [
    {
     "name": "stdout",
     "output_type": "stream",
     "text": [
      "+-------+------------------+\n",
      "|summary|        dcoilwtico|\n",
      "+-------+------------------+\n",
      "|  count|              1175|\n",
      "|   mean| 67.71436595744689|\n",
      "| stddev|25.630475729453117|\n",
      "|    min|             26.19|\n",
      "|    max|            110.62|\n",
      "+-------+------------------+\n",
      "\n"
     ]
    }
   ],
   "source": [
    "sdfOil.describe().show()"
   ]
  },
  {
   "cell_type": "code",
   "execution_count": 29,
   "metadata": {},
   "outputs": [
    {
     "data": {
      "text/plain": [
       "[46.41]"
      ]
     },
     "execution_count": 29,
     "metadata": {},
     "output_type": "execute_result"
    }
   ],
   "source": [
    "sdfOil.approxQuantile(\"dcoilwtico\", [0.5], 0.25)\n",
    "#median"
   ]
  },
  {
   "cell_type": "code",
   "execution_count": 30,
   "metadata": {},
   "outputs": [
    {
     "name": "stdout",
     "output_type": "stream",
     "text": [
      "2017-08-31 00:00:00\n"
     ]
    }
   ],
   "source": [
    "row1 = sdfOil.agg({\"date\": \"max\"}).collect()[0]\n",
    "print row1[\"max(date)\"]"
   ]
  },
  {
   "cell_type": "code",
   "execution_count": 31,
   "metadata": {},
   "outputs": [
    {
     "name": "stdout",
     "output_type": "stream",
     "text": [
      "2013-01-01 00:00:00\n"
     ]
    }
   ],
   "source": [
    "row2 = sdfOil.agg({\"date\": \"min\"}).collect()[0]\n",
    "print row2[\"min(date)\"]"
   ]
  },
  {
   "cell_type": "code",
   "execution_count": 32,
   "metadata": {
    "collapsed": true
   },
   "outputs": [],
   "source": [
    "# Timeseries Analysis"
   ]
  },
  {
   "cell_type": "code",
   "execution_count": 33,
   "metadata": {
    "collapsed": true
   },
   "outputs": [],
   "source": [
    "sdfOilDF = sdfOil.toPandas()"
   ]
  },
  {
   "cell_type": "code",
   "execution_count": 34,
   "metadata": {
    "collapsed": true
   },
   "outputs": [],
   "source": [
    "sdfOilDF['date'] = pd.to_datetime(sdfOilDF['date'])"
   ]
  },
  {
   "cell_type": "code",
   "execution_count": 35,
   "metadata": {
    "collapsed": true
   },
   "outputs": [],
   "source": [
    "sdfOilDF.index = sdfOilDF['date']\n",
    "del sdfOilDF['date']"
   ]
  },
  {
   "cell_type": "code",
   "execution_count": 36,
   "metadata": {},
   "outputs": [
    {
     "data": {
      "text/html": [
       "<div>\n",
       "<style scoped>\n",
       "    .dataframe tbody tr th:only-of-type {\n",
       "        vertical-align: middle;\n",
       "    }\n",
       "\n",
       "    .dataframe tbody tr th {\n",
       "        vertical-align: top;\n",
       "    }\n",
       "\n",
       "    .dataframe thead th {\n",
       "        text-align: right;\n",
       "    }\n",
       "</style>\n",
       "<table border=\"1\" class=\"dataframe\">\n",
       "  <thead>\n",
       "    <tr style=\"text-align: right;\">\n",
       "      <th></th>\n",
       "      <th>dcoilwtico</th>\n",
       "    </tr>\n",
       "    <tr>\n",
       "      <th>date</th>\n",
       "      <th></th>\n",
       "    </tr>\n",
       "  </thead>\n",
       "  <tbody>\n",
       "    <tr>\n",
       "      <th>2013-01-31</th>\n",
       "      <td>94.756667</td>\n",
       "    </tr>\n",
       "    <tr>\n",
       "      <th>2013-02-28</th>\n",
       "      <td>95.308947</td>\n",
       "    </tr>\n",
       "    <tr>\n",
       "      <th>2013-03-31</th>\n",
       "      <td>92.938500</td>\n",
       "    </tr>\n",
       "    <tr>\n",
       "      <th>2013-04-30</th>\n",
       "      <td>92.021364</td>\n",
       "    </tr>\n",
       "    <tr>\n",
       "      <th>2013-05-31</th>\n",
       "      <td>94.509545</td>\n",
       "    </tr>\n",
       "    <tr>\n",
       "      <th>2013-06-30</th>\n",
       "      <td>95.772500</td>\n",
       "    </tr>\n",
       "    <tr>\n",
       "      <th>2013-07-31</th>\n",
       "      <td>104.670909</td>\n",
       "    </tr>\n",
       "    <tr>\n",
       "      <th>2013-08-31</th>\n",
       "      <td>106.572727</td>\n",
       "    </tr>\n",
       "    <tr>\n",
       "      <th>2013-09-30</th>\n",
       "      <td>106.289500</td>\n",
       "    </tr>\n",
       "    <tr>\n",
       "      <th>2013-10-31</th>\n",
       "      <td>100.538261</td>\n",
       "    </tr>\n",
       "    <tr>\n",
       "      <th>2013-11-30</th>\n",
       "      <td>93.864000</td>\n",
       "    </tr>\n",
       "    <tr>\n",
       "      <th>2013-12-31</th>\n",
       "      <td>97.625238</td>\n",
       "    </tr>\n",
       "    <tr>\n",
       "      <th>2014-01-31</th>\n",
       "      <td>94.617143</td>\n",
       "    </tr>\n",
       "    <tr>\n",
       "      <th>2014-02-28</th>\n",
       "      <td>100.817368</td>\n",
       "    </tr>\n",
       "    <tr>\n",
       "      <th>2014-03-31</th>\n",
       "      <td>100.803810</td>\n",
       "    </tr>\n",
       "    <tr>\n",
       "      <th>2014-04-30</th>\n",
       "      <td>102.069048</td>\n",
       "    </tr>\n",
       "    <tr>\n",
       "      <th>2014-05-31</th>\n",
       "      <td>102.177143</td>\n",
       "    </tr>\n",
       "    <tr>\n",
       "      <th>2014-06-30</th>\n",
       "      <td>105.794286</td>\n",
       "    </tr>\n",
       "    <tr>\n",
       "      <th>2014-07-31</th>\n",
       "      <td>103.588636</td>\n",
       "    </tr>\n",
       "    <tr>\n",
       "      <th>2014-08-31</th>\n",
       "      <td>96.536190</td>\n",
       "    </tr>\n",
       "    <tr>\n",
       "      <th>2014-09-30</th>\n",
       "      <td>93.211905</td>\n",
       "    </tr>\n",
       "    <tr>\n",
       "      <th>2014-10-31</th>\n",
       "      <td>84.396957</td>\n",
       "    </tr>\n",
       "    <tr>\n",
       "      <th>2014-11-30</th>\n",
       "      <td>75.789474</td>\n",
       "    </tr>\n",
       "    <tr>\n",
       "      <th>2014-12-31</th>\n",
       "      <td>59.290455</td>\n",
       "    </tr>\n",
       "    <tr>\n",
       "      <th>2015-01-31</th>\n",
       "      <td>47.219000</td>\n",
       "    </tr>\n",
       "    <tr>\n",
       "      <th>2015-02-28</th>\n",
       "      <td>50.584211</td>\n",
       "    </tr>\n",
       "    <tr>\n",
       "      <th>2015-03-31</th>\n",
       "      <td>47.823636</td>\n",
       "    </tr>\n",
       "    <tr>\n",
       "      <th>2015-04-30</th>\n",
       "      <td>54.452857</td>\n",
       "    </tr>\n",
       "    <tr>\n",
       "      <th>2015-05-31</th>\n",
       "      <td>59.265000</td>\n",
       "    </tr>\n",
       "    <tr>\n",
       "      <th>2015-06-30</th>\n",
       "      <td>59.819545</td>\n",
       "    </tr>\n",
       "    <tr>\n",
       "      <th>2015-07-31</th>\n",
       "      <td>50.900909</td>\n",
       "    </tr>\n",
       "    <tr>\n",
       "      <th>2015-08-31</th>\n",
       "      <td>42.867619</td>\n",
       "    </tr>\n",
       "    <tr>\n",
       "      <th>2015-09-30</th>\n",
       "      <td>45.479524</td>\n",
       "    </tr>\n",
       "    <tr>\n",
       "      <th>2015-10-31</th>\n",
       "      <td>46.223636</td>\n",
       "    </tr>\n",
       "    <tr>\n",
       "      <th>2015-11-30</th>\n",
       "      <td>42.443500</td>\n",
       "    </tr>\n",
       "    <tr>\n",
       "      <th>2015-12-31</th>\n",
       "      <td>37.188636</td>\n",
       "    </tr>\n",
       "    <tr>\n",
       "      <th>2016-01-31</th>\n",
       "      <td>31.683158</td>\n",
       "    </tr>\n",
       "    <tr>\n",
       "      <th>2016-02-29</th>\n",
       "      <td>30.323000</td>\n",
       "    </tr>\n",
       "    <tr>\n",
       "      <th>2016-03-31</th>\n",
       "      <td>37.546364</td>\n",
       "    </tr>\n",
       "    <tr>\n",
       "      <th>2016-04-30</th>\n",
       "      <td>40.755238</td>\n",
       "    </tr>\n",
       "    <tr>\n",
       "      <th>2016-05-31</th>\n",
       "      <td>46.712381</td>\n",
       "    </tr>\n",
       "    <tr>\n",
       "      <th>2016-06-30</th>\n",
       "      <td>48.757273</td>\n",
       "    </tr>\n",
       "    <tr>\n",
       "      <th>2016-07-31</th>\n",
       "      <td>44.651500</td>\n",
       "    </tr>\n",
       "    <tr>\n",
       "      <th>2016-08-31</th>\n",
       "      <td>44.724348</td>\n",
       "    </tr>\n",
       "    <tr>\n",
       "      <th>2016-09-30</th>\n",
       "      <td>45.182381</td>\n",
       "    </tr>\n",
       "    <tr>\n",
       "      <th>2016-10-31</th>\n",
       "      <td>49.775238</td>\n",
       "    </tr>\n",
       "    <tr>\n",
       "      <th>2016-11-30</th>\n",
       "      <td>45.660952</td>\n",
       "    </tr>\n",
       "    <tr>\n",
       "      <th>2016-12-31</th>\n",
       "      <td>51.970476</td>\n",
       "    </tr>\n",
       "    <tr>\n",
       "      <th>2017-01-31</th>\n",
       "      <td>52.504000</td>\n",
       "    </tr>\n",
       "    <tr>\n",
       "      <th>2017-02-28</th>\n",
       "      <td>53.468421</td>\n",
       "    </tr>\n",
       "    <tr>\n",
       "      <th>2017-03-31</th>\n",
       "      <td>49.327826</td>\n",
       "    </tr>\n",
       "    <tr>\n",
       "      <th>2017-04-30</th>\n",
       "      <td>51.060526</td>\n",
       "    </tr>\n",
       "    <tr>\n",
       "      <th>2017-05-31</th>\n",
       "      <td>48.476364</td>\n",
       "    </tr>\n",
       "    <tr>\n",
       "      <th>2017-06-30</th>\n",
       "      <td>45.177727</td>\n",
       "    </tr>\n",
       "    <tr>\n",
       "      <th>2017-07-31</th>\n",
       "      <td>46.630526</td>\n",
       "    </tr>\n",
       "    <tr>\n",
       "      <th>2017-08-31</th>\n",
       "      <td>48.036957</td>\n",
       "    </tr>\n",
       "  </tbody>\n",
       "</table>\n",
       "</div>"
      ],
      "text/plain": [
       "            dcoilwtico\n",
       "date                  \n",
       "2013-01-31   94.756667\n",
       "2013-02-28   95.308947\n",
       "2013-03-31   92.938500\n",
       "2013-04-30   92.021364\n",
       "2013-05-31   94.509545\n",
       "2013-06-30   95.772500\n",
       "2013-07-31  104.670909\n",
       "2013-08-31  106.572727\n",
       "2013-09-30  106.289500\n",
       "2013-10-31  100.538261\n",
       "2013-11-30   93.864000\n",
       "2013-12-31   97.625238\n",
       "2014-01-31   94.617143\n",
       "2014-02-28  100.817368\n",
       "2014-03-31  100.803810\n",
       "2014-04-30  102.069048\n",
       "2014-05-31  102.177143\n",
       "2014-06-30  105.794286\n",
       "2014-07-31  103.588636\n",
       "2014-08-31   96.536190\n",
       "2014-09-30   93.211905\n",
       "2014-10-31   84.396957\n",
       "2014-11-30   75.789474\n",
       "2014-12-31   59.290455\n",
       "2015-01-31   47.219000\n",
       "2015-02-28   50.584211\n",
       "2015-03-31   47.823636\n",
       "2015-04-30   54.452857\n",
       "2015-05-31   59.265000\n",
       "2015-06-30   59.819545\n",
       "2015-07-31   50.900909\n",
       "2015-08-31   42.867619\n",
       "2015-09-30   45.479524\n",
       "2015-10-31   46.223636\n",
       "2015-11-30   42.443500\n",
       "2015-12-31   37.188636\n",
       "2016-01-31   31.683158\n",
       "2016-02-29   30.323000\n",
       "2016-03-31   37.546364\n",
       "2016-04-30   40.755238\n",
       "2016-05-31   46.712381\n",
       "2016-06-30   48.757273\n",
       "2016-07-31   44.651500\n",
       "2016-08-31   44.724348\n",
       "2016-09-30   45.182381\n",
       "2016-10-31   49.775238\n",
       "2016-11-30   45.660952\n",
       "2016-12-31   51.970476\n",
       "2017-01-31   52.504000\n",
       "2017-02-28   53.468421\n",
       "2017-03-31   49.327826\n",
       "2017-04-30   51.060526\n",
       "2017-05-31   48.476364\n",
       "2017-06-30   45.177727\n",
       "2017-07-31   46.630526\n",
       "2017-08-31   48.036957"
      ]
     },
     "execution_count": 36,
     "metadata": {},
     "output_type": "execute_result"
    }
   ],
   "source": [
    "# what is the mean oil price per month starting 2013/01/31 to 2017/08/31\n",
    "sdfOilDF.resample('M').mean()"
   ]
  },
  {
   "cell_type": "code",
   "execution_count": 37,
   "metadata": {},
   "outputs": [
    {
     "data": {
      "text/html": [
       "<div>\n",
       "<style scoped>\n",
       "    .dataframe tbody tr th:only-of-type {\n",
       "        vertical-align: middle;\n",
       "    }\n",
       "\n",
       "    .dataframe tbody tr th {\n",
       "        vertical-align: top;\n",
       "    }\n",
       "\n",
       "    .dataframe thead th {\n",
       "        text-align: right;\n",
       "    }\n",
       "</style>\n",
       "<table border=\"1\" class=\"dataframe\">\n",
       "  <thead>\n",
       "    <tr style=\"text-align: right;\">\n",
       "      <th></th>\n",
       "      <th>dcoilwtico</th>\n",
       "    </tr>\n",
       "    <tr>\n",
       "      <th>date</th>\n",
       "      <th></th>\n",
       "    </tr>\n",
       "  </thead>\n",
       "  <tbody>\n",
       "    <tr>\n",
       "      <th>2013-12-31</th>\n",
       "      <td>97.982540</td>\n",
       "    </tr>\n",
       "    <tr>\n",
       "      <th>2014-12-31</th>\n",
       "      <td>93.172222</td>\n",
       "    </tr>\n",
       "    <tr>\n",
       "      <th>2015-12-31</th>\n",
       "      <td>48.656706</td>\n",
       "    </tr>\n",
       "    <tr>\n",
       "      <th>2016-12-31</th>\n",
       "      <td>43.293651</td>\n",
       "    </tr>\n",
       "    <tr>\n",
       "      <th>2017-12-31</th>\n",
       "      <td>49.232874</td>\n",
       "    </tr>\n",
       "  </tbody>\n",
       "</table>\n",
       "</div>"
      ],
      "text/plain": [
       "            dcoilwtico\n",
       "date                  \n",
       "2013-12-31   97.982540\n",
       "2014-12-31   93.172222\n",
       "2015-12-31   48.656706\n",
       "2016-12-31   43.293651\n",
       "2017-12-31   49.232874"
      ]
     },
     "execution_count": 37,
     "metadata": {},
     "output_type": "execute_result"
    }
   ],
   "source": [
    "# what is the mean oil price per year starting 2013/01/31 to 2017/08/31\n",
    "sdfOilDF.resample('Y').mean()"
   ]
  },
  {
   "cell_type": "code",
   "execution_count": 38,
   "metadata": {},
   "outputs": [
    {
     "data": {
      "text/plain": [
       "<matplotlib.axes._subplots.AxesSubplot at 0x7f4ce39fe790>"
      ]
     },
     "execution_count": 38,
     "metadata": {},
     "output_type": "execute_result"
    },
    {
     "data": {
      "image/png": "[encoded data removed]",
      "text/plain": [
       "<matplotlib.figure.Figure at 0x7f4ce39f5c10>"
      ]
     },
     "metadata": {},
     "output_type": "display_data"
    }
   ],
   "source": [
    "sdfOilDF.resample('Y').mean().plot()"
   ]
  },
  {
   "cell_type": "code",
   "execution_count": 39,
   "metadata": {},
   "outputs": [
    {
     "data": {
      "text/plain": [
       "<matplotlib.axes._subplots.AxesSubplot at 0x7f4ce39a1310>"
      ]
     },
     "execution_count": 39,
     "metadata": {},
     "output_type": "execute_result"
    },
    {
     "data": {
      "image/png": "[encoded data removed]",
      "text/plain": [
       "<matplotlib.figure.Figure at 0x7f4ce3a81190>"
      ]
     },
     "metadata": {},
     "output_type": "display_data"
    }
   ],
   "source": [
    "sdfOilDF.resample('M').mean().plot()"
   ]
  },
  {
   "cell_type": "markdown",
   "metadata": {},
   "source": [
    "<b>Explore file #3 holidays_events.csv</b>"
   ]
  },
  {
   "cell_type": "code",
   "execution_count": 40,
   "metadata": {
    "collapsed": true
   },
   "outputs": [],
   "source": [
    "sdfHolidayEvents = sqlContext.read.csv(\"/gl-capstone-data/Team6-C-Sep/Data/holidays_events.csv\",header = True,inferSchema = True)"
   ]
  },
  {
   "cell_type": "code",
   "execution_count": 41,
   "metadata": {},
   "outputs": [
    {
     "data": {
      "text/plain": [
       "DataFrame[summary: string, type: string, locale: string, locale_name: string, description: string]"
      ]
     },
     "execution_count": 41,
     "metadata": {},
     "output_type": "execute_result"
    }
   ],
   "source": [
    "sdfHolidayEvents.describe()"
   ]
  },
  {
   "cell_type": "code",
   "execution_count": 42,
   "metadata": {},
   "outputs": [
    {
     "name": "stdout",
     "output_type": "stream",
     "text": [
      "+-------------------+-------+--------+-----------+--------------------+-----------+\n",
      "|               date|   type|  locale|locale_name|         description|transferred|\n",
      "+-------------------+-------+--------+-----------+--------------------+-----------+\n",
      "|2012-03-02 00:00:00|Holiday|   Local|      Manta|  Fundacion de Manta|      false|\n",
      "|2012-04-01 00:00:00|Holiday|Regional|   Cotopaxi|Provincializacion...|      false|\n",
      "|2012-04-12 00:00:00|Holiday|   Local|     Cuenca| Fundacion de Cuenca|      false|\n",
      "|2012-04-14 00:00:00|Holiday|   Local|   Libertad|Cantonizacion de ...|      false|\n",
      "|2012-04-21 00:00:00|Holiday|   Local|   Riobamba|Cantonizacion de ...|      false|\n",
      "|2012-05-12 00:00:00|Holiday|   Local|       Puyo|Cantonizacion del...|      false|\n",
      "|2012-06-23 00:00:00|Holiday|   Local|   Guaranda|Cantonizacion de ...|      false|\n",
      "|2012-06-25 00:00:00|Holiday|Regional|   Imbabura|Provincializacion...|      false|\n",
      "|2012-06-25 00:00:00|Holiday|   Local|  Latacunga|Cantonizacion de ...|      false|\n",
      "|2012-06-25 00:00:00|Holiday|   Local|    Machala|Fundacion de Machala|      false|\n",
      "+-------------------+-------+--------+-----------+--------------------+-----------+\n",
      "only showing top 10 rows\n",
      "\n"
     ]
    }
   ],
   "source": [
    "sdfHolidayEvents.show(10)"
   ]
  },
  {
   "cell_type": "code",
   "execution_count": 43,
   "metadata": {},
   "outputs": [
    {
     "data": {
      "text/plain": [
       "350"
      ]
     },
     "execution_count": 43,
     "metadata": {},
     "output_type": "execute_result"
    }
   ],
   "source": [
    "sdfHolidayEvents.count()"
   ]
  },
  {
   "cell_type": "code",
   "execution_count": 44,
   "metadata": {},
   "outputs": [
    {
     "name": "stdout",
     "output_type": "stream",
     "text": [
      "+-----+\n",
      "|count|\n",
      "+-----+\n",
      "|  312|\n",
      "+-----+\n",
      "\n"
     ]
    }
   ],
   "source": [
    "sdfHolidayEvents.agg(countDistinct(col(\"date\")).alias(\"count\")).show()"
   ]
  },
  {
   "cell_type": "code",
   "execution_count": 45,
   "metadata": {},
   "outputs": [
    {
     "data": {
      "text/plain": [
       "312"
      ]
     },
     "execution_count": 45,
     "metadata": {},
     "output_type": "execute_result"
    }
   ],
   "source": [
    "sdfHolidayEvents.select(\"date\").distinct().count()"
   ]
  },
  {
   "cell_type": "code",
   "execution_count": 46,
   "metadata": {},
   "outputs": [
    {
     "name": "stdout",
     "output_type": "stream",
     "text": [
      "+----------+\n",
      "|      type|\n",
      "+----------+\n",
      "|     Event|\n",
      "|   Holiday|\n",
      "|  Transfer|\n",
      "|    Bridge|\n",
      "|Additional|\n",
      "|  Work Day|\n",
      "+----------+\n",
      "\n"
     ]
    }
   ],
   "source": [
    "sdfHolidayEvents.select(\"type\").distinct().show()"
   ]
  },
  {
   "cell_type": "code",
   "execution_count": 47,
   "metadata": {},
   "outputs": [
    {
     "name": "stdout",
     "output_type": "stream",
     "text": [
      "+--------+\n",
      "|  locale|\n",
      "+--------+\n",
      "|National|\n",
      "|   Local|\n",
      "|Regional|\n",
      "+--------+\n",
      "\n"
     ]
    }
   ],
   "source": [
    "sdfHolidayEvents.select(\"locale\").distinct().show()"
   ]
  },
  {
   "cell_type": "code",
   "execution_count": 48,
   "metadata": {},
   "outputs": [
    {
     "data": {
      "text/plain": [
       "24"
      ]
     },
     "execution_count": 48,
     "metadata": {},
     "output_type": "execute_result"
    }
   ],
   "source": [
    "sdfHolidayEvents.select(\"locale_name\").distinct().count()"
   ]
  },
  {
   "cell_type": "code",
   "execution_count": 49,
   "metadata": {},
   "outputs": [
    {
     "data": {
      "text/plain": [
       "349"
      ]
     },
     "execution_count": 49,
     "metadata": {},
     "output_type": "execute_result"
    }
   ],
   "source": [
    "sdfHolidayEvents.select(\"date\", \"type\", \"locale_name\").distinct().count()"
   ]
  },
  {
   "cell_type": "code",
   "execution_count": 50,
   "metadata": {},
   "outputs": [
    {
     "data": {
      "text/plain": [
       "350"
      ]
     },
     "execution_count": 50,
     "metadata": {},
     "output_type": "execute_result"
    }
   ],
   "source": [
    "sdfHolidayEvents.select(\"date\", \"type\", \"locale\", \"locale_name\", \"description\", \"transferred\").distinct().count()\n",
    "# All columns together form the PK"
   ]
  },
  {
   "cell_type": "code",
   "execution_count": 51,
   "metadata": {},
   "outputs": [
    {
     "name": "stdout",
     "output_type": "stream",
     "text": [
      "+----+----+------+-----------+-----------+-----------+\n",
      "|date|type|locale|locale_name|description|transferred|\n",
      "+----+----+------+-----------+-----------+-----------+\n",
      "|   0|   0|     0|          0|          0|          0|\n",
      "+----+----+------+-----------+-----------+-----------+\n",
      "\n"
     ]
    }
   ],
   "source": [
    "sdfHolidayEvents.select([count(when(col(c).isNull(), c)).alias(c) for c in sdfHolidayEvents.columns]).show()"
   ]
  },
  {
   "cell_type": "code",
   "execution_count": 52,
   "metadata": {},
   "outputs": [
    {
     "data": {
      "text/plain": [
       "312"
      ]
     },
     "execution_count": 52,
     "metadata": {},
     "output_type": "execute_result"
    }
   ],
   "source": [
    "sdfHolidayEvents.select(\"date\").distinct().count()"
   ]
  },
  {
   "cell_type": "code",
   "execution_count": 53,
   "metadata": {},
   "outputs": [
    {
     "name": "stdout",
     "output_type": "stream",
     "text": [
      "+-------------------+\n",
      "|               date|\n",
      "+-------------------+\n",
      "|2016-12-24 00:00:00|\n",
      "|2015-09-28 00:00:00|\n",
      "|2012-05-12 00:00:00|\n",
      "|2013-02-12 00:00:00|\n",
      "|2013-10-11 00:00:00|\n",
      "+-------------------+\n",
      "only showing top 5 rows\n",
      "\n"
     ]
    }
   ],
   "source": [
    "sdfHolidayEvents.select(\"date\").distinct().show(5)"
   ]
  },
  {
   "cell_type": "code",
   "execution_count": 54,
   "metadata": {},
   "outputs": [
    {
     "data": {
      "text/plain": [
       "6"
      ]
     },
     "execution_count": 54,
     "metadata": {},
     "output_type": "execute_result"
    }
   ],
   "source": [
    "sdfHolidayEvents.select(\"type\").distinct().count()"
   ]
  },
  {
   "cell_type": "code",
   "execution_count": 55,
   "metadata": {},
   "outputs": [
    {
     "name": "stdout",
     "output_type": "stream",
     "text": [
      "+----------+\n",
      "|      type|\n",
      "+----------+\n",
      "|     Event|\n",
      "|   Holiday|\n",
      "|  Transfer|\n",
      "|    Bridge|\n",
      "|Additional|\n",
      "|  Work Day|\n",
      "+----------+\n",
      "\n"
     ]
    }
   ],
   "source": [
    "sdfHolidayEvents.select(\"type\").distinct().show(10)"
   ]
  },
  {
   "cell_type": "code",
   "execution_count": 56,
   "metadata": {},
   "outputs": [
    {
     "data": {
      "text/plain": [
       "3"
      ]
     },
     "execution_count": 56,
     "metadata": {},
     "output_type": "execute_result"
    }
   ],
   "source": [
    "sdfHolidayEvents.select(\"locale\").distinct().count()"
   ]
  },
  {
   "cell_type": "code",
   "execution_count": 57,
   "metadata": {},
   "outputs": [
    {
     "name": "stdout",
     "output_type": "stream",
     "text": [
      "+--------+\n",
      "|  locale|\n",
      "+--------+\n",
      "|National|\n",
      "|   Local|\n",
      "|Regional|\n",
      "+--------+\n",
      "\n"
     ]
    }
   ],
   "source": [
    "sdfHolidayEvents.select(\"locale\").distinct().show(5)"
   ]
  },
  {
   "cell_type": "code",
   "execution_count": 58,
   "metadata": {},
   "outputs": [
    {
     "data": {
      "text/plain": [
       "24"
      ]
     },
     "execution_count": 58,
     "metadata": {},
     "output_type": "execute_result"
    }
   ],
   "source": [
    "sdfHolidayEvents.select(\"locale_name\").distinct().count()"
   ]
  },
  {
   "cell_type": "code",
   "execution_count": 59,
   "metadata": {},
   "outputs": [
    {
     "name": "stdout",
     "output_type": "stream",
     "text": [
      "+-------------+\n",
      "|  locale_name|\n",
      "+-------------+\n",
      "|      Quevedo|\n",
      "|       Cuenca|\n",
      "|     Cotopaxi|\n",
      "|     Guaranda|\n",
      "|Santo Domingo|\n",
      "+-------------+\n",
      "only showing top 5 rows\n",
      "\n"
     ]
    }
   ],
   "source": [
    "sdfHolidayEvents.select(\"locale_name\").distinct().show(5)"
   ]
  },
  {
   "cell_type": "code",
   "execution_count": 60,
   "metadata": {},
   "outputs": [
    {
     "data": {
      "text/plain": [
       "103"
      ]
     },
     "execution_count": 60,
     "metadata": {},
     "output_type": "execute_result"
    }
   ],
   "source": [
    "sdfHolidayEvents.select(\"description\").distinct().count()"
   ]
  },
  {
   "cell_type": "code",
   "execution_count": 61,
   "metadata": {},
   "outputs": [
    {
     "name": "stdout",
     "output_type": "stream",
     "text": [
      "+--------------------+\n",
      "|         description|\n",
      "+--------------------+\n",
      "| Terremoto Manabi+11|\n",
      "|Independencia de ...|\n",
      "| Terremoto Manabi+25|\n",
      "|Fundacion de Esme...|\n",
      "|        Black Friday|\n",
      "+--------------------+\n",
      "only showing top 5 rows\n",
      "\n"
     ]
    }
   ],
   "source": [
    "sdfHolidayEvents.select(\"description\").distinct().show(5)"
   ]
  },
  {
   "cell_type": "code",
   "execution_count": 62,
   "metadata": {},
   "outputs": [
    {
     "data": {
      "text/plain": [
       "2"
      ]
     },
     "execution_count": 62,
     "metadata": {},
     "output_type": "execute_result"
    }
   ],
   "source": [
    "sdfHolidayEvents.select(\"transferred\").distinct().count()"
   ]
  },
  {
   "cell_type": "code",
   "execution_count": 63,
   "metadata": {},
   "outputs": [
    {
     "name": "stdout",
     "output_type": "stream",
     "text": [
      "+-----------+\n",
      "|transferred|\n",
      "+-----------+\n",
      "|       true|\n",
      "|      false|\n",
      "+-----------+\n",
      "\n"
     ]
    }
   ],
   "source": [
    "sdfHolidayEvents.select(\"transferred\").distinct().show(5)"
   ]
  },
  {
   "cell_type": "code",
   "execution_count": 64,
   "metadata": {
    "collapsed": true
   },
   "outputs": [],
   "source": [
    "# Visual Data Analysis\n",
    "sdfHolidayEventsDF = sdfHolidayEvents.toPandas()"
   ]
  },
  {
   "cell_type": "code",
   "execution_count": 65,
   "metadata": {},
   "outputs": [
    {
     "data": {
      "text/plain": [
       "<matplotlib.axes._subplots.AxesSubplot at 0x7f4ce392e7d0>"
      ]
     },
     "execution_count": 65,
     "metadata": {},
     "output_type": "execute_result"
    },
    {
     "data": {
      "image/png": "[encoded data removed]",
      "text/plain": [
       "<matplotlib.figure.Figure at 0x7f4ce38de450>"
      ]
     },
     "metadata": {},
     "output_type": "display_data"
    }
   ],
   "source": [
    "sns.countplot(x=\"locale\",hue=\"type\",data=sdfHolidayEventsDF)"
   ]
  },
  {
   "cell_type": "code",
   "execution_count": 66,
   "metadata": {},
   "outputs": [
    {
     "data": {
      "text/plain": [
       "<matplotlib.axes._subplots.AxesSubplot at 0x7f4ce37f8390>"
      ]
     },
     "execution_count": 66,
     "metadata": {},
     "output_type": "execute_result"
    },
    {
     "data": {
      "image/png": "[encoded data removed]",
      "text/plain": [
       "<matplotlib.figure.Figure at 0x7f4ce38de3d0>"
      ]
     },
     "metadata": {},
     "output_type": "display_data"
    }
   ],
   "source": [
    "sns.countplot(x=\"transferred\",hue=\"locale_name\",data=sdfHolidayEventsDF)"
   ]
  },
  {
   "cell_type": "code",
   "execution_count": 67,
   "metadata": {},
   "outputs": [
    {
     "data": {
      "text/plain": [
       "<matplotlib.axes._subplots.AxesSubplot at 0x7f4ce3717a10>"
      ]
     },
     "execution_count": 67,
     "metadata": {},
     "output_type": "execute_result"
    },
    {
     "data": {
      "image/png": "[encoded data removed]",
      "text/plain": [
       "<matplotlib.figure.Figure at 0x7f4ce3941890>"
      ]
     },
     "metadata": {},
     "output_type": "display_data"
    }
   ],
   "source": [
    "sns.countplot(y=\"locale_name\",hue=\"locale\",data=sdfHolidayEventsDF)"
   ]
  },
  {
   "cell_type": "code",
   "execution_count": 68,
   "metadata": {
    "collapsed": true
   },
   "outputs": [],
   "source": [
    "sdfHolidayEventsDF['date'] = pd.to_datetime(sdfHolidayEventsDF['date'])"
   ]
  },
  {
   "cell_type": "code",
   "execution_count": 69,
   "metadata": {
    "collapsed": true
   },
   "outputs": [],
   "source": [
    "sdfHolidayEventsDF.index = sdfHolidayEventsDF['date']\n",
    "del sdfHolidayEventsDF['date']"
   ]
  },
  {
   "cell_type": "code",
   "execution_count": 70,
   "metadata": {},
   "outputs": [
    {
     "name": "stderr",
     "output_type": "stream",
     "text": [
      "/usr/local/anaconda/python2/lib/python2.7/site-packages/ipykernel_launcher.py:1: FutureWarning: how in .resample() is deprecated\n",
      "the new syntax is .resample(...)..apply(<func>)\n",
      "  \"\"\"Entry point for launching an IPython kernel.\n"
     ]
    },
    {
     "data": {
      "text/plain": [
       "<matplotlib.axes._subplots.AxesSubplot at 0x7f4ce3576590>"
      ]
     },
     "execution_count": 70,
     "metadata": {},
     "output_type": "execute_result"
    },
    {
     "data": {
      "image/png": "[encoded data removed]",
      "text/plain": [
       "<matplotlib.figure.Figure at 0x7f4ce3620e50>"
      ]
     },
     "metadata": {},
     "output_type": "display_data"
    }
   ],
   "source": [
    "sdfHolidayEventsDF.resample('M',how={'type':'count'}).plot()"
   ]
  },
  {
   "cell_type": "markdown",
   "metadata": {},
   "source": [
    "<b>Explore file #4 items.csv</b>"
   ]
  },
  {
   "cell_type": "code",
   "execution_count": 71,
   "metadata": {
    "collapsed": true
   },
   "outputs": [],
   "source": [
    "sdfItems = sqlContext.read.csv(\"/gl-capstone-data/Team6-C-Sep/Data/items.csv\",header = True,inferSchema = True)"
   ]
  },
  {
   "cell_type": "code",
   "execution_count": 72,
   "metadata": {},
   "outputs": [
    {
     "name": "stdout",
     "output_type": "stream",
     "text": [
      "+--------+------------+-----+----------+\n",
      "|item_nbr|      family|class|perishable|\n",
      "+--------+------------+-----+----------+\n",
      "|   96995|   GROCERY I| 1093|         0|\n",
      "|   99197|   GROCERY I| 1067|         0|\n",
      "|  103501|    CLEANING| 3008|         0|\n",
      "|  103520|   GROCERY I| 1028|         0|\n",
      "|  103665|BREAD/BAKERY| 2712|         1|\n",
      "|  105574|   GROCERY I| 1045|         0|\n",
      "|  105575|   GROCERY I| 1045|         0|\n",
      "|  105576|   GROCERY I| 1045|         0|\n",
      "|  105577|   GROCERY I| 1045|         0|\n",
      "|  105693|   GROCERY I| 1034|         0|\n",
      "+--------+------------+-----+----------+\n",
      "only showing top 10 rows\n",
      "\n"
     ]
    }
   ],
   "source": [
    "sdfItems.show(10)"
   ]
  },
  {
   "cell_type": "code",
   "execution_count": 73,
   "metadata": {},
   "outputs": [
    {
     "data": {
      "text/plain": [
       "4100"
      ]
     },
     "execution_count": 73,
     "metadata": {},
     "output_type": "execute_result"
    }
   ],
   "source": [
    "sdfItems.count()"
   ]
  },
  {
   "cell_type": "code",
   "execution_count": 74,
   "metadata": {},
   "outputs": [
    {
     "data": {
      "text/plain": [
       "4100"
      ]
     },
     "execution_count": 74,
     "metadata": {},
     "output_type": "execute_result"
    }
   ],
   "source": [
    "sdfItems.select(\"item_nbr\").distinct().count()\n",
    "# item_nbr is the primary key as distinct count and total row count match"
   ]
  },
  {
   "cell_type": "code",
   "execution_count": 75,
   "metadata": {},
   "outputs": [
    {
     "name": "stdout",
     "output_type": "stream",
     "text": [
      "+--------+------+-----+----------+\n",
      "|item_nbr|family|class|perishable|\n",
      "+--------+------+-----+----------+\n",
      "|       0|     0|    0|         0|\n",
      "+--------+------+-----+----------+\n",
      "\n"
     ]
    }
   ],
   "source": [
    "sdfItems.select([count(when(col(c).isNull(), c)).alias(c) for c in sdfItems.columns]).show()"
   ]
  },
  {
   "cell_type": "code",
   "execution_count": 76,
   "metadata": {},
   "outputs": [
    {
     "data": {
      "text/plain": [
       "4100"
      ]
     },
     "execution_count": 76,
     "metadata": {},
     "output_type": "execute_result"
    }
   ],
   "source": [
    "sdfItems.select(\"item_nbr\").distinct().count()"
   ]
  },
  {
   "cell_type": "code",
   "execution_count": 77,
   "metadata": {},
   "outputs": [
    {
     "name": "stdout",
     "output_type": "stream",
     "text": [
      "+--------+\n",
      "|item_nbr|\n",
      "+--------+\n",
      "|  454593|\n",
      "|  459762|\n",
      "|  692531|\n",
      "|  699703|\n",
      "|  759651|\n",
      "+--------+\n",
      "only showing top 5 rows\n",
      "\n"
     ]
    }
   ],
   "source": [
    "sdfItems.select(\"item_nbr\").distinct().show(5)"
   ]
  },
  {
   "cell_type": "code",
   "execution_count": 78,
   "metadata": {},
   "outputs": [
    {
     "data": {
      "text/plain": [
       "33"
      ]
     },
     "execution_count": 78,
     "metadata": {},
     "output_type": "execute_result"
    }
   ],
   "source": [
    "sdfItems.select(\"family\").distinct().count()"
   ]
  },
  {
   "cell_type": "code",
   "execution_count": 79,
   "metadata": {},
   "outputs": [
    {
     "name": "stdout",
     "output_type": "stream",
     "text": [
      "+-------------------+\n",
      "|             family|\n",
      "+-------------------+\n",
      "|     PREPARED FOODS|\n",
      "|HOME AND KITCHEN II|\n",
      "|         LADIESWEAR|\n",
      "|    LAWN AND GARDEN|\n",
      "|          GROCERY I|\n",
      "|          BABY CARE|\n",
      "|            PRODUCE|\n",
      "|         AUTOMOTIVE|\n",
      "|          BEVERAGES|\n",
      "|          HOME CARE|\n",
      "+-------------------+\n",
      "only showing top 10 rows\n",
      "\n"
     ]
    }
   ],
   "source": [
    "sdfItems.select(\"family\").distinct().show(10)"
   ]
  },
  {
   "cell_type": "code",
   "execution_count": 80,
   "metadata": {},
   "outputs": [
    {
     "data": {
      "text/plain": [
       "337"
      ]
     },
     "execution_count": 80,
     "metadata": {},
     "output_type": "execute_result"
    }
   ],
   "source": [
    "sdfItems.select(\"class\").distinct().count()"
   ]
  },
  {
   "cell_type": "code",
   "execution_count": 81,
   "metadata": {},
   "outputs": [
    {
     "name": "stdout",
     "output_type": "stream",
     "text": [
      "+-----+\n",
      "|class|\n",
      "+-----+\n",
      "| 2142|\n",
      "| 1088|\n",
      "| 2122|\n",
      "| 1084|\n",
      "| 1025|\n",
      "+-----+\n",
      "only showing top 5 rows\n",
      "\n"
     ]
    }
   ],
   "source": [
    "sdfItems.select(\"class\").distinct().show(5)"
   ]
  },
  {
   "cell_type": "code",
   "execution_count": 82,
   "metadata": {},
   "outputs": [
    {
     "data": {
      "text/plain": [
       "[1068.0]"
      ]
     },
     "execution_count": 82,
     "metadata": {},
     "output_type": "execute_result"
    }
   ],
   "source": [
    "sdfItems.approxQuantile(\"class\", [0.5], 0.25)\n",
    "#median"
   ]
  },
  {
   "cell_type": "code",
   "execution_count": 83,
   "metadata": {},
   "outputs": [
    {
     "data": {
      "text/plain": [
       "<matplotlib.axes._subplots.AxesSubplot at 0x7f4ce3496990>"
      ]
     },
     "execution_count": 83,
     "metadata": {},
     "output_type": "execute_result"
    },
    {
     "data": {
      "image/png": "[encoded data removed]",
      "text/plain": [
       "<matplotlib.figure.Figure at 0x7f4ce3620710>"
      ]
     },
     "metadata": {},
     "output_type": "display_data"
    }
   ],
   "source": [
    "classes = sdfItems.select(\"class\").collect()\n",
    "sns.distplot(classes, color=p)"
   ]
  },
  {
   "cell_type": "code",
   "execution_count": 84,
   "metadata": {},
   "outputs": [
    {
     "data": {
      "text/plain": [
       "2"
      ]
     },
     "execution_count": 84,
     "metadata": {},
     "output_type": "execute_result"
    }
   ],
   "source": [
    "sdfItems.select(\"perishable\").distinct().count()"
   ]
  },
  {
   "cell_type": "code",
   "execution_count": 85,
   "metadata": {},
   "outputs": [
    {
     "name": "stdout",
     "output_type": "stream",
     "text": [
      "+----------+\n",
      "|perishable|\n",
      "+----------+\n",
      "|         1|\n",
      "|         0|\n",
      "+----------+\n",
      "\n"
     ]
    }
   ],
   "source": [
    "sdfItems.select(\"perishable\").distinct().show(5)"
   ]
  },
  {
   "cell_type": "code",
   "execution_count": 86,
   "metadata": {
    "collapsed": true
   },
   "outputs": [],
   "source": [
    "sdfItemsDF= sdfItems.toPandas()"
   ]
  },
  {
   "cell_type": "code",
   "execution_count": 87,
   "metadata": {},
   "outputs": [
    {
     "data": {
      "text/plain": [
       "<matplotlib.axes._subplots.AxesSubplot at 0x7f4ce34677d0>"
      ]
     },
     "execution_count": 87,
     "metadata": {},
     "output_type": "execute_result"
    },
    {
     "data": {
      "image/png": "[encoded data removed]",
      "text/plain": [
       "<matplotlib.figure.Figure at 0x7f4ce3298b10>"
      ]
     },
     "metadata": {},
     "output_type": "display_data"
    }
   ],
   "source": [
    "sns.countplot(y=\"family\",data=sdfItemsDF,order = sdfItemsDF['family'].value_counts().index,palette=\"Blues_d\")"
   ]
  },
  {
   "cell_type": "code",
   "execution_count": 88,
   "metadata": {},
   "outputs": [
    {
     "data": {
      "text/plain": [
       "<matplotlib.axes._subplots.AxesSubplot at 0x7f4ce30d7890>"
      ]
     },
     "execution_count": 88,
     "metadata": {},
     "output_type": "execute_result"
    },
    {
     "data": {
      "image/png": "[encoded data removed]",
      "text/plain": [
       "<matplotlib.figure.Figure at 0x7f4ce3919350>"
      ]
     },
     "metadata": {},
     "output_type": "display_data"
    }
   ],
   "source": [
    "# Top 20 classes\n",
    "sns.countplot(y=\"class\",data=sdfItemsDF,order = sdfItemsDF['class'].value_counts().iloc[:20].index,palette=\"Blues_d\")"
   ]
  },
  {
   "cell_type": "code",
   "execution_count": 89,
   "metadata": {},
   "outputs": [
    {
     "data": {
      "text/plain": [
       "<matplotlib.axes._subplots.AxesSubplot at 0x7f4ce2fe8e10>"
      ]
     },
     "execution_count": 89,
     "metadata": {},
     "output_type": "execute_result"
    },
    {
     "data": {
      "image/png": "[encoded data removed]",
      "text/plain": [
       "<matplotlib.figure.Figure at 0x7f4ce315b290>"
      ]
     },
     "metadata": {},
     "output_type": "display_data"
    }
   ],
   "source": [
    "sns.countplot(x=\"perishable\",data=sdfItemsDF,order = sdfItemsDF['perishable'].value_counts().index,palette=\"Blues_d\")"
   ]
  },
  {
   "cell_type": "markdown",
   "metadata": {},
   "source": [
    "<b>Explore file #5 transactions.csv</b>"
   ]
  },
  {
   "cell_type": "code",
   "execution_count": 90,
   "metadata": {
    "collapsed": true
   },
   "outputs": [],
   "source": [
    "sdfTransactions = sqlContext.read.csv(\"/gl-capstone-data/Team6-C-Sep/Data/transactions.csv\",header = True,inferSchema = True)"
   ]
  },
  {
   "cell_type": "code",
   "execution_count": 91,
   "metadata": {},
   "outputs": [
    {
     "name": "stdout",
     "output_type": "stream",
     "text": [
      "+-------------------+---------+------------+\n",
      "|               date|store_nbr|transactions|\n",
      "+-------------------+---------+------------+\n",
      "|2013-01-01 00:00:00|       25|         770|\n",
      "|2013-01-02 00:00:00|        1|        2111|\n",
      "|2013-01-02 00:00:00|        2|        2358|\n",
      "|2013-01-02 00:00:00|        3|        3487|\n",
      "|2013-01-02 00:00:00|        4|        1922|\n",
      "|2013-01-02 00:00:00|        5|        1903|\n",
      "|2013-01-02 00:00:00|        6|        2143|\n",
      "|2013-01-02 00:00:00|        7|        1874|\n",
      "|2013-01-02 00:00:00|        8|        3250|\n",
      "|2013-01-02 00:00:00|        9|        2940|\n",
      "+-------------------+---------+------------+\n",
      "only showing top 10 rows\n",
      "\n"
     ]
    }
   ],
   "source": [
    "sdfTransactions.show(10)"
   ]
  },
  {
   "cell_type": "code",
   "execution_count": 92,
   "metadata": {},
   "outputs": [
    {
     "data": {
      "text/plain": [
       "83488"
      ]
     },
     "execution_count": 92,
     "metadata": {},
     "output_type": "execute_result"
    }
   ],
   "source": [
    "sdfTransactions.count()"
   ]
  },
  {
   "cell_type": "code",
   "execution_count": 93,
   "metadata": {},
   "outputs": [
    {
     "data": {
      "text/plain": [
       "83488"
      ]
     },
     "execution_count": 93,
     "metadata": {},
     "output_type": "execute_result"
    }
   ],
   "source": [
    "sdfTransactions.select(\"date\", \"store_nbr\").distinct().count()\n",
    "# date, store_nbr together form the primary key as distinct count and total row count match"
   ]
  },
  {
   "cell_type": "code",
   "execution_count": 94,
   "metadata": {},
   "outputs": [
    {
     "name": "stdout",
     "output_type": "stream",
     "text": [
      "+----+---------+------------+\n",
      "|date|store_nbr|transactions|\n",
      "+----+---------+------------+\n",
      "|   0|        0|           0|\n",
      "+----+---------+------------+\n",
      "\n"
     ]
    }
   ],
   "source": [
    "sdfTransactions.select([count(when(col(c).isNull(), c)).alias(c) for c in sdfTransactions.columns]).show()"
   ]
  },
  {
   "cell_type": "code",
   "execution_count": 95,
   "metadata": {},
   "outputs": [
    {
     "data": {
      "text/plain": [
       "1682"
      ]
     },
     "execution_count": 95,
     "metadata": {},
     "output_type": "execute_result"
    }
   ],
   "source": [
    "sdfTransactions.select(\"date\").distinct().count()"
   ]
  },
  {
   "cell_type": "code",
   "execution_count": 96,
   "metadata": {},
   "outputs": [
    {
     "name": "stdout",
     "output_type": "stream",
     "text": [
      "+-------------------+\n",
      "|               date|\n",
      "+-------------------+\n",
      "|2013-10-31 00:00:00|\n",
      "|2014-08-04 00:00:00|\n",
      "|2015-04-26 00:00:00|\n",
      "|2015-07-14 00:00:00|\n",
      "|2015-10-10 00:00:00|\n",
      "+-------------------+\n",
      "only showing top 5 rows\n",
      "\n"
     ]
    }
   ],
   "source": [
    "sdfTransactions.select(\"date\").distinct().show(5)"
   ]
  },
  {
   "cell_type": "code",
   "execution_count": 97,
   "metadata": {},
   "outputs": [
    {
     "data": {
      "text/plain": [
       "54"
      ]
     },
     "execution_count": 97,
     "metadata": {},
     "output_type": "execute_result"
    }
   ],
   "source": [
    "sdfTransactions.select(\"store_nbr\").distinct().count()"
   ]
  },
  {
   "cell_type": "code",
   "execution_count": 98,
   "metadata": {
    "scrolled": true
   },
   "outputs": [
    {
     "name": "stdout",
     "output_type": "stream",
     "text": [
      "+---------+\n",
      "|store_nbr|\n",
      "+---------+\n",
      "|       31|\n",
      "|       53|\n",
      "|       34|\n",
      "|       28|\n",
      "|       26|\n",
      "+---------+\n",
      "only showing top 5 rows\n",
      "\n"
     ]
    }
   ],
   "source": [
    "sdfTransactions.select(\"store_nbr\").distinct().show(5)"
   ]
  },
  {
   "cell_type": "code",
   "execution_count": 99,
   "metadata": {},
   "outputs": [
    {
     "data": {
      "text/plain": [
       "4993"
      ]
     },
     "execution_count": 99,
     "metadata": {},
     "output_type": "execute_result"
    }
   ],
   "source": [
    "sdfTransactions.select(\"transactions\").distinct().count()"
   ]
  },
  {
   "cell_type": "code",
   "execution_count": 100,
   "metadata": {},
   "outputs": [
    {
     "name": "stdout",
     "output_type": "stream",
     "text": [
      "+------------+\n",
      "|transactions|\n",
      "+------------+\n",
      "|        1580|\n",
      "|        1238|\n",
      "|        4935|\n",
      "|        1591|\n",
      "|        2142|\n",
      "+------------+\n",
      "only showing top 5 rows\n",
      "\n"
     ]
    }
   ],
   "source": [
    "sdfTransactions.select(\"transactions\").distinct().show(5)"
   ]
  },
  {
   "cell_type": "code",
   "execution_count": 101,
   "metadata": {},
   "outputs": [
    {
     "data": {
      "text/plain": [
       "[1070.0]"
      ]
     },
     "execution_count": 101,
     "metadata": {},
     "output_type": "execute_result"
    }
   ],
   "source": [
    "sdfTransactions.approxQuantile(\"transactions\", [0.5], 0.25)\n",
    "#median"
   ]
  },
  {
   "cell_type": "code",
   "execution_count": 102,
   "metadata": {},
   "outputs": [
    {
     "data": {
      "text/plain": [
       "<matplotlib.axes._subplots.AxesSubplot at 0x7f4ce34c9050>"
      ]
     },
     "execution_count": 102,
     "metadata": {},
     "output_type": "execute_result"
    },
    {
     "data": {
      "image/png": "[encoded data removed]",
      "text/plain": [
       "<matplotlib.figure.Figure at 0x7f4ce31dded0>"
      ]
     },
     "metadata": {},
     "output_type": "display_data"
    }
   ],
   "source": [
    "trans = sdfTransactions.select(\"transactions\").collect()\n",
    "sns.distplot(trans, color=p)"
   ]
  },
  {
   "cell_type": "code",
   "execution_count": 103,
   "metadata": {},
   "outputs": [
    {
     "name": "stdout",
     "output_type": "stream",
     "text": [
      "2013-01-01 00:00:00\n"
     ]
    }
   ],
   "source": [
    "minRow = sdfTransactions.agg({\"date\": \"min\"}).collect()[0]\n",
    "print minRow[\"min(date)\"]"
   ]
  },
  {
   "cell_type": "code",
   "execution_count": 104,
   "metadata": {},
   "outputs": [
    {
     "name": "stdout",
     "output_type": "stream",
     "text": [
      "2017-08-15 00:00:00\n"
     ]
    }
   ],
   "source": [
    "maxRow = sdfTransactions.agg({\"date\": \"max\"}).collect()[0]\n",
    "print maxRow[\"max(date)\"]"
   ]
  },
  {
   "cell_type": "code",
   "execution_count": 105,
   "metadata": {},
   "outputs": [
    {
     "name": "stdout",
     "output_type": "stream",
     "text": [
      "+-------------------+---------+------------+\n",
      "|               date|store_nbr|transactions|\n",
      "+-------------------+---------+------------+\n",
      "|2014-05-29 00:00:00|       53|        2545|\n",
      "|2014-05-30 00:00:00|       53|        1398|\n",
      "|2014-05-31 00:00:00|       53|        1812|\n",
      "|2014-06-01 00:00:00|       53|        2221|\n",
      "|2014-06-02 00:00:00|       53|        1085|\n",
      "|2014-06-03 00:00:00|       53|         958|\n",
      "|2014-06-04 00:00:00|       53|        1059|\n",
      "|2014-06-05 00:00:00|       53|         888|\n",
      "|2014-06-06 00:00:00|       53|         941|\n",
      "|2014-06-07 00:00:00|       53|        1336|\n",
      "|2014-06-08 00:00:00|       53|        1523|\n",
      "|2014-06-09 00:00:00|       53|         803|\n",
      "|2014-06-10 00:00:00|       53|         689|\n",
      "|2014-06-11 00:00:00|       53|         800|\n",
      "|2014-06-12 00:00:00|       53|         695|\n",
      "|2014-06-13 00:00:00|       53|         841|\n",
      "|2014-06-14 00:00:00|       53|        1376|\n",
      "|2014-06-15 00:00:00|       53|        1288|\n",
      "|2014-06-16 00:00:00|       53|         796|\n",
      "|2014-06-17 00:00:00|       53|         727|\n",
      "+-------------------+---------+------------+\n",
      "only showing top 20 rows\n",
      "\n"
     ]
    }
   ],
   "source": [
    "sdfTransactions.filter(sdfTransactions.store_nbr == 53).show()"
   ]
  },
  {
   "cell_type": "code",
   "execution_count": 106,
   "metadata": {},
   "outputs": [
    {
     "data": {
      "text/plain": [
       "1167"
      ]
     },
     "execution_count": 106,
     "metadata": {},
     "output_type": "execute_result"
    }
   ],
   "source": [
    "sdfTransactions.filter(sdfTransactions.store_nbr == 53).count()"
   ]
  },
  {
   "cell_type": "code",
   "execution_count": 107,
   "metadata": {},
   "outputs": [
    {
     "data": {
      "text/plain": [
       "1678"
      ]
     },
     "execution_count": 107,
     "metadata": {},
     "output_type": "execute_result"
    }
   ],
   "source": [
    "sdfTransactions.filter(sdfTransactions.store_nbr == 34).count()"
   ]
  },
  {
   "cell_type": "code",
   "execution_count": 108,
   "metadata": {
    "collapsed": true
   },
   "outputs": [],
   "source": [
    "sdfTransactionsDF = sdfTransactions.toPandas()"
   ]
  },
  {
   "cell_type": "code",
   "execution_count": 109,
   "metadata": {
    "collapsed": true
   },
   "outputs": [],
   "source": [
    "sdfTransactionsDF['date'] = pd.to_datetime(sdfTransactionsDF['date'])"
   ]
  },
  {
   "cell_type": "code",
   "execution_count": 110,
   "metadata": {
    "collapsed": true
   },
   "outputs": [],
   "source": [
    "sdfTransactionsDF.index = sdfTransactionsDF['date']"
   ]
  },
  {
   "cell_type": "code",
   "execution_count": 111,
   "metadata": {
    "collapsed": true
   },
   "outputs": [],
   "source": [
    "del sdfTransactionsDF['date']"
   ]
  },
  {
   "cell_type": "code",
   "execution_count": 112,
   "metadata": {},
   "outputs": [
    {
     "name": "stderr",
     "output_type": "stream",
     "text": [
      "/usr/local/anaconda/python2/lib/python2.7/site-packages/ipykernel_launcher.py:2: FutureWarning: how in .resample() is deprecated\n",
      "the new syntax is .resample(...)..apply(<func>)\n",
      "  \n"
     ]
    },
    {
     "data": {
      "text/plain": [
       "<matplotlib.axes._subplots.AxesSubplot at 0x7f4ce103fb50>"
      ]
     },
     "execution_count": 112,
     "metadata": {},
     "output_type": "execute_result"
    },
    {
     "data": {
      "image/png": "[encoded data removed]",
      "text/plain": [
       "<matplotlib.figure.Figure at 0x7f4ce112f210>"
      ]
     },
     "metadata": {},
     "output_type": "display_data"
    }
   ],
   "source": [
    "# Daywise transaction count\n",
    "sdfTransactionsDF.resample('D',how={'transactions':'sum'}).plot()"
   ]
  },
  {
   "cell_type": "code",
   "execution_count": 113,
   "metadata": {},
   "outputs": [
    {
     "name": "stderr",
     "output_type": "stream",
     "text": [
      "/usr/local/anaconda/python2/lib/python2.7/site-packages/ipykernel_launcher.py:2: FutureWarning: how in .resample() is deprecated\n",
      "the new syntax is .resample(...)..apply(<func>)\n",
      "  \n"
     ]
    },
    {
     "data": {
      "text/plain": [
       "<matplotlib.axes._subplots.AxesSubplot at 0x7f4ce0f78950>"
      ]
     },
     "execution_count": 113,
     "metadata": {},
     "output_type": "execute_result"
    },
    {
     "data": {
      "image/png": "[encoded data removed]",
      "text/plain": [
       "<matplotlib.figure.Figure at 0x7f4ce10bdad0>"
      ]
     },
     "metadata": {},
     "output_type": "display_data"
    }
   ],
   "source": [
    "# Weekwise transaction count\n",
    "sdfTransactionsDF.resample('W',how={'transactions':'sum'}).plot()"
   ]
  },
  {
   "cell_type": "code",
   "execution_count": 114,
   "metadata": {},
   "outputs": [
    {
     "name": "stderr",
     "output_type": "stream",
     "text": [
      "/usr/local/anaconda/python2/lib/python2.7/site-packages/pandas/core/groupby.py:1324: FutureWarning: how in .resample() is deprecated\n",
      "the new syntax is .resample(...)..apply(<func>)\n",
      "  return get_resampler_for_grouping(self, rule, *args, **kwargs)\n"
     ]
    }
   ],
   "source": [
    "Transactions2014 = sdfTransactionsDF['2014'].groupby('store_nbr').resample('Y',how={'transactions':'sum'})"
   ]
  },
  {
   "cell_type": "code",
   "execution_count": 115,
   "metadata": {
    "collapsed": true
   },
   "outputs": [],
   "source": [
    "Transactions2015 = sdfTransactionsDF['2015'].groupby('store_nbr').resample('Y',how={'transactions':'sum'})"
   ]
  },
  {
   "cell_type": "code",
   "execution_count": 116,
   "metadata": {
    "collapsed": true
   },
   "outputs": [],
   "source": [
    "Transactions2016 = sdfTransactionsDF['2016'].groupby('store_nbr').resample('Y',how={'transactions':'sum'})"
   ]
  },
  {
   "cell_type": "code",
   "execution_count": 117,
   "metadata": {
    "collapsed": true
   },
   "outputs": [],
   "source": [
    "Transactions2017 = sdfTransactionsDF['2017'].groupby('store_nbr').resample('Y',how={'transactions':'sum'})"
   ]
  },
  {
   "cell_type": "code",
   "execution_count": 118,
   "metadata": {
    "collapsed": true
   },
   "outputs": [],
   "source": [
    "Transactions2013 = sdfTransactionsDF['2013'].groupby('store_nbr').resample('Y',how={'transactions':'sum'})"
   ]
  },
  {
   "cell_type": "code",
   "execution_count": 119,
   "metadata": {},
   "outputs": [
    {
     "data": {
      "text/html": [
       "<div>\n",
       "<style scoped>\n",
       "    .dataframe tbody tr th:only-of-type {\n",
       "        vertical-align: middle;\n",
       "    }\n",
       "\n",
       "    .dataframe tbody tr th {\n",
       "        vertical-align: top;\n",
       "    }\n",
       "\n",
       "    .dataframe thead th {\n",
       "        text-align: right;\n",
       "    }\n",
       "</style>\n",
       "<table border=\"1\" class=\"dataframe\">\n",
       "  <thead>\n",
       "    <tr style=\"text-align: right;\">\n",
       "      <th></th>\n",
       "      <th></th>\n",
       "      <th>transactions</th>\n",
       "    </tr>\n",
       "    <tr>\n",
       "      <th>store_nbr</th>\n",
       "      <th>date</th>\n",
       "      <th></th>\n",
       "    </tr>\n",
       "  </thead>\n",
       "  <tbody>\n",
       "    <tr>\n",
       "      <th>44</th>\n",
       "      <th>2013-12-31</th>\n",
       "      <td>1493932</td>\n",
       "    </tr>\n",
       "    <tr>\n",
       "      <th>47</th>\n",
       "      <th>2013-12-31</th>\n",
       "      <td>1376187</td>\n",
       "    </tr>\n",
       "    <tr>\n",
       "      <th>46</th>\n",
       "      <th>2013-12-31</th>\n",
       "      <td>1304989</td>\n",
       "    </tr>\n",
       "    <tr>\n",
       "      <th>45</th>\n",
       "      <th>2013-12-31</th>\n",
       "      <td>1292359</td>\n",
       "    </tr>\n",
       "    <tr>\n",
       "      <th>3</th>\n",
       "      <th>2013-12-31</th>\n",
       "      <td>1141431</td>\n",
       "    </tr>\n",
       "    <tr>\n",
       "      <th>48</th>\n",
       "      <th>2013-12-31</th>\n",
       "      <td>1089317</td>\n",
       "    </tr>\n",
       "    <tr>\n",
       "      <th>8</th>\n",
       "      <th>2013-12-31</th>\n",
       "      <td>1013479</td>\n",
       "    </tr>\n",
       "    <tr>\n",
       "      <th>50</th>\n",
       "      <th>2013-12-31</th>\n",
       "      <td>972039</td>\n",
       "    </tr>\n",
       "    <tr>\n",
       "      <th>11</th>\n",
       "      <th>2013-12-31</th>\n",
       "      <td>893998</td>\n",
       "    </tr>\n",
       "    <tr>\n",
       "      <th>34</th>\n",
       "      <th>2013-12-31</th>\n",
       "      <td>891297</td>\n",
       "    </tr>\n",
       "  </tbody>\n",
       "</table>\n",
       "</div>"
      ],
      "text/plain": [
       "                      transactions\n",
       "store_nbr date                    \n",
       "44        2013-12-31       1493932\n",
       "47        2013-12-31       1376187\n",
       "46        2013-12-31       1304989\n",
       "45        2013-12-31       1292359\n",
       "3         2013-12-31       1141431\n",
       "48        2013-12-31       1089317\n",
       "8         2013-12-31       1013479\n",
       "50        2013-12-31        972039\n",
       "11        2013-12-31        893998\n",
       "34        2013-12-31        891297"
      ]
     },
     "execution_count": 119,
     "metadata": {},
     "output_type": "execute_result"
    }
   ],
   "source": [
    "# Top 10 stores which made huge transactions\n",
    "Transactions2013.sort_values('transactions',ascending=False).head(10)"
   ]
  },
  {
   "cell_type": "code",
   "execution_count": 120,
   "metadata": {},
   "outputs": [
    {
     "data": {
      "text/html": [
       "<div>\n",
       "<style scoped>\n",
       "    .dataframe tbody tr th:only-of-type {\n",
       "        vertical-align: middle;\n",
       "    }\n",
       "\n",
       "    .dataframe tbody tr th {\n",
       "        vertical-align: top;\n",
       "    }\n",
       "\n",
       "    .dataframe thead th {\n",
       "        text-align: right;\n",
       "    }\n",
       "</style>\n",
       "<table border=\"1\" class=\"dataframe\">\n",
       "  <thead>\n",
       "    <tr style=\"text-align: right;\">\n",
       "      <th></th>\n",
       "      <th></th>\n",
       "      <th>transactions</th>\n",
       "    </tr>\n",
       "    <tr>\n",
       "      <th>store_nbr</th>\n",
       "      <th>date</th>\n",
       "      <th></th>\n",
       "    </tr>\n",
       "  </thead>\n",
       "  <tbody>\n",
       "    <tr>\n",
       "      <th>44</th>\n",
       "      <th>2014-12-31</th>\n",
       "      <td>1622607</td>\n",
       "    </tr>\n",
       "    <tr>\n",
       "      <th>47</th>\n",
       "      <th>2014-12-31</th>\n",
       "      <td>1447939</td>\n",
       "    </tr>\n",
       "    <tr>\n",
       "      <th>45</th>\n",
       "      <th>2014-12-31</th>\n",
       "      <td>1370575</td>\n",
       "    </tr>\n",
       "    <tr>\n",
       "      <th>46</th>\n",
       "      <th>2014-12-31</th>\n",
       "      <td>1344446</td>\n",
       "    </tr>\n",
       "    <tr>\n",
       "      <th>48</th>\n",
       "      <th>2014-12-31</th>\n",
       "      <td>1168208</td>\n",
       "    </tr>\n",
       "    <tr>\n",
       "      <th>3</th>\n",
       "      <th>2014-12-31</th>\n",
       "      <td>1166136</td>\n",
       "    </tr>\n",
       "    <tr>\n",
       "      <th>8</th>\n",
       "      <th>2014-12-31</th>\n",
       "      <td>1029991</td>\n",
       "    </tr>\n",
       "    <tr>\n",
       "      <th>50</th>\n",
       "      <th>2014-12-31</th>\n",
       "      <td>973035</td>\n",
       "    </tr>\n",
       "    <tr>\n",
       "      <th>49</th>\n",
       "      <th>2014-12-31</th>\n",
       "      <td>949515</td>\n",
       "    </tr>\n",
       "    <tr>\n",
       "      <th>34</th>\n",
       "      <th>2014-12-31</th>\n",
       "      <td>898376</td>\n",
       "    </tr>\n",
       "  </tbody>\n",
       "</table>\n",
       "</div>"
      ],
      "text/plain": [
       "                      transactions\n",
       "store_nbr date                    \n",
       "44        2014-12-31       1622607\n",
       "47        2014-12-31       1447939\n",
       "45        2014-12-31       1370575\n",
       "46        2014-12-31       1344446\n",
       "48        2014-12-31       1168208\n",
       "3         2014-12-31       1166136\n",
       "8         2014-12-31       1029991\n",
       "50        2014-12-31        973035\n",
       "49        2014-12-31        949515\n",
       "34        2014-12-31        898376"
      ]
     },
     "execution_count": 120,
     "metadata": {},
     "output_type": "execute_result"
    }
   ],
   "source": [
    "# Top 10 stores which made huge transactions\n",
    "Transactions2014.sort_values('transactions',ascending=False).head(10)"
   ]
  },
  {
   "cell_type": "code",
   "execution_count": 121,
   "metadata": {},
   "outputs": [
    {
     "data": {
      "text/html": [
       "<div>\n",
       "<style scoped>\n",
       "    .dataframe tbody tr th:only-of-type {\n",
       "        vertical-align: middle;\n",
       "    }\n",
       "\n",
       "    .dataframe tbody tr th {\n",
       "        vertical-align: top;\n",
       "    }\n",
       "\n",
       "    .dataframe thead th {\n",
       "        text-align: right;\n",
       "    }\n",
       "</style>\n",
       "<table border=\"1\" class=\"dataframe\">\n",
       "  <thead>\n",
       "    <tr style=\"text-align: right;\">\n",
       "      <th></th>\n",
       "      <th></th>\n",
       "      <th>transactions</th>\n",
       "    </tr>\n",
       "    <tr>\n",
       "      <th>store_nbr</th>\n",
       "      <th>date</th>\n",
       "      <th></th>\n",
       "    </tr>\n",
       "  </thead>\n",
       "  <tbody>\n",
       "    <tr>\n",
       "      <th>44</th>\n",
       "      <th>2015-12-31</th>\n",
       "      <td>1593523</td>\n",
       "    </tr>\n",
       "    <tr>\n",
       "      <th>47</th>\n",
       "      <th>2015-12-31</th>\n",
       "      <td>1430126</td>\n",
       "    </tr>\n",
       "    <tr>\n",
       "      <th>45</th>\n",
       "      <th>2015-12-31</th>\n",
       "      <td>1337679</td>\n",
       "    </tr>\n",
       "    <tr>\n",
       "      <th>46</th>\n",
       "      <th>2015-12-31</th>\n",
       "      <td>1311670</td>\n",
       "    </tr>\n",
       "    <tr>\n",
       "      <th>3</th>\n",
       "      <th>2015-12-31</th>\n",
       "      <td>1175267</td>\n",
       "    </tr>\n",
       "    <tr>\n",
       "      <th>48</th>\n",
       "      <th>2015-12-31</th>\n",
       "      <td>1128070</td>\n",
       "    </tr>\n",
       "    <tr>\n",
       "      <th>49</th>\n",
       "      <th>2015-12-31</th>\n",
       "      <td>1054872</td>\n",
       "    </tr>\n",
       "    <tr>\n",
       "      <th>8</th>\n",
       "      <th>2015-12-31</th>\n",
       "      <td>1002385</td>\n",
       "    </tr>\n",
       "    <tr>\n",
       "      <th>50</th>\n",
       "      <th>2015-12-31</th>\n",
       "      <td>953655</td>\n",
       "    </tr>\n",
       "    <tr>\n",
       "      <th>24</th>\n",
       "      <th>2015-12-31</th>\n",
       "      <td>843558</td>\n",
       "    </tr>\n",
       "  </tbody>\n",
       "</table>\n",
       "</div>"
      ],
      "text/plain": [
       "                      transactions\n",
       "store_nbr date                    \n",
       "44        2015-12-31       1593523\n",
       "47        2015-12-31       1430126\n",
       "45        2015-12-31       1337679\n",
       "46        2015-12-31       1311670\n",
       "3         2015-12-31       1175267\n",
       "48        2015-12-31       1128070\n",
       "49        2015-12-31       1054872\n",
       "8         2015-12-31       1002385\n",
       "50        2015-12-31        953655\n",
       "24        2015-12-31        843558"
      ]
     },
     "execution_count": 121,
     "metadata": {},
     "output_type": "execute_result"
    }
   ],
   "source": [
    "# Top 10 stores which made huge transactions\n",
    "Transactions2015.sort_values('transactions',ascending=False).head(10)"
   ]
  },
  {
   "cell_type": "code",
   "execution_count": 122,
   "metadata": {},
   "outputs": [
    {
     "data": {
      "text/html": [
       "<div>\n",
       "<style scoped>\n",
       "    .dataframe tbody tr th:only-of-type {\n",
       "        vertical-align: middle;\n",
       "    }\n",
       "\n",
       "    .dataframe tbody tr th {\n",
       "        vertical-align: top;\n",
       "    }\n",
       "\n",
       "    .dataframe thead th {\n",
       "        text-align: right;\n",
       "    }\n",
       "</style>\n",
       "<table border=\"1\" class=\"dataframe\">\n",
       "  <thead>\n",
       "    <tr style=\"text-align: right;\">\n",
       "      <th></th>\n",
       "      <th></th>\n",
       "      <th>transactions</th>\n",
       "    </tr>\n",
       "    <tr>\n",
       "      <th>store_nbr</th>\n",
       "      <th>date</th>\n",
       "      <th></th>\n",
       "    </tr>\n",
       "  </thead>\n",
       "  <tbody>\n",
       "    <tr>\n",
       "      <th>44</th>\n",
       "      <th>2016-12-31</th>\n",
       "      <td>1574685</td>\n",
       "    </tr>\n",
       "    <tr>\n",
       "      <th>47</th>\n",
       "      <th>2016-12-31</th>\n",
       "      <td>1402767</td>\n",
       "    </tr>\n",
       "    <tr>\n",
       "      <th>45</th>\n",
       "      <th>2016-12-31</th>\n",
       "      <td>1333314</td>\n",
       "    </tr>\n",
       "    <tr>\n",
       "      <th>46</th>\n",
       "      <th>2016-12-31</th>\n",
       "      <td>1233791</td>\n",
       "    </tr>\n",
       "    <tr>\n",
       "      <th>3</th>\n",
       "      <th>2016-12-31</th>\n",
       "      <td>1164208</td>\n",
       "    </tr>\n",
       "    <tr>\n",
       "      <th>49</th>\n",
       "      <th>2016-12-31</th>\n",
       "      <td>1090042</td>\n",
       "    </tr>\n",
       "    <tr>\n",
       "      <th>48</th>\n",
       "      <th>2016-12-31</th>\n",
       "      <td>1056809</td>\n",
       "    </tr>\n",
       "    <tr>\n",
       "      <th>8</th>\n",
       "      <th>2016-12-31</th>\n",
       "      <td>980025</td>\n",
       "    </tr>\n",
       "    <tr>\n",
       "      <th>50</th>\n",
       "      <th>2016-12-31</th>\n",
       "      <td>893879</td>\n",
       "    </tr>\n",
       "    <tr>\n",
       "      <th>11</th>\n",
       "      <th>2016-12-31</th>\n",
       "      <td>829133</td>\n",
       "    </tr>\n",
       "  </tbody>\n",
       "</table>\n",
       "</div>"
      ],
      "text/plain": [
       "                      transactions\n",
       "store_nbr date                    \n",
       "44        2016-12-31       1574685\n",
       "47        2016-12-31       1402767\n",
       "45        2016-12-31       1333314\n",
       "46        2016-12-31       1233791\n",
       "3         2016-12-31       1164208\n",
       "49        2016-12-31       1090042\n",
       "48        2016-12-31       1056809\n",
       "8         2016-12-31        980025\n",
       "50        2016-12-31        893879\n",
       "11        2016-12-31        829133"
      ]
     },
     "execution_count": 122,
     "metadata": {},
     "output_type": "execute_result"
    }
   ],
   "source": [
    "# Top 10 stores which made huge transactions\n",
    "Transactions2016.sort_values('transactions',ascending=False).head(10)"
   ]
  },
  {
   "cell_type": "code",
   "execution_count": 123,
   "metadata": {},
   "outputs": [
    {
     "data": {
      "text/html": [
       "<div>\n",
       "<style scoped>\n",
       "    .dataframe tbody tr th:only-of-type {\n",
       "        vertical-align: middle;\n",
       "    }\n",
       "\n",
       "    .dataframe tbody tr th {\n",
       "        vertical-align: top;\n",
       "    }\n",
       "\n",
       "    .dataframe thead th {\n",
       "        text-align: right;\n",
       "    }\n",
       "</style>\n",
       "<table border=\"1\" class=\"dataframe\">\n",
       "  <thead>\n",
       "    <tr style=\"text-align: right;\">\n",
       "      <th></th>\n",
       "      <th></th>\n",
       "      <th>transactions</th>\n",
       "    </tr>\n",
       "    <tr>\n",
       "      <th>store_nbr</th>\n",
       "      <th>date</th>\n",
       "      <th></th>\n",
       "    </tr>\n",
       "  </thead>\n",
       "  <tbody>\n",
       "    <tr>\n",
       "      <th>44</th>\n",
       "      <th>2017-12-31</th>\n",
       "      <td>988346</td>\n",
       "    </tr>\n",
       "    <tr>\n",
       "      <th>47</th>\n",
       "      <th>2017-12-31</th>\n",
       "      <td>878791</td>\n",
       "    </tr>\n",
       "    <tr>\n",
       "      <th>45</th>\n",
       "      <th>2017-12-31</th>\n",
       "      <td>867188</td>\n",
       "    </tr>\n",
       "    <tr>\n",
       "      <th>46</th>\n",
       "      <th>2017-12-31</th>\n",
       "      <td>795217</td>\n",
       "    </tr>\n",
       "    <tr>\n",
       "      <th>3</th>\n",
       "      <th>2017-12-31</th>\n",
       "      <td>719308</td>\n",
       "    </tr>\n",
       "    <tr>\n",
       "      <th>49</th>\n",
       "      <th>2017-12-31</th>\n",
       "      <td>696517</td>\n",
       "    </tr>\n",
       "    <tr>\n",
       "      <th>48</th>\n",
       "      <th>2017-12-31</th>\n",
       "      <td>665381</td>\n",
       "    </tr>\n",
       "    <tr>\n",
       "      <th>8</th>\n",
       "      <th>2017-12-31</th>\n",
       "      <td>612091</td>\n",
       "    </tr>\n",
       "    <tr>\n",
       "      <th>50</th>\n",
       "      <th>2017-12-31</th>\n",
       "      <td>591836</td>\n",
       "    </tr>\n",
       "    <tr>\n",
       "      <th>11</th>\n",
       "      <th>2017-12-31</th>\n",
       "      <td>525441</td>\n",
       "    </tr>\n",
       "  </tbody>\n",
       "</table>\n",
       "</div>"
      ],
      "text/plain": [
       "                      transactions\n",
       "store_nbr date                    \n",
       "44        2017-12-31        988346\n",
       "47        2017-12-31        878791\n",
       "45        2017-12-31        867188\n",
       "46        2017-12-31        795217\n",
       "3         2017-12-31        719308\n",
       "49        2017-12-31        696517\n",
       "48        2017-12-31        665381\n",
       "8         2017-12-31        612091\n",
       "50        2017-12-31        591836\n",
       "11        2017-12-31        525441"
      ]
     },
     "execution_count": 123,
     "metadata": {},
     "output_type": "execute_result"
    }
   ],
   "source": [
    "# Top 10 stores which made huge transactions\n",
    "Transactions2017.sort_values('transactions',ascending=False).head(10)"
   ]
  },
  {
   "cell_type": "markdown",
   "metadata": {},
   "source": [
    "<b>Explore  file #6 sample_submission.csv</b>"
   ]
  },
  {
   "cell_type": "code",
   "execution_count": 124,
   "metadata": {
    "collapsed": true
   },
   "outputs": [],
   "source": [
    "sdfSampleSubmission = sqlContext.read.csv(\"/gl-capstone-data/Team6-C-Sep/Data/sample_submission.csv\",header = True,inferSchema = True)"
   ]
  },
  {
   "cell_type": "code",
   "execution_count": 125,
   "metadata": {},
   "outputs": [
    {
     "name": "stdout",
     "output_type": "stream",
     "text": [
      "+---------+----------+\n",
      "|       id|unit_sales|\n",
      "+---------+----------+\n",
      "|125497040|         0|\n",
      "|125497041|         0|\n",
      "|125497042|         0|\n",
      "|125497043|         0|\n",
      "|125497044|         0|\n",
      "|125497045|         0|\n",
      "|125497046|         0|\n",
      "|125497047|         0|\n",
      "|125497048|         0|\n",
      "|125497049|         0|\n",
      "+---------+----------+\n",
      "only showing top 10 rows\n",
      "\n"
     ]
    }
   ],
   "source": [
    "sdfSampleSubmission.show(10)"
   ]
  },
  {
   "cell_type": "code",
   "execution_count": 126,
   "metadata": {},
   "outputs": [
    {
     "data": {
      "text/plain": [
       "3370464"
      ]
     },
     "execution_count": 126,
     "metadata": {},
     "output_type": "execute_result"
    }
   ],
   "source": [
    "sdfSampleSubmission.count()"
   ]
  },
  {
   "cell_type": "code",
   "execution_count": 127,
   "metadata": {},
   "outputs": [
    {
     "data": {
      "text/plain": [
       "3370464"
      ]
     },
     "execution_count": 127,
     "metadata": {},
     "output_type": "execute_result"
    }
   ],
   "source": [
    "sdfSampleSubmission.select(\"id\").distinct().count()\n",
    "# id is the primary key as distinct count and total row count match"
   ]
  },
  {
   "cell_type": "code",
   "execution_count": 128,
   "metadata": {},
   "outputs": [
    {
     "name": "stdout",
     "output_type": "stream",
     "text": [
      "+---+----------+\n",
      "| id|unit_sales|\n",
      "+---+----------+\n",
      "|  0|         0|\n",
      "+---+----------+\n",
      "\n"
     ]
    }
   ],
   "source": [
    "sdfSampleSubmission.select([count(when(col(c).isNull(), c)).alias(c) for c in sdfSampleSubmission.columns]).show()"
   ]
  },
  {
   "cell_type": "code",
   "execution_count": 129,
   "metadata": {},
   "outputs": [
    {
     "data": {
      "text/plain": [
       "3370464"
      ]
     },
     "execution_count": 129,
     "metadata": {},
     "output_type": "execute_result"
    }
   ],
   "source": [
    "sdfSampleSubmission.filter(sdfSampleSubmission.unit_sales ==0).count()\n",
    "#All records contain zero. This column needs to be filled with prediction."
   ]
  },
  {
   "cell_type": "markdown",
   "metadata": {},
   "source": [
    "<b>Explore file #7 test.csv</b>"
   ]
  },
  {
   "cell_type": "code",
   "execution_count": 130,
   "metadata": {
    "collapsed": true
   },
   "outputs": [],
   "source": [
    "sdfTest = sqlContext.read.csv(\"/gl-capstone-data/Team6-C-Sep/Data/test.csv\",header = True,inferSchema = True)"
   ]
  },
  {
   "cell_type": "code",
   "execution_count": 131,
   "metadata": {},
   "outputs": [
    {
     "name": "stdout",
     "output_type": "stream",
     "text": [
      "+---------+-------------------+---------+--------+-----------+\n",
      "|       id|               date|store_nbr|item_nbr|onpromotion|\n",
      "+---------+-------------------+---------+--------+-----------+\n",
      "|125497040|2017-08-16 00:00:00|        1|   96995|      false|\n",
      "|125497041|2017-08-16 00:00:00|        1|   99197|      false|\n",
      "|125497042|2017-08-16 00:00:00|        1|  103501|      false|\n",
      "|125497043|2017-08-16 00:00:00|        1|  103520|      false|\n",
      "|125497044|2017-08-16 00:00:00|        1|  103665|      false|\n",
      "|125497045|2017-08-16 00:00:00|        1|  105574|      false|\n",
      "|125497046|2017-08-16 00:00:00|        1|  105575|      false|\n",
      "|125497047|2017-08-16 00:00:00|        1|  105576|      false|\n",
      "|125497048|2017-08-16 00:00:00|        1|  105577|      false|\n",
      "|125497049|2017-08-16 00:00:00|        1|  105693|      false|\n",
      "+---------+-------------------+---------+--------+-----------+\n",
      "only showing top 10 rows\n",
      "\n"
     ]
    }
   ],
   "source": [
    "sdfTest.show(10)"
   ]
  },
  {
   "cell_type": "code",
   "execution_count": 132,
   "metadata": {},
   "outputs": [
    {
     "data": {
      "text/plain": [
       "3370464"
      ]
     },
     "execution_count": 132,
     "metadata": {},
     "output_type": "execute_result"
    }
   ],
   "source": [
    "sdfTest.count()"
   ]
  },
  {
   "cell_type": "code",
   "execution_count": 133,
   "metadata": {},
   "outputs": [
    {
     "data": {
      "text/plain": [
       "3370464"
      ]
     },
     "execution_count": 133,
     "metadata": {},
     "output_type": "execute_result"
    }
   ],
   "source": [
    "sdfTest.select(\"id\").distinct().count()"
   ]
  },
  {
   "cell_type": "code",
   "execution_count": 134,
   "metadata": {},
   "outputs": [
    {
     "name": "stdout",
     "output_type": "stream",
     "text": [
      "+---+----+---------+--------+-----------+\n",
      "| id|date|store_nbr|item_nbr|onpromotion|\n",
      "+---+----+---------+--------+-----------+\n",
      "|  0|   0|        0|       0|          0|\n",
      "+---+----+---------+--------+-----------+\n",
      "\n"
     ]
    }
   ],
   "source": [
    "sdfTest.select([count(when(col(c).isNull(), c)).alias(c) for c in sdfTest.columns]).show()"
   ]
  },
  {
   "cell_type": "code",
   "execution_count": 135,
   "metadata": {},
   "outputs": [
    {
     "data": {
      "text/plain": [
       "3370464"
      ]
     },
     "execution_count": 135,
     "metadata": {},
     "output_type": "execute_result"
    }
   ],
   "source": [
    "sdfTest.select(\"date\", \"store_nbr\", \"item_nbr\").distinct().count()\n",
    "#id is an artificial primary key. The unique set of columns are \"date\", \"store_nbr\", \"item_nbr\"."
   ]
  },
  {
   "cell_type": "code",
   "execution_count": 136,
   "metadata": {},
   "outputs": [
    {
     "name": "stdout",
     "output_type": "stream",
     "text": [
      "2017-08-16 00:00:00\n"
     ]
    }
   ],
   "source": [
    "minRow = sdfTest.agg({\"date\": \"min\"}).collect()[0]\n",
    "print minRow[\"min(date)\"]"
   ]
  },
  {
   "cell_type": "code",
   "execution_count": 137,
   "metadata": {},
   "outputs": [
    {
     "name": "stdout",
     "output_type": "stream",
     "text": [
      "2017-08-31 00:00:00\n"
     ]
    }
   ],
   "source": [
    "maxRow = sdfTest.agg({\"date\": \"max\"}).collect()[0]\n",
    "print maxRow[\"max(date)\"]"
   ]
  },
  {
   "cell_type": "code",
   "execution_count": 138,
   "metadata": {},
   "outputs": [
    {
     "data": {
      "text/plain": [
       "2"
      ]
     },
     "execution_count": 138,
     "metadata": {},
     "output_type": "execute_result"
    }
   ],
   "source": [
    "sdfTest.select(\"onpromotion\").distinct().count()"
   ]
  },
  {
   "cell_type": "code",
   "execution_count": 139,
   "metadata": {},
   "outputs": [
    {
     "name": "stdout",
     "output_type": "stream",
     "text": [
      "+-----------+\n",
      "|onpromotion|\n",
      "+-----------+\n",
      "|       true|\n",
      "|      false|\n",
      "+-----------+\n",
      "\n"
     ]
    }
   ],
   "source": [
    "sdfTest.select(\"onpromotion\").distinct().show(5)"
   ]
  },
  {
   "cell_type": "code",
   "execution_count": 140,
   "metadata": {},
   "outputs": [
    {
     "name": "stdout",
     "output_type": "stream",
     "text": [
      "<class 'pyspark.sql.dataframe.DataFrame'>\n"
     ]
    }
   ],
   "source": [
    "print(type(sdfTest))"
   ]
  },
  {
   "cell_type": "code",
   "execution_count": 141,
   "metadata": {},
   "outputs": [
    {
     "name": "stdout",
     "output_type": "stream",
     "text": [
      "root\n",
      " |-- id: integer (nullable = true)\n",
      " |-- date: timestamp (nullable = true)\n",
      " |-- store_nbr: integer (nullable = true)\n",
      " |-- item_nbr: integer (nullable = true)\n",
      " |-- onpromotion: boolean (nullable = true)\n",
      "\n"
     ]
    }
   ],
   "source": [
    "sdfTest.printSchema()"
   ]
  },
  {
   "cell_type": "code",
   "execution_count": 142,
   "metadata": {
    "collapsed": true
   },
   "outputs": [],
   "source": [
    "sqlContext.registerDataFrameAsTable(sdfTest, \"sdfTesttbl\")"
   ]
  },
  {
   "cell_type": "code",
   "execution_count": 143,
   "metadata": {
    "collapsed": true
   },
   "outputs": [],
   "source": [
    "df2017 = sqlContext.sql(\"SELECT store_nbr as store_nbr,date as date,count(item_nbr) as count_item_nbr from sdfTesttbl group by store_nbr,date order by date\")"
   ]
  },
  {
   "cell_type": "code",
   "execution_count": 144,
   "metadata": {
    "collapsed": true
   },
   "outputs": [],
   "source": [
    "df2017Daywise = sqlContext.sql(\"SELECT date as date,count(item_nbr) as count_item_nbr from sdfTesttbl group by date order by date\")"
   ]
  },
  {
   "cell_type": "code",
   "execution_count": 145,
   "metadata": {
    "collapsed": true
   },
   "outputs": [],
   "source": [
    "df2017Storewise = sqlContext.sql(\"SELECT store_nbr as store_nbr,count(item_nbr) as count_item_nbr from sdfTesttbl group by store_nbr\")"
   ]
  },
  {
   "cell_type": "code",
   "execution_count": 146,
   "metadata": {
    "collapsed": true
   },
   "outputs": [],
   "source": [
    "df2017Onpromotionwise = sqlContext.sql(\"SELECT store_nbr as store_nbr,onpromotion as onpromotion, count(item_nbr) as count_item_nbr from sdfTesttbl group by store_nbr,onpromotion\")"
   ]
  },
  {
   "cell_type": "code",
   "execution_count": 147,
   "metadata": {},
   "outputs": [
    {
     "name": "stdout",
     "output_type": "stream",
     "text": [
      "+---------+-----------+--------------+\n",
      "|store_nbr|onpromotion|count_item_nbr|\n",
      "+---------+-----------+--------------+\n",
      "|       17|       true|          3680|\n",
      "|       30|      false|         59454|\n",
      "|        1|      false|         59274|\n",
      "|        6|       true|          3704|\n",
      "|       48|       true|          4111|\n",
      "|        3|       true|          3995|\n",
      "|       18|       true|          4176|\n",
      "|       54|      false|         59407|\n",
      "|        7|       true|          3475|\n",
      "|       25|       true|          2923|\n",
      "|       42|      false|         59195|\n",
      "|       41|      false|         59119|\n",
      "|       29|      false|         58249|\n",
      "|       11|       true|          4329|\n",
      "|        9|       true|          4396|\n",
      "|       36|       true|          5366|\n",
      "|        6|      false|         58712|\n",
      "|       23|      false|         59374|\n",
      "|        4|      false|         59025|\n",
      "|       15|       true|          3554|\n",
      "|       41|       true|          3297|\n",
      "|       26|      false|         59994|\n",
      "|       12|       true|          3220|\n",
      "|       16|      false|         58357|\n",
      "|        1|       true|          3142|\n",
      "|       39|      false|         58169|\n",
      "|       28|       true|          4126|\n",
      "|       26|       true|          2422|\n",
      "|       31|       true|          3902|\n",
      "|       24|       true|          3349|\n",
      "|       46|      false|         58083|\n",
      "|       19|       true|          3137|\n",
      "|       44|       true|          4600|\n",
      "|       54|       true|          3009|\n",
      "|       49|      false|         58107|\n",
      "|       48|      false|         58305|\n",
      "|       53|       true|          3074|\n",
      "|       10|       true|          3976|\n",
      "|       47|       true|          4426|\n",
      "|       45|       true|          4510|\n",
      "|       50|      false|         58534|\n",
      "|       37|      false|         58981|\n",
      "|       44|      false|         57816|\n",
      "|        8|       true|          3487|\n",
      "|       34|      false|         58674|\n",
      "|       22|      false|         59162|\n",
      "|        2|       true|          3599|\n",
      "|       14|      false|         59309|\n",
      "|       49|       true|          4309|\n",
      "|       21|      false|         58388|\n",
      "|       51|      false|         58851|\n",
      "|       12|      false|         59196|\n",
      "|       32|       true|          2623|\n",
      "|       51|       true|          3565|\n",
      "|       29|       true|          4167|\n",
      "|       32|      false|         59793|\n",
      "|       16|       true|          4059|\n",
      "|       52|       true|          3761|\n",
      "|       18|      false|         58240|\n",
      "|       34|       true|          3742|\n",
      "|        2|      false|         58817|\n",
      "|       11|      false|         58087|\n",
      "|       21|       true|          4028|\n",
      "|       28|      false|         58290|\n",
      "|       33|       true|          4768|\n",
      "|       43|       true|          3850|\n",
      "|       20|      false|         58195|\n",
      "|       20|       true|          4221|\n",
      "|       38|      false|         58967|\n",
      "|       13|      false|         59488|\n",
      "|       40|       true|          3608|\n",
      "|       27|      false|         58895|\n",
      "|        5|      false|         59163|\n",
      "|       50|       true|          3882|\n",
      "|       33|      false|         57648|\n",
      "|       27|       true|          3521|\n",
      "|        5|       true|          3253|\n",
      "|        8|      false|         58929|\n",
      "|        9|      false|         58020|\n",
      "|       36|      false|         57050|\n",
      "|       53|      false|         59342|\n",
      "|       23|       true|          3042|\n",
      "|       24|      false|         59067|\n",
      "|       31|      false|         58514|\n",
      "|       46|       true|          4333|\n",
      "|       14|       true|          3107|\n",
      "|       47|      false|         57990|\n",
      "|       39|       true|          4247|\n",
      "|        3|      false|         58421|\n",
      "|       10|      false|         58440|\n",
      "|        4|       true|          3391|\n",
      "|       13|       true|          2928|\n",
      "|       19|      false|         59279|\n",
      "|       17|      false|         58736|\n",
      "|       45|      false|         57906|\n",
      "|       37|       true|          3435|\n",
      "|       42|       true|          3221|\n",
      "|       43|      false|         58566|\n",
      "|       52|      false|         58655|\n",
      "|       40|      false|         58808|\n",
      "+---------+-----------+--------------+\n",
      "only showing top 100 rows\n",
      "\n"
     ]
    }
   ],
   "source": [
    "df2017Onpromotionwise.show(100)"
   ]
  },
  {
   "cell_type": "code",
   "execution_count": 148,
   "metadata": {},
   "outputs": [
    {
     "name": "stdout",
     "output_type": "stream",
     "text": [
      "+---------+--------------+\n",
      "|store_nbr|count_item_nbr|\n",
      "+---------+--------------+\n",
      "|       31|         62416|\n",
      "|       53|         62416|\n",
      "|       34|         62416|\n",
      "|       28|         62416|\n",
      "|       26|         62416|\n",
      "|       27|         62416|\n",
      "|       44|         62416|\n",
      "|       12|         62416|\n",
      "|       22|         62416|\n",
      "|       47|         62416|\n",
      "|        1|         62416|\n",
      "|       52|         62416|\n",
      "|       13|         62416|\n",
      "|       16|         62416|\n",
      "|        6|         62416|\n",
      "|        3|         62416|\n",
      "|       20|         62416|\n",
      "|       40|         62416|\n",
      "|       54|         62416|\n",
      "|       48|         62416|\n",
      "|        5|         62416|\n",
      "|       19|         62416|\n",
      "|       41|         62416|\n",
      "|       15|         62416|\n",
      "|       43|         62416|\n",
      "|       37|         62416|\n",
      "|        9|         62416|\n",
      "|       17|         62416|\n",
      "|       35|         62416|\n",
      "|        4|         62416|\n",
      "|        8|         62416|\n",
      "|       23|         62416|\n",
      "|       39|         62416|\n",
      "|       49|         62416|\n",
      "|        7|         62416|\n",
      "|       51|         62416|\n",
      "|       10|         62416|\n",
      "|       50|         62416|\n",
      "|       45|         62416|\n",
      "|       38|         62416|\n",
      "|       25|         62416|\n",
      "|       24|         62416|\n",
      "|       29|         62416|\n",
      "|       21|         62416|\n",
      "|       32|         62416|\n",
      "|       11|         62416|\n",
      "|       33|         62416|\n",
      "|       14|         62416|\n",
      "|       42|         62416|\n",
      "|        2|         62416|\n",
      "|       30|         62416|\n",
      "|       46|         62416|\n",
      "|       18|         62416|\n",
      "|       36|         62416|\n",
      "+---------+--------------+\n",
      "\n"
     ]
    }
   ],
   "source": [
    "df2017Storewise.show(100)"
   ]
  },
  {
   "cell_type": "code",
   "execution_count": 149,
   "metadata": {},
   "outputs": [
    {
     "name": "stdout",
     "output_type": "stream",
     "text": [
      "+-------------------+--------------+\n",
      "|               date|count_item_nbr|\n",
      "+-------------------+--------------+\n",
      "|2017-08-16 00:00:00|        210654|\n",
      "|2017-08-17 00:00:00|        210654|\n",
      "|2017-08-18 00:00:00|        210654|\n",
      "|2017-08-19 00:00:00|        210654|\n",
      "|2017-08-20 00:00:00|        210654|\n",
      "|2017-08-21 00:00:00|        210654|\n",
      "|2017-08-22 00:00:00|        210654|\n",
      "|2017-08-23 00:00:00|        210654|\n",
      "|2017-08-24 00:00:00|        210654|\n",
      "|2017-08-25 00:00:00|        210654|\n",
      "|2017-08-26 00:00:00|        210654|\n",
      "|2017-08-27 00:00:00|        210654|\n",
      "|2017-08-28 00:00:00|        210654|\n",
      "|2017-08-29 00:00:00|        210654|\n",
      "|2017-08-30 00:00:00|        210654|\n",
      "|2017-08-31 00:00:00|        210654|\n",
      "+-------------------+--------------+\n",
      "\n"
     ]
    }
   ],
   "source": [
    "df2017Daywise.show(20)"
   ]
  },
  {
   "cell_type": "code",
   "execution_count": 150,
   "metadata": {},
   "outputs": [
    {
     "name": "stdout",
     "output_type": "stream",
     "text": [
      "+---------+-------------------+--------------+\n",
      "|store_nbr|               date|count_item_nbr|\n",
      "+---------+-------------------+--------------+\n",
      "|        3|2017-08-16 00:00:00|          3901|\n",
      "|       30|2017-08-16 00:00:00|          3901|\n",
      "|       28|2017-08-16 00:00:00|          3901|\n",
      "|       37|2017-08-16 00:00:00|          3901|\n",
      "|       25|2017-08-16 00:00:00|          3901|\n",
      "|       22|2017-08-16 00:00:00|          3901|\n",
      "|       41|2017-08-16 00:00:00|          3901|\n",
      "|       31|2017-08-16 00:00:00|          3901|\n",
      "|       16|2017-08-16 00:00:00|          3901|\n",
      "|       35|2017-08-16 00:00:00|          3901|\n",
      "|       45|2017-08-16 00:00:00|          3901|\n",
      "|       29|2017-08-16 00:00:00|          3901|\n",
      "|       14|2017-08-16 00:00:00|          3901|\n",
      "|       38|2017-08-16 00:00:00|          3901|\n",
      "|       27|2017-08-16 00:00:00|          3901|\n",
      "|       17|2017-08-16 00:00:00|          3901|\n",
      "|       50|2017-08-16 00:00:00|          3901|\n",
      "|        9|2017-08-16 00:00:00|          3901|\n",
      "|       32|2017-08-16 00:00:00|          3901|\n",
      "|       21|2017-08-16 00:00:00|          3901|\n",
      "|        5|2017-08-16 00:00:00|          3901|\n",
      "|        7|2017-08-16 00:00:00|          3901|\n",
      "|       53|2017-08-16 00:00:00|          3901|\n",
      "|       54|2017-08-16 00:00:00|          3901|\n",
      "|       48|2017-08-16 00:00:00|          3901|\n",
      "|       12|2017-08-16 00:00:00|          3901|\n",
      "|       51|2017-08-16 00:00:00|          3901|\n",
      "|       33|2017-08-16 00:00:00|          3901|\n",
      "|       18|2017-08-16 00:00:00|          3901|\n",
      "|       19|2017-08-16 00:00:00|          3901|\n",
      "|       20|2017-08-16 00:00:00|          3901|\n",
      "|       39|2017-08-16 00:00:00|          3901|\n",
      "|        1|2017-08-16 00:00:00|          3901|\n",
      "|        4|2017-08-16 00:00:00|          3901|\n",
      "|       49|2017-08-16 00:00:00|          3901|\n",
      "|       46|2017-08-16 00:00:00|          3901|\n",
      "|       36|2017-08-16 00:00:00|          3901|\n",
      "|       15|2017-08-16 00:00:00|          3901|\n",
      "|       34|2017-08-16 00:00:00|          3901|\n",
      "|       26|2017-08-16 00:00:00|          3901|\n",
      "|       40|2017-08-16 00:00:00|          3901|\n",
      "|        6|2017-08-16 00:00:00|          3901|\n",
      "|       13|2017-08-16 00:00:00|          3901|\n",
      "|       42|2017-08-16 00:00:00|          3901|\n",
      "|       43|2017-08-16 00:00:00|          3901|\n",
      "|       10|2017-08-16 00:00:00|          3901|\n",
      "|       24|2017-08-16 00:00:00|          3901|\n",
      "|        2|2017-08-16 00:00:00|          3901|\n",
      "|        8|2017-08-16 00:00:00|          3901|\n",
      "|       11|2017-08-16 00:00:00|          3901|\n",
      "|       23|2017-08-16 00:00:00|          3901|\n",
      "|       47|2017-08-16 00:00:00|          3901|\n",
      "|       44|2017-08-16 00:00:00|          3901|\n",
      "|       52|2017-08-16 00:00:00|          3901|\n",
      "|        1|2017-08-17 00:00:00|          3901|\n",
      "|       41|2017-08-17 00:00:00|          3901|\n",
      "|        9|2017-08-17 00:00:00|          3901|\n",
      "|        6|2017-08-17 00:00:00|          3901|\n",
      "|       40|2017-08-17 00:00:00|          3901|\n",
      "|       39|2017-08-17 00:00:00|          3901|\n",
      "|       38|2017-08-17 00:00:00|          3901|\n",
      "|        2|2017-08-17 00:00:00|          3901|\n",
      "|       33|2017-08-17 00:00:00|          3901|\n",
      "|       13|2017-08-17 00:00:00|          3901|\n",
      "|       25|2017-08-17 00:00:00|          3901|\n",
      "|       53|2017-08-17 00:00:00|          3901|\n",
      "|        4|2017-08-17 00:00:00|          3901|\n",
      "|        5|2017-08-17 00:00:00|          3901|\n",
      "|        8|2017-08-17 00:00:00|          3901|\n",
      "|       34|2017-08-17 00:00:00|          3901|\n",
      "|       46|2017-08-17 00:00:00|          3901|\n",
      "|       28|2017-08-17 00:00:00|          3901|\n",
      "|        7|2017-08-17 00:00:00|          3901|\n",
      "|       19|2017-08-17 00:00:00|          3901|\n",
      "|       54|2017-08-17 00:00:00|          3901|\n",
      "|       45|2017-08-17 00:00:00|          3901|\n",
      "|       10|2017-08-17 00:00:00|          3901|\n",
      "|       18|2017-08-17 00:00:00|          3901|\n",
      "|       23|2017-08-17 00:00:00|          3901|\n",
      "|       12|2017-08-17 00:00:00|          3901|\n",
      "|       32|2017-08-17 00:00:00|          3901|\n",
      "|       42|2017-08-17 00:00:00|          3901|\n",
      "|       52|2017-08-17 00:00:00|          3901|\n",
      "|       51|2017-08-17 00:00:00|          3901|\n",
      "|       43|2017-08-17 00:00:00|          3901|\n",
      "|       36|2017-08-17 00:00:00|          3901|\n",
      "|       35|2017-08-17 00:00:00|          3901|\n",
      "|       31|2017-08-17 00:00:00|          3901|\n",
      "|       44|2017-08-17 00:00:00|          3901|\n",
      "|       37|2017-08-17 00:00:00|          3901|\n",
      "|       20|2017-08-17 00:00:00|          3901|\n",
      "|       48|2017-08-17 00:00:00|          3901|\n",
      "|       17|2017-08-17 00:00:00|          3901|\n",
      "|       30|2017-08-17 00:00:00|          3901|\n",
      "|       21|2017-08-17 00:00:00|          3901|\n",
      "|       50|2017-08-17 00:00:00|          3901|\n",
      "|        3|2017-08-17 00:00:00|          3901|\n",
      "|       15|2017-08-17 00:00:00|          3901|\n",
      "|       26|2017-08-17 00:00:00|          3901|\n",
      "|       24|2017-08-17 00:00:00|          3901|\n",
      "+---------+-------------------+--------------+\n",
      "only showing top 100 rows\n",
      "\n"
     ]
    }
   ],
   "source": [
    "df2017.show(100)"
   ]
  },
  {
   "cell_type": "code",
   "execution_count": 151,
   "metadata": {},
   "outputs": [
    {
     "data": {
      "text/html": [
       "<script>requirejs.config({paths: { 'plotly': ['https://cdn.plot.ly/plotly-latest.min']},});if(!window.Plotly) {{require(['plotly'],function(plotly) {window.Plotly=plotly;});}}</script>"
      ],
      "text/vnd.plotly.v1+html": [
       "<script>requirejs.config({paths: { 'plotly': ['https://cdn.plot.ly/plotly-latest.min']},});if(!window.Plotly) {{require(['plotly'],function(plotly) {window.Plotly=plotly;});}}</script>"
      ]
     },
     "metadata": {},
     "output_type": "display_data"
    }
   ],
   "source": [
    "#sdfTest.columns\n",
    "from plotly.offline import download_plotlyjs, init_notebook_mode, iplot\n",
    "import plotly.graph_objs as go\n",
    "init_notebook_mode(connected=True)"
   ]
  },
  {
   "cell_type": "code",
   "execution_count": 152,
   "metadata": {},
   "outputs": [
    {
     "data": {
      "application/vnd.plotly.v1+json": {
       "data": [
        {
         "orientation": "h",
         "type": "bar",
         "x": [
          "2017-08-16",
          "2017-08-17",
          "2017-08-18",
          "2017-08-19",
          "2017-08-20",
          "2017-08-21",
          "2017-08-22",
          "2017-08-23",
          "2017-08-24",
          "2017-08-25",
          "2017-08-26",
          "2017-08-27",
          "2017-08-28",
          "2017-08-29",
          "2017-08-30",
          "2017-08-31"
         ],
         "y": [
          210654,
          210654,
          210654,
          210654,
          210654,
          210654,
          210654,
          210654,
          210654,
          210654,
          210654,
          210654,
          210654,
          210654,
          210654,
          210654
         ]
        }
       ],
       "layout": {}
      },
      "text/html": [
       "<div id=\"686c53ff-1cb0-4c57-bef5-414883f0fa2f\" style=\"height: 525px; width: 100%;\" class=\"plotly-graph-div\"></div><script type=\"text/javascript\">require([\"plotly\"], function(Plotly) { window.PLOTLYENV=window.PLOTLYENV || {};window.PLOTLYENV.BASE_URL=\"https://plot.ly\";Plotly.newPlot(\"686c53ff-1cb0-4c57-bef5-414883f0fa2f\", [{\"y\": [210654, 210654, 210654, 210654, 210654, 210654, 210654, 210654, 210654, 210654, 210654, 210654, 210654, 210654, 210654, 210654], \"x\": [\"2017-08-16\", \"2017-08-17\", \"2017-08-18\", \"2017-08-19\", \"2017-08-20\", \"2017-08-21\", \"2017-08-22\", \"2017-08-23\", \"2017-08-24\", \"2017-08-25\", \"2017-08-26\", \"2017-08-27\", \"2017-08-28\", \"2017-08-29\", \"2017-08-30\", \"2017-08-31\"], \"type\": \"bar\", \"orientation\": \"h\"}], {}, {\"linkText\": \"Export to plot.ly\", \"showLink\": true})});</script>"
      ],
      "text/vnd.plotly.v1+html": [
       "<div id=\"686c53ff-1cb0-4c57-bef5-414883f0fa2f\" style=\"height: 525px; width: 100%;\" class=\"plotly-graph-div\"></div><script type=\"text/javascript\">require([\"plotly\"], function(Plotly) { window.PLOTLYENV=window.PLOTLYENV || {};window.PLOTLYENV.BASE_URL=\"https://plot.ly\";Plotly.newPlot(\"686c53ff-1cb0-4c57-bef5-414883f0fa2f\", [{\"y\": [210654, 210654, 210654, 210654, 210654, 210654, 210654, 210654, 210654, 210654, 210654, 210654, 210654, 210654, 210654, 210654], \"x\": [\"2017-08-16\", \"2017-08-17\", \"2017-08-18\", \"2017-08-19\", \"2017-08-20\", \"2017-08-21\", \"2017-08-22\", \"2017-08-23\", \"2017-08-24\", \"2017-08-25\", \"2017-08-26\", \"2017-08-27\", \"2017-08-28\", \"2017-08-29\", \"2017-08-30\", \"2017-08-31\"], \"type\": \"bar\", \"orientation\": \"h\"}], {}, {\"linkText\": \"Export to plot.ly\", \"showLink\": true})});</script>"
      ]
     },
     "metadata": {},
     "output_type": "display_data"
    }
   ],
   "source": [
    "data = [go.Bar(\n",
    "            x=df2017Daywise.toPandas()['date'],\n",
    "            y=df2017Daywise.toPandas()[\"count_item_nbr\"],\n",
    "            orientation = 'h'\n",
    ")]\n",
    "\n",
    "iplot(data)"
   ]
  },
  {
   "cell_type": "code",
   "execution_count": 153,
   "metadata": {},
   "outputs": [
    {
     "data": {
      "application/vnd.plotly.v1+json": {
       "data": [
        {
         "mode": "markers",
         "x": [
          17,
          6,
          3,
          48,
          18,
          7,
          25,
          11,
          9,
          36,
          15,
          41,
          12,
          1,
          28,
          26,
          31,
          24,
          19,
          44,
          54,
          53,
          10,
          47,
          45,
          8,
          2,
          49,
          32,
          51,
          29,
          16,
          52,
          34,
          21,
          33,
          43,
          20,
          40,
          50,
          27,
          5,
          23,
          46,
          14,
          39,
          4,
          13,
          37,
          42,
          38,
          22,
          30,
          35
         ],
         "y": [
          3680,
          3704,
          4111,
          3995,
          4176,
          3475,
          2923,
          4329,
          4396,
          5366,
          3554,
          3297,
          3220,
          3142,
          4126,
          2422,
          3902,
          3349,
          3137,
          4600,
          3009,
          3074,
          3976,
          4426,
          4510,
          3487,
          3599,
          4309,
          2623,
          3565,
          4167,
          4059,
          3761,
          3742,
          4028,
          4768,
          3850,
          4221,
          3608,
          3882,
          3521,
          3253,
          3042,
          4333,
          3107,
          4247,
          3391,
          2928,
          3435,
          3221,
          3449,
          3254,
          2962,
          2886
         ]
        },
        {
         "mode": "markers",
         "x": [
          17,
          6,
          3,
          48,
          18,
          7,
          25,
          11,
          9,
          36,
          15,
          41,
          12,
          1,
          28,
          26,
          31,
          24,
          19,
          44,
          54,
          53,
          10,
          47,
          45,
          8,
          2,
          49,
          32,
          51,
          29,
          16,
          52,
          34,
          21,
          33,
          43,
          20,
          40,
          50,
          5,
          27,
          23,
          46,
          14,
          39,
          4,
          13,
          37,
          42,
          38,
          22,
          30,
          35
         ],
         "y": [
          3680,
          3704,
          3995,
          4111,
          4176,
          3475,
          2923,
          4329,
          4396,
          5366,
          3554,
          3297,
          3220,
          3142,
          4126,
          2422,
          3902,
          3349,
          3137,
          4600,
          3009,
          3976,
          3074,
          4426,
          4510,
          3487,
          3599,
          4309,
          2623,
          3565,
          4167,
          4059,
          3761,
          3742,
          4028,
          4768,
          3850,
          4221,
          3608,
          3882,
          3253,
          3521,
          3042,
          3107,
          4333,
          4247,
          3391,
          2928,
          3435,
          3221,
          3449,
          3254,
          2962,
          2886
         ]
        }
       ],
       "layout": {
        "xaxis": {
         "title": "Store Nbr"
        },
        "yaxis": {
         "title": "Number of Items"
        }
       }
      },
      "text/html": [
       "<div id=\"753b2de2-f0cc-4450-b8c2-48b248d7d43b\" style=\"height: 525px; width: 100%;\" class=\"plotly-graph-div\"></div><script type=\"text/javascript\">require([\"plotly\"], function(Plotly) { window.PLOTLYENV=window.PLOTLYENV || {};window.PLOTLYENV.BASE_URL=\"https://plot.ly\";Plotly.newPlot(\"753b2de2-f0cc-4450-b8c2-48b248d7d43b\", [{\"y\": [3680, 3704, 4111, 3995, 4176, 3475, 2923, 4329, 4396, 5366, 3554, 3297, 3220, 3142, 4126, 2422, 3902, 3349, 3137, 4600, 3009, 3074, 3976, 4426, 4510, 3487, 3599, 4309, 2623, 3565, 4167, 4059, 3761, 3742, 4028, 4768, 3850, 4221, 3608, 3882, 3521, 3253, 3042, 4333, 3107, 4247, 3391, 2928, 3435, 3221, 3449, 3254, 2962, 2886], \"x\": [17, 6, 3, 48, 18, 7, 25, 11, 9, 36, 15, 41, 12, 1, 28, 26, 31, 24, 19, 44, 54, 53, 10, 47, 45, 8, 2, 49, 32, 51, 29, 16, 52, 34, 21, 33, 43, 20, 40, 50, 27, 5, 23, 46, 14, 39, 4, 13, 37, 42, 38, 22, 30, 35], \"mode\": \"markers\"}, {\"y\": [3680, 3704, 3995, 4111, 4176, 3475, 2923, 4329, 4396, 5366, 3554, 3297, 3220, 3142, 4126, 2422, 3902, 3349, 3137, 4600, 3009, 3976, 3074, 4426, 4510, 3487, 3599, 4309, 2623, 3565, 4167, 4059, 3761, 3742, 4028, 4768, 3850, 4221, 3608, 3882, 3253, 3521, 3042, 3107, 4333, 4247, 3391, 2928, 3435, 3221, 3449, 3254, 2962, 2886], \"x\": [17, 6, 3, 48, 18, 7, 25, 11, 9, 36, 15, 41, 12, 1, 28, 26, 31, 24, 19, 44, 54, 53, 10, 47, 45, 8, 2, 49, 32, 51, 29, 16, 52, 34, 21, 33, 43, 20, 40, 50, 5, 27, 23, 46, 14, 39, 4, 13, 37, 42, 38, 22, 30, 35], \"mode\": \"markers\"}], {\"xaxis\": {\"title\": \"Store Nbr\"}, \"yaxis\": {\"title\": \"Number of Items\"}}, {\"linkText\": \"Export to plot.ly\", \"showLink\": true})});</script>"
      ],
      "text/vnd.plotly.v1+html": [
       "<div id=\"753b2de2-f0cc-4450-b8c2-48b248d7d43b\" style=\"height: 525px; width: 100%;\" class=\"plotly-graph-div\"></div><script type=\"text/javascript\">require([\"plotly\"], function(Plotly) { window.PLOTLYENV=window.PLOTLYENV || {};window.PLOTLYENV.BASE_URL=\"https://plot.ly\";Plotly.newPlot(\"753b2de2-f0cc-4450-b8c2-48b248d7d43b\", [{\"y\": [3680, 3704, 4111, 3995, 4176, 3475, 2923, 4329, 4396, 5366, 3554, 3297, 3220, 3142, 4126, 2422, 3902, 3349, 3137, 4600, 3009, 3074, 3976, 4426, 4510, 3487, 3599, 4309, 2623, 3565, 4167, 4059, 3761, 3742, 4028, 4768, 3850, 4221, 3608, 3882, 3521, 3253, 3042, 4333, 3107, 4247, 3391, 2928, 3435, 3221, 3449, 3254, 2962, 2886], \"x\": [17, 6, 3, 48, 18, 7, 25, 11, 9, 36, 15, 41, 12, 1, 28, 26, 31, 24, 19, 44, 54, 53, 10, 47, 45, 8, 2, 49, 32, 51, 29, 16, 52, 34, 21, 33, 43, 20, 40, 50, 27, 5, 23, 46, 14, 39, 4, 13, 37, 42, 38, 22, 30, 35], \"mode\": \"markers\"}, {\"y\": [3680, 3704, 3995, 4111, 4176, 3475, 2923, 4329, 4396, 5366, 3554, 3297, 3220, 3142, 4126, 2422, 3902, 3349, 3137, 4600, 3009, 3976, 3074, 4426, 4510, 3487, 3599, 4309, 2623, 3565, 4167, 4059, 3761, 3742, 4028, 4768, 3850, 4221, 3608, 3882, 3253, 3521, 3042, 3107, 4333, 4247, 3391, 2928, 3435, 3221, 3449, 3254, 2962, 2886], \"x\": [17, 6, 3, 48, 18, 7, 25, 11, 9, 36, 15, 41, 12, 1, 28, 26, 31, 24, 19, 44, 54, 53, 10, 47, 45, 8, 2, 49, 32, 51, 29, 16, 52, 34, 21, 33, 43, 20, 40, 50, 5, 27, 23, 46, 14, 39, 4, 13, 37, 42, 38, 22, 30, 35], \"mode\": \"markers\"}], {\"xaxis\": {\"title\": \"Store Nbr\"}, \"yaxis\": {\"title\": \"Number of Items\"}}, {\"linkText\": \"Export to plot.ly\", \"showLink\": true})});</script>"
      ]
     },
     "metadata": {},
     "output_type": "display_data"
    }
   ],
   "source": [
    "df2017OnpromotionwiseTrue = df2017Onpromotionwise[df2017Onpromotionwise.onpromotion=='true']\n",
    "df2017OnpromotionwiseFalse = df2017Onpromotionwise[df2017Onpromotionwise.onpromotion=='false']\n",
    "fig = {\n",
    "    'data': [\n",
    "  \t\t{\n",
    "  \t\t\t'x': df2017OnpromotionwiseTrue.toPandas()['store_nbr'], \n",
    "        \t'y': df2017OnpromotionwiseTrue.toPandas()['count_item_nbr'],  \n",
    "        \t'mode': 'markers' \n",
    "        \t},\n",
    "        {\n",
    "        \t'x': df2017OnpromotionwiseTrue.toPandas()['store_nbr'], \n",
    "        \t'y': df2017OnpromotionwiseTrue.toPandas()['count_item_nbr'],  \n",
    "        \t'mode': 'markers'   \n",
    "        \t}\n",
    "    ],\n",
    "    'layout': {\n",
    "        'xaxis': {'title': 'Store Nbr'},\n",
    "        'yaxis': {'title': \"Number of Items\"}\n",
    "    }\n",
    "}\n",
    "\n",
    "iplot(fig)"
   ]
  },
  {
   "cell_type": "markdown",
   "metadata": {},
   "source": [
    "<b>Explore file #8 train.csv </b>"
   ]
  },
  {
   "cell_type": "code",
   "execution_count": 154,
   "metadata": {},
   "outputs": [],
   "source": [
    "sdfTrain = sqlContext.read.csv(\"/gl-capstone-data/Team6-C-Sep/Data/train/train.csv\",header = True,inferSchema = True)"
   ]
  },
  {
   "cell_type": "code",
   "execution_count": 155,
   "metadata": {},
   "outputs": [
    {
     "name": "stdout",
     "output_type": "stream",
     "text": [
      "+---+-------------------+---------+--------+----------+-----------+\n",
      "| id|               date|store_nbr|item_nbr|unit_sales|onpromotion|\n",
      "+---+-------------------+---------+--------+----------+-----------+\n",
      "|  0|2013-01-01 00:00:00|       25|  103665|       7.0|       null|\n",
      "|  1|2013-01-01 00:00:00|       25|  105574|       1.0|       null|\n",
      "|  2|2013-01-01 00:00:00|       25|  105575|       2.0|       null|\n",
      "|  3|2013-01-01 00:00:00|       25|  108079|       1.0|       null|\n",
      "|  4|2013-01-01 00:00:00|       25|  108701|       1.0|       null|\n",
      "|  5|2013-01-01 00:00:00|       25|  108786|       3.0|       null|\n",
      "|  6|2013-01-01 00:00:00|       25|  108797|       1.0|       null|\n",
      "|  7|2013-01-01 00:00:00|       25|  108952|       1.0|       null|\n",
      "|  8|2013-01-01 00:00:00|       25|  111397|      13.0|       null|\n",
      "|  9|2013-01-01 00:00:00|       25|  114790|       3.0|       null|\n",
      "+---+-------------------+---------+--------+----------+-----------+\n",
      "only showing top 10 rows\n",
      "\n"
     ]
    }
   ],
   "source": [
    "sdfTrain.show(10)"
   ]
  },
  {
   "cell_type": "code",
   "execution_count": 156,
   "metadata": {},
   "outputs": [
    {
     "data": {
      "text/plain": [
       "125497040"
      ]
     },
     "execution_count": 156,
     "metadata": {},
     "output_type": "execute_result"
    }
   ],
   "source": [
    "sdfTrain.count()"
   ]
  },
  {
   "cell_type": "code",
   "execution_count": 157,
   "metadata": {},
   "outputs": [
    {
     "data": {
      "text/plain": [
       "125497040"
      ]
     },
     "execution_count": 157,
     "metadata": {},
     "output_type": "execute_result"
    }
   ],
   "source": [
    "sdfTrain.select(\"id\").distinct().count()\n",
    "# id is the primary key as distinct count and total row count match"
   ]
  },
  {
   "cell_type": "code",
   "execution_count": 158,
   "metadata": {},
   "outputs": [
    {
     "name": "stdout",
     "output_type": "stream",
     "text": [
      "+---+----+---------+--------+----------+-----------+\n",
      "| id|date|store_nbr|item_nbr|unit_sales|onpromotion|\n",
      "+---+----+---------+--------+----------+-----------+\n",
      "|  0|   0|        0|       0|         0|   21657651|\n",
      "+---+----+---------+--------+----------+-----------+\n",
      "\n"
     ]
    }
   ],
   "source": [
    "sdfTrain.select([count(when(col(c).isNull(), c)).alias(c) for c in sdfTrain.columns]).show()"
   ]
  },
  {
   "cell_type": "code",
   "execution_count": 159,
   "metadata": {},
   "outputs": [
    {
     "data": {
      "text/plain": [
       "[6.0]"
      ]
     },
     "execution_count": 159,
     "metadata": {},
     "output_type": "execute_result"
    }
   ],
   "source": [
    "sdfTrain.approxQuantile(\"unit_sales\", [0.5], 0.25)\n",
    "#median"
   ]
  },
  {
   "cell_type": "code",
   "execution_count": 160,
   "metadata": {},
   "outputs": [
    {
     "name": "stdout",
     "output_type": "stream",
     "text": [
      "2013-01-01 00:00:00\n"
     ]
    }
   ],
   "source": [
    "minRowTrain = sdfTrain.agg({\"date\": \"min\"}).collect()[0]\n",
    "print minRowTrain[\"min(date)\"]"
   ]
  },
  {
   "cell_type": "code",
   "execution_count": 161,
   "metadata": {},
   "outputs": [
    {
     "name": "stdout",
     "output_type": "stream",
     "text": [
      "2017-08-15 00:00:00\n"
     ]
    }
   ],
   "source": [
    "maxRowTrain = sdfTrain.agg({\"date\": \"max\"}).collect()[0]\n",
    "print maxRowTrain[\"max(date)\"]"
   ]
  },
  {
   "cell_type": "code",
   "execution_count": 162,
   "metadata": {},
   "outputs": [
    {
     "data": {
      "text/plain": [
       "3"
      ]
     },
     "execution_count": 162,
     "metadata": {},
     "output_type": "execute_result"
    }
   ],
   "source": [
    "sdfTrain.select(\"onpromotion\").distinct().count()"
   ]
  },
  {
   "cell_type": "code",
   "execution_count": 163,
   "metadata": {},
   "outputs": [
    {
     "name": "stdout",
     "output_type": "stream",
     "text": [
      "+-----------+\n",
      "|onpromotion|\n",
      "+-----------+\n",
      "|       null|\n",
      "|       true|\n",
      "|      false|\n",
      "+-----------+\n",
      "\n"
     ]
    }
   ],
   "source": [
    "sdfTrain.select(\"onpromotion\").distinct().show(10)"
   ]
  },
  {
   "cell_type": "code",
   "execution_count": 164,
   "metadata": {},
   "outputs": [
    {
     "name": "stdout",
     "output_type": "stream",
     "text": [
      "+-------+-------------------+------------------+------------------+------------------+\n",
      "|summary|                 id|         store_nbr|          item_nbr|        unit_sales|\n",
      "+-------+-------------------+------------------+------------------+------------------+\n",
      "|  count|          125497040|         125497040|         125497040|         125497040|\n",
      "|   mean|       6.27485195E7|27.464578025107205|  972769.152722598|  8.55486526843821|\n",
      "| stddev|3.622787505758819E7| 16.33051030272046|520533.59861074144|23.605151809802148|\n",
      "|    min|                  0|                 1|             96995|          -15372.0|\n",
      "|    max|          125497039|                54|           2127114|           89440.0|\n",
      "+-------+-------------------+------------------+------------------+------------------+\n",
      "\n"
     ]
    }
   ],
   "source": [
    "sdfTrain.describe().show()"
   ]
  },
  {
   "cell_type": "code",
   "execution_count": 165,
   "metadata": {},
   "outputs": [
    {
     "name": "stdout",
     "output_type": "stream",
     "text": [
      "<class 'pyspark.sql.dataframe.DataFrame'>\n"
     ]
    }
   ],
   "source": [
    "print(type(sdfTrain))"
   ]
  },
  {
   "cell_type": "code",
   "execution_count": 166,
   "metadata": {},
   "outputs": [],
   "source": [
    "#unit_sales = sdfTrain.select(\"unit_sales\").collect()\n",
    "#sns.distplot(unit_sales, color=p)\n",
    "\n",
    "#Could not get this to work. Got the below error:\n",
    "#Py4JJavaError: An error occurred while calling o76.collectToPython.\n",
    "#org.apache.spark.SparkException: Job 12 cancelled because SparkContext was shut down"
   ]
  },
  {
   "cell_type": "code",
   "execution_count": 167,
   "metadata": {
    "collapsed": true
   },
   "outputs": [],
   "source": [
    "sqlContext.registerDataFrameAsTable(sdfTrain, \"sdfTraintbl\")"
   ]
  },
  {
   "cell_type": "code",
   "execution_count": 168,
   "metadata": {},
   "outputs": [],
   "source": [
    "sdfTrainTbl2014 = sqlContext.sql(\"SELECT store_nbr as store_nbr,year(date) as date,count(item_nbr) as count_item_nbr,(sum(unit_sales)*count(item_nbr)) as total_sales from sdfTraintbl where year(date) ='2014' group by store_nbr,year(date)\")"
   ]
  },
  {
   "cell_type": "code",
   "execution_count": 169,
   "metadata": {
    "collapsed": true
   },
   "outputs": [],
   "source": [
    "sdfTrainTbl2015 = sqlContext.sql(\"SELECT store_nbr as store_nbr,year(date) as date,count(item_nbr) as count_item_nbr,(sum(unit_sales)*count(item_nbr)) as total_sales from sdfTraintbl where year(date) ='2015' group by store_nbr,year(date)\")"
   ]
  },
  {
   "cell_type": "code",
   "execution_count": 170,
   "metadata": {
    "collapsed": true
   },
   "outputs": [],
   "source": [
    "sdfTrainTbl2016 = sqlContext.sql(\"SELECT store_nbr as store_nbr,year(date) as date,count(item_nbr) as count_item_nbr,(sum(unit_sales)*count(item_nbr)) as total_sales from sdfTraintbl where year(date) ='2016' group by store_nbr,year(date)\")"
   ]
  },
  {
   "cell_type": "code",
   "execution_count": 171,
   "metadata": {
    "collapsed": true
   },
   "outputs": [],
   "source": [
    "sdfTrainTbl2017 = sqlContext.sql(\"SELECT store_nbr as store_nbr,year(date) as date,count(item_nbr) as count_item_nbr,(sum(unit_sales)*count(item_nbr)) as total_sales from sdfTraintbl where year(date) ='2017' group by store_nbr,year(date)\")"
   ]
  },
  {
   "cell_type": "code",
   "execution_count": 172,
   "metadata": {
    "collapsed": true
   },
   "outputs": [],
   "source": [
    "sdfTrainTbl2013 = sqlContext.sql(\"SELECT store_nbr as store_nbr,year(date) as date,count(item_nbr) as count_item_nbr,(sum(unit_sales)*count(item_nbr)) as total_sales from sdfTraintbl where year(date) ='2013' group by store_nbr,year(date)\")"
   ]
  },
  {
   "cell_type": "code",
   "execution_count": 173,
   "metadata": {},
   "outputs": [
    {
     "name": "stdout",
     "output_type": "stream",
     "text": [
      "+---------+----+--------------+--------------------+\n",
      "|store_nbr|date|count_item_nbr|         total_sales|\n",
      "+---------+----+--------------+--------------------+\n",
      "|       17|2013|        293454|6.850260331408616E11|\n",
      "|       27|2013|        361609|8.743415038239781E11|\n",
      "|       40|2013|        274548|5.449007075126999...|\n",
      "|       12|2013|        268012| 4.62792876305276E11|\n",
      "|       15|2013|        273017|4.872371254961475E11|\n",
      "|        8|2013|        454300|1.816183909894198...|\n",
      "|       13|2013|        250857|4.089483675438390...|\n",
      "|       51|2013|        422731|1.997916874945029...|\n",
      "|       38|2013|        389963|1.073552181714039...|\n",
      "|        6|2013|        435893|1.545849896466980...|\n",
      "+---------+----+--------------+--------------------+\n",
      "only showing top 10 rows\n",
      "\n"
     ]
    }
   ],
   "source": [
    "sdfTrainTbl2013.show(10)"
   ]
  },
  {
   "cell_type": "code",
   "execution_count": null,
   "metadata": {},
   "outputs": [],
   "source": [
    "sdfTrainTbl2014.show(10)"
   ]
  },
  {
   "cell_type": "code",
   "execution_count": null,
   "metadata": {},
   "outputs": [],
   "source": [
    "sdfTrainTbl2015.show(10)"
   ]
  },
  {
   "cell_type": "code",
   "execution_count": null,
   "metadata": {
    "collapsed": true
   },
   "outputs": [],
   "source": [
    "sdfTrainTbl2016.show(10)"
   ]
  },
  {
   "cell_type": "code",
   "execution_count": null,
   "metadata": {
    "collapsed": true
   },
   "outputs": [],
   "source": [
    "sdfTrainTbl2017.show(10)"
   ]
  },
  {
   "cell_type": "code",
   "execution_count": null,
   "metadata": {},
   "outputs": [],
   "source": [
    "# In -progress....Didn't execute it yet\n",
    "data = [go.Histogram(x=sdfTrainTbl2013.toPandas()['total_sales'])]\n",
    "iplot(data)"
   ]
  },
  {
   "cell_type": "code",
   "execution_count": null,
   "metadata": {
    "collapsed": true
   },
   "outputs": [],
   "source": [
    "# In -progress....Didn't execute it yet\n",
    "data = [go.Histogram(x=sdfTrainTbl2014.toPandas()['total_sales'])]\n",
    "iplot(data)"
   ]
  },
  {
   "cell_type": "code",
   "execution_count": null,
   "metadata": {
    "collapsed": true
   },
   "outputs": [],
   "source": [
    "# In -progress....Didn't execute it yet\n",
    "data = [go.Histogram(x=sdfTrainTbl2015.toPandas()['total_sales'])]\n",
    "iplot(data)"
   ]
  },
  {
   "cell_type": "code",
   "execution_count": null,
   "metadata": {
    "collapsed": true
   },
   "outputs": [],
   "source": [
    "# In -progress....Didn't execute it yet\n",
    "data = [go.Histogram(x=sdfTrainTbl2016.toPandas()['total_sales'])]\n",
    "iplot(data)"
   ]
  },
  {
   "cell_type": "code",
   "execution_count": null,
   "metadata": {
    "collapsed": true
   },
   "outputs": [],
   "source": [
    "# In -progress....Didn't execute it yet\n",
    "data = [go.Histogram(x=sdfTrainTbl2017.toPandas()['total_sales'])]\n",
    "iplot(data)"
   ]
  },
  {
   "cell_type": "code",
   "execution_count": null,
   "metadata": {
    "collapsed": true
   },
   "outputs": [],
   "source": [
    "# In -progress....Didn't execute it yet\n",
    "data = [go.Histogram(x=sdfTrain.toPandas()['item_nbr'])]\n",
    "iplot(data)"
   ]
  },
  {
   "cell_type": "markdown",
   "metadata": {},
   "source": [
    "<b>Check relatioship between test and sample_submission </b>"
   ]
  },
  {
   "cell_type": "code",
   "execution_count": null,
   "metadata": {
    "collapsed": true
   },
   "outputs": [],
   "source": [
    "print(sdfTest.show(10))"
   ]
  },
  {
   "cell_type": "code",
   "execution_count": null,
   "metadata": {
    "collapsed": true
   },
   "outputs": [],
   "source": [
    "sdfSampleSubmission.createOrReplaceTempView(\"vwSampleSubmission\")"
   ]
  },
  {
   "cell_type": "code",
   "execution_count": null,
   "metadata": {
    "collapsed": true
   },
   "outputs": [],
   "source": [
    "sparkSession.sql('select * from vwSampleSubmission where id in (125497040, 125497041, 125497042, 125497043, 125497044, 125497045, 125497046, 125497047, 125497048, 125497049)').show()"
   ]
  },
  {
   "cell_type": "raw",
   "metadata": {},
   "source": [
    "10 records from test are present in sample_submission."
   ]
  },
  {
   "cell_type": "code",
   "execution_count": null,
   "metadata": {
    "collapsed": true
   },
   "outputs": [],
   "source": [
    "sdfTest.createOrReplaceTempView(\"vwTest\")"
   ]
  },
  {
   "cell_type": "code",
   "execution_count": null,
   "metadata": {
    "collapsed": true
   },
   "outputs": [],
   "source": [
    "sparkSession.sql('select count(*) from vwSampleSubmission, vwTest where vwSampleSubmission.id = vwTest.id').show()"
   ]
  },
  {
   "cell_type": "raw",
   "metadata": {},
   "source": [
    "So concludng that sample_submission contains all the ids from test. We have to give the predictions for unit_sales."
   ]
  },
  {
   "cell_type": "markdown",
   "metadata": {},
   "source": [
    "<b>Check relatioship between test and stores, items </b>"
   ]
  },
  {
   "cell_type": "code",
   "execution_count": null,
   "metadata": {
    "collapsed": true
   },
   "outputs": [],
   "source": [
    "sdfStores.createOrReplaceTempView(\"vwStores\")"
   ]
  },
  {
   "cell_type": "code",
   "execution_count": null,
   "metadata": {
    "collapsed": true
   },
   "outputs": [],
   "source": [
    "sdfItems.createOrReplaceTempView(\"vwItems\")"
   ]
  },
  {
   "cell_type": "code",
   "execution_count": null,
   "metadata": {
    "collapsed": true
   },
   "outputs": [],
   "source": [
    "sparkSession.sql('select count(distinct vwTest.item_nbr)  from vwItems, vwTest where vwItems.item_nbr = vwTest.item_nbr').show()"
   ]
  },
  {
   "cell_type": "raw",
   "metadata": {},
   "source": [
    "test has 3901 items while 4100 items are present in total"
   ]
  },
  {
   "cell_type": "code",
   "execution_count": null,
   "metadata": {
    "collapsed": true
   },
   "outputs": [],
   "source": [
    "sparkSession.sql('select count(distinct vwTest.store_nbr)  from vwStores, vwTest where vwStores.store_nbr = vwTest.store_nbr').show()"
   ]
  },
  {
   "cell_type": "raw",
   "metadata": {},
   "source": [
    "test has data for all the 54 stores"
   ]
  },
  {
   "cell_type": "markdown",
   "metadata": {},
   "source": [
    "<b>Check relatioship between train and stores, items </b>"
   ]
  },
  {
   "cell_type": "code",
   "execution_count": null,
   "metadata": {
    "collapsed": true
   },
   "outputs": [],
   "source": [
    "sdfStores.createOrReplaceTempView(\"vwStores\")"
   ]
  },
  {
   "cell_type": "code",
   "execution_count": null,
   "metadata": {
    "collapsed": true
   },
   "outputs": [],
   "source": [
    "sdfItems.createOrReplaceTempView(\"vwItems\")"
   ]
  },
  {
   "cell_type": "code",
   "execution_count": null,
   "metadata": {
    "collapsed": true
   },
   "outputs": [],
   "source": [
    "sdfTrain.createOrReplaceTempView(\"vwTrain\")"
   ]
  },
  {
   "cell_type": "code",
   "execution_count": null,
   "metadata": {
    "collapsed": true
   },
   "outputs": [],
   "source": [
    "sparkSession.sql('select count(distinct vwTrain.item_nbr)  from vwItems, vwTrain where vwItems.item_nbr = vwTrain.item_nbr').show()"
   ]
  },
  {
   "cell_type": "raw",
   "metadata": {},
   "source": [
    "train has 4036 items while 4100 items are present in total"
   ]
  },
  {
   "cell_type": "code",
   "execution_count": null,
   "metadata": {
    "collapsed": true
   },
   "outputs": [],
   "source": [
    "sparkSession.sql('select count(distinct vwTrain.store_nbr)  from vwStores, vwTrain where vwStores.store_nbr = vwTrain.store_nbr').show()"
   ]
  },
  {
   "cell_type": "raw",
   "metadata": {
    "collapsed": true
   },
   "source": [
    "train has data for all the 54 stores"
   ]
  },
  {
   "cell_type": "code",
   "execution_count": null,
   "metadata": {
    "collapsed": true
   },
   "outputs": [],
   "source": [
    "\n"
   ]
  }
 ],
 "metadata": {
  "kernelspec": {
   "display_name": "PySpark",
   "language": "python",
   "name": "pyspark"
  },
  "language_info": {
   "codemirror_mode": {
    "name": "ipython",
    "version": 2
   },
   "file_extension": ".py",
   "mimetype": "text/x-python",
   "name": "python",
   "nbconvert_exporter": "python",
   "pygments_lexer": "ipython2",
   "version": "2.7.14"
  }
 },
 "nbformat": 4,
 "nbformat_minor": 2
}
